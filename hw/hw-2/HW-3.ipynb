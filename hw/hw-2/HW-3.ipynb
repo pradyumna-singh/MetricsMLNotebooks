{
 "cells": [
  {
   "cell_type": "markdown",
   "id": "25b25898",
   "metadata": {},
   "source": [
    "# HW-3"
   ]
  },
  {
   "cell_type": "code",
   "execution_count": 329,
   "id": "b1e367cf",
   "metadata": {},
   "outputs": [],
   "source": [
    "import hdmpy\n",
    "import patsy\n",
    "import warnings\n",
    "import numpy as np\n",
    "import pandas as pd\n",
    "import statsmodels.formula.api as smf\n",
    "import statsmodels.api as sm\n",
    "\n",
    "import matplotlib.pyplot as plt\n",
    "\n",
    "from sklearn.linear_model import LinearRegression, LassoCV, RidgeCV, ElasticNetCV\n",
    "from sklearn.model_selection import KFold\n",
    "from sklearn.preprocessing import StandardScaler\n",
    "from sklearn.pipeline import make_pipeline\n",
    "from sklearn.base import BaseEstimator\n",
    "from statsmodels.api import add_constant\n",
    "from collections import defaultdict\n",
    "\n",
    "warnings.simplefilter('ignore')"
   ]
  },
  {
   "cell_type": "code",
   "execution_count": 422,
   "id": "96a18c99",
   "metadata": {},
   "outputs": [],
   "source": [
    "sample_sizes = [50, \n",
    "                150,\n",
    "                250, \n",
    "                350, \n",
    "                450, \n",
    "                550, \n",
    "                650, \n",
    "                750]\n",
    "d = 10 \n",
    "p = 0.2  \n",
    "delta = 1 \n",
    "base =0.3"
   ]
  },
  {
   "cell_type": "code",
   "execution_count": 423,
   "id": "dcce6303",
   "metadata": {},
   "outputs": [],
   "source": [
    "# A simple experimental data generating process\n",
    "def gen_data(n, d, p, delta, base):\n",
    "    D = np.random.binomial(1, p, size=(n,))\n",
    "    X = np.random.normal(0, 1, size=(n, d))\n",
    "    y0 = base - X[:, 0] + np.random.normal(0, 1, size=(n,))\n",
    "    y1 = delta + base - X[:, 0] + np.random.normal(0, 1, size=(n,))\n",
    "    y = y1 * D + y0 * (1 - D)\n",
    "    return y, D, X"
   ]
  },
  {
   "cell_type": "markdown",
   "id": "d17e69d3",
   "metadata": {},
   "source": [
    "#### Helper functions for Desparsified Lasso and Double Selection "
   ]
  },
  {
   "cell_type": "code",
   "execution_count": 424,
   "id": "f7305380",
   "metadata": {},
   "outputs": [],
   "source": [
    "cv = KFold(n_splits=5, shuffle=True, random_state=123)\n",
    "lasso_model = make_pipeline(StandardScaler(), LassoCV(cv=cv))\n",
    "\n",
    "def desparsified_lasso(y, D, W):\n",
    "    f = np.hstack([D.reshape(-1,1), W])\n",
    "    coefs = lasso_model.fit(f, y)\n",
    "    scaling_factors = lasso_model[0].scale_  ## get scaling factors for lasso\n",
    "    true_coefs = coefs[-1].coef_/scaling_factors  ## rescale the parameters\n",
    "    beta = true_coefs[1:]\n",
    "    Dres = D - lasso_model.fit(W, D).predict(W)\n",
    "    a_hat = np.mean((y - W@beta)*Dres)/np.mean(D*Dres)\n",
    "    epsilon = (y - a_hat*D - W@beta)\n",
    "    V = np.mean(epsilon**2 * Dres**2)/np.mean(D*Dres)**2\n",
    "    return a_hat, np.sqrt(V / y.shape[0])\n",
    "\n",
    "\n",
    "def double_selection(y, D, W):\n",
    "    X = W\n",
    "    W = W-W.mean(axis=0)\n",
    "    W_y_coeffs = lasso_model.fit(W, y)\n",
    "    W_D_coeffs = lasso_model.fit(W, D)\n",
    "    \n",
    "    W_y_ind = W_y_coeffs[-1].coef_.nonzero()   ## indices for controls that are non-zero\n",
    "    W_D_ind = W_D_coeffs[-1].coef_.nonzero()\n",
    "\n",
    "    ind = np.unique(np.union1d(W_y_ind, W_D_ind)) ##\n",
    "                    \n",
    "    f = np.column_stack((D, X[:,ind]))\n",
    "                    \n",
    "    f = f - f.mean(axis=0)\n",
    "    reg_ols = sm.OLS(y, f).fit(cov_type=\"HC1\")\n",
    "    return reg_ols.params[0], reg_ols.bse[0]\n"
   ]
  },
  {
   "cell_type": "markdown",
   "id": "12a90397",
   "metadata": {},
   "source": [
    "## Results for Double Selection"
   ]
  },
  {
   "cell_type": "code",
   "execution_count": 426,
   "id": "579b09ae",
   "metadata": {},
   "outputs": [
    {
     "name": "stdout",
     "output_type": "stream",
     "text": [
      "Interaction  =  True\n"
     ]
    },
    {
     "data": {
      "text/html": [
       "<div>\n",
       "<style scoped>\n",
       "    .dataframe tbody tr th:only-of-type {\n",
       "        vertical-align: middle;\n",
       "    }\n",
       "\n",
       "    .dataframe tbody tr th {\n",
       "        vertical-align: top;\n",
       "    }\n",
       "\n",
       "    .dataframe thead th {\n",
       "        text-align: right;\n",
       "    }\n",
       "</style>\n",
       "<table border=\"1\" class=\"dataframe\">\n",
       "  <thead>\n",
       "    <tr style=\"text-align: right;\">\n",
       "      <th></th>\n",
       "      <th>coverage</th>\n",
       "      <th>ATE</th>\n",
       "      <th>std err</th>\n",
       "    </tr>\n",
       "  </thead>\n",
       "  <tbody>\n",
       "    <tr>\n",
       "      <th>50</th>\n",
       "      <td>0.89</td>\n",
       "      <td>0.819496</td>\n",
       "      <td>0.727397</td>\n",
       "    </tr>\n",
       "    <tr>\n",
       "      <th>150</th>\n",
       "      <td>0.98</td>\n",
       "      <td>1.000679</td>\n",
       "      <td>0.313889</td>\n",
       "    </tr>\n",
       "    <tr>\n",
       "      <th>250</th>\n",
       "      <td>0.96</td>\n",
       "      <td>1.024386</td>\n",
       "      <td>0.233388</td>\n",
       "    </tr>\n",
       "    <tr>\n",
       "      <th>350</th>\n",
       "      <td>0.96</td>\n",
       "      <td>0.992420</td>\n",
       "      <td>0.197360</td>\n",
       "    </tr>\n",
       "    <tr>\n",
       "      <th>450</th>\n",
       "      <td>1.00</td>\n",
       "      <td>1.012822</td>\n",
       "      <td>0.177416</td>\n",
       "    </tr>\n",
       "    <tr>\n",
       "      <th>550</th>\n",
       "      <td>0.96</td>\n",
       "      <td>1.022912</td>\n",
       "      <td>0.157020</td>\n",
       "    </tr>\n",
       "    <tr>\n",
       "      <th>650</th>\n",
       "      <td>0.97</td>\n",
       "      <td>1.019157</td>\n",
       "      <td>0.145040</td>\n",
       "    </tr>\n",
       "    <tr>\n",
       "      <th>750</th>\n",
       "      <td>0.99</td>\n",
       "      <td>1.001681</td>\n",
       "      <td>0.135498</td>\n",
       "    </tr>\n",
       "  </tbody>\n",
       "</table>\n",
       "</div>"
      ],
      "text/plain": [
       "     coverage       ATE   std err\n",
       "50       0.89  0.819496  0.727397\n",
       "150      0.98  1.000679  0.313889\n",
       "250      0.96  1.024386  0.233388\n",
       "350      0.96  0.992420  0.197360\n",
       "450      1.00  1.012822  0.177416\n",
       "550      0.96  1.022912  0.157020\n",
       "650      0.97  1.019157  0.145040\n",
       "750      0.99  1.001681  0.135498"
      ]
     },
     "metadata": {},
     "output_type": "display_data"
    },
    {
     "name": "stdout",
     "output_type": "stream",
     "text": [
      "Interaction  =  False\n"
     ]
    },
    {
     "data": {
      "text/html": [
       "<div>\n",
       "<style scoped>\n",
       "    .dataframe tbody tr th:only-of-type {\n",
       "        vertical-align: middle;\n",
       "    }\n",
       "\n",
       "    .dataframe tbody tr th {\n",
       "        vertical-align: top;\n",
       "    }\n",
       "\n",
       "    .dataframe thead th {\n",
       "        text-align: right;\n",
       "    }\n",
       "</style>\n",
       "<table border=\"1\" class=\"dataframe\">\n",
       "  <thead>\n",
       "    <tr style=\"text-align: right;\">\n",
       "      <th></th>\n",
       "      <th>coverage</th>\n",
       "      <th>ATE</th>\n",
       "      <th>std err</th>\n",
       "    </tr>\n",
       "  </thead>\n",
       "  <tbody>\n",
       "    <tr>\n",
       "      <th>50</th>\n",
       "      <td>0.96</td>\n",
       "      <td>1.022993</td>\n",
       "      <td>0.512864</td>\n",
       "    </tr>\n",
       "    <tr>\n",
       "      <th>150</th>\n",
       "      <td>0.97</td>\n",
       "      <td>0.986573</td>\n",
       "      <td>0.299161</td>\n",
       "    </tr>\n",
       "    <tr>\n",
       "      <th>250</th>\n",
       "      <td>0.97</td>\n",
       "      <td>1.017919</td>\n",
       "      <td>0.230679</td>\n",
       "    </tr>\n",
       "    <tr>\n",
       "      <th>350</th>\n",
       "      <td>1.00</td>\n",
       "      <td>0.991760</td>\n",
       "      <td>0.192498</td>\n",
       "    </tr>\n",
       "    <tr>\n",
       "      <th>450</th>\n",
       "      <td>0.99</td>\n",
       "      <td>1.006755</td>\n",
       "      <td>0.169485</td>\n",
       "    </tr>\n",
       "    <tr>\n",
       "      <th>550</th>\n",
       "      <td>0.99</td>\n",
       "      <td>1.012847</td>\n",
       "      <td>0.156375</td>\n",
       "    </tr>\n",
       "    <tr>\n",
       "      <th>650</th>\n",
       "      <td>0.96</td>\n",
       "      <td>0.997779</td>\n",
       "      <td>0.142659</td>\n",
       "    </tr>\n",
       "    <tr>\n",
       "      <th>750</th>\n",
       "      <td>0.95</td>\n",
       "      <td>0.985302</td>\n",
       "      <td>0.132480</td>\n",
       "    </tr>\n",
       "  </tbody>\n",
       "</table>\n",
       "</div>"
      ],
      "text/plain": [
       "     coverage       ATE   std err\n",
       "50       0.96  1.022993  0.512864\n",
       "150      0.97  0.986573  0.299161\n",
       "250      0.97  1.017919  0.230679\n",
       "350      1.00  0.991760  0.192498\n",
       "450      0.99  1.006755  0.169485\n",
       "550      0.99  1.012847  0.156375\n",
       "650      0.96  0.997779  0.142659\n",
       "750      0.95  0.985302  0.132480"
      ]
     },
     "metadata": {},
     "output_type": "display_data"
    },
    {
     "data": {
      "image/png": "[encoded data removed]",
      "text/plain": [
       "<Figure size 432x288 with 1 Axes>"
      ]
     },
     "metadata": {
      "needs_background": "light"
     },
     "output_type": "display_data"
    }
   ],
   "source": [
    "np.random.seed(42)\n",
    "p = 0.2\n",
    "def get_coverage_doubleSelection(sample_sizes, d, p, delta, base, trials, interaction):\n",
    "    params = defaultdict(list)\n",
    "    coverage = {}\n",
    "    for sample_size in sample_sizes:\n",
    "        cov, hats, stderrs = [], [], [],\n",
    "        for _ in range(trials):\n",
    "            y, D, X = gen_data(sample_size, d, p, delta, base)\n",
    "#             X = X-X.mean(axis=0)\n",
    "            if not interaction: \n",
    "                hat, stderr = double_selection(y, D, X)\n",
    "            else:\n",
    "                hat, stderr = double_selection(y, D, np.hstack([D.reshape(-1,1)*X, X]))\n",
    "            hats.append(hat)\n",
    "            stderrs.append(stderr)\n",
    "            ci = [hat - 1.96 * stderr, hat + 1.96 * stderr]\n",
    "            cov += [(ci[0] <= delta) & (delta <= ci[1])] \n",
    "        coverage[sample_size] = np.mean(cov)\n",
    "        params[sample_size].append(np.mean(cov))\n",
    "        params[sample_size].append(np.mean(hats))\n",
    "        params[sample_size].append(np.mean(stderrs))\n",
    "    return coverage, params\n",
    "\n",
    "\n",
    "interactions = [True, False]\n",
    "\n",
    "for interaction in interactions:\n",
    "    coverage, params = get_coverage_doubleSelection(p=p, sample_sizes=sample_sizes, d=d, delta=delta, base=base, trials=100, interaction=interaction)\n",
    "    lists = sorted(coverage.items()) \n",
    "    x, y = zip(*lists) \n",
    "    plt.plot(x, y, label = f'Interaction = {interaction}')\n",
    "    plt.xlabel(\"Num of samples\")\n",
    "    plt.ylabel(\"Coverage\")\n",
    "    plt.legend()\n",
    "    print(f'Interaction  =  {interaction}')\n",
    "    display(pd.DataFrame.from_dict(params, orient='index', columns=[\"coverage\", \"ATE\", \"std err\"]))"
   ]
  },
  {
   "cell_type": "code",
   "execution_count": 427,
   "id": "86ab6df5",
   "metadata": {},
   "outputs": [],
   "source": [
    "df = pd.DataFrame.from_dict(params, orient='index', columns=[\"coverage\", \"ATE\", \"std err\"])"
   ]
  },
  {
   "cell_type": "markdown",
   "id": "d25e52ac",
   "metadata": {},
   "source": [
    "### Bias (mean absolute error)"
   ]
  },
  {
   "cell_type": "code",
   "execution_count": 430,
   "id": "ab9428db",
   "metadata": {},
   "outputs": [
    {
     "data": {
      "text/plain": [
       "0.012387433013039281"
      ]
     },
     "execution_count": 430,
     "metadata": {},
     "output_type": "execute_result"
    }
   ],
   "source": [
    "np.mean(np.abs(df[\"ATE\"]-delta))"
   ]
  },
  {
   "cell_type": "markdown",
   "id": "2e005cc1",
   "metadata": {},
   "source": [
    "## Results for Desparsified LASSO"
   ]
  },
  {
   "cell_type": "code",
   "execution_count": 431,
   "id": "56fbf5fa",
   "metadata": {},
   "outputs": [
    {
     "name": "stdout",
     "output_type": "stream",
     "text": [
      "Interaction  =  True\n"
     ]
    },
    {
     "data": {
      "text/html": [
       "<div>\n",
       "<style scoped>\n",
       "    .dataframe tbody tr th:only-of-type {\n",
       "        vertical-align: middle;\n",
       "    }\n",
       "\n",
       "    .dataframe tbody tr th {\n",
       "        vertical-align: top;\n",
       "    }\n",
       "\n",
       "    .dataframe thead th {\n",
       "        text-align: right;\n",
       "    }\n",
       "</style>\n",
       "<table border=\"1\" class=\"dataframe\">\n",
       "  <thead>\n",
       "    <tr style=\"text-align: right;\">\n",
       "      <th></th>\n",
       "      <th>coverage</th>\n",
       "      <th>ATE</th>\n",
       "      <th>std err</th>\n",
       "    </tr>\n",
       "  </thead>\n",
       "  <tbody>\n",
       "    <tr>\n",
       "      <th>50</th>\n",
       "      <td>0.86</td>\n",
       "      <td>0.899823</td>\n",
       "      <td>0.362631</td>\n",
       "    </tr>\n",
       "    <tr>\n",
       "      <th>150</th>\n",
       "      <td>0.96</td>\n",
       "      <td>0.968253</td>\n",
       "      <td>0.204395</td>\n",
       "    </tr>\n",
       "    <tr>\n",
       "      <th>250</th>\n",
       "      <td>0.92</td>\n",
       "      <td>1.014350</td>\n",
       "      <td>0.156649</td>\n",
       "    </tr>\n",
       "    <tr>\n",
       "      <th>350</th>\n",
       "      <td>0.94</td>\n",
       "      <td>1.002617</td>\n",
       "      <td>0.135015</td>\n",
       "    </tr>\n",
       "    <tr>\n",
       "      <th>450</th>\n",
       "      <td>0.98</td>\n",
       "      <td>1.005028</td>\n",
       "      <td>0.122780</td>\n",
       "    </tr>\n",
       "    <tr>\n",
       "      <th>550</th>\n",
       "      <td>0.98</td>\n",
       "      <td>1.014057</td>\n",
       "      <td>0.108360</td>\n",
       "    </tr>\n",
       "    <tr>\n",
       "      <th>650</th>\n",
       "      <td>0.99</td>\n",
       "      <td>1.007614</td>\n",
       "      <td>0.100756</td>\n",
       "    </tr>\n",
       "    <tr>\n",
       "      <th>750</th>\n",
       "      <td>0.94</td>\n",
       "      <td>0.988537</td>\n",
       "      <td>0.093928</td>\n",
       "    </tr>\n",
       "  </tbody>\n",
       "</table>\n",
       "</div>"
      ],
      "text/plain": [
       "     coverage       ATE   std err\n",
       "50       0.86  0.899823  0.362631\n",
       "150      0.96  0.968253  0.204395\n",
       "250      0.92  1.014350  0.156649\n",
       "350      0.94  1.002617  0.135015\n",
       "450      0.98  1.005028  0.122780\n",
       "550      0.98  1.014057  0.108360\n",
       "650      0.99  1.007614  0.100756\n",
       "750      0.94  0.988537  0.093928"
      ]
     },
     "metadata": {},
     "output_type": "display_data"
    },
    {
     "name": "stdout",
     "output_type": "stream",
     "text": [
      "Interaction  =  False\n"
     ]
    },
    {
     "data": {
      "text/html": [
       "<div>\n",
       "<style scoped>\n",
       "    .dataframe tbody tr th:only-of-type {\n",
       "        vertical-align: middle;\n",
       "    }\n",
       "\n",
       "    .dataframe tbody tr th {\n",
       "        vertical-align: top;\n",
       "    }\n",
       "\n",
       "    .dataframe thead th {\n",
       "        text-align: right;\n",
       "    }\n",
       "</style>\n",
       "<table border=\"1\" class=\"dataframe\">\n",
       "  <thead>\n",
       "    <tr style=\"text-align: right;\">\n",
       "      <th></th>\n",
       "      <th>coverage</th>\n",
       "      <th>ATE</th>\n",
       "      <th>std err</th>\n",
       "    </tr>\n",
       "  </thead>\n",
       "  <tbody>\n",
       "    <tr>\n",
       "      <th>50</th>\n",
       "      <td>0.94</td>\n",
       "      <td>1.017834</td>\n",
       "      <td>0.337124</td>\n",
       "    </tr>\n",
       "    <tr>\n",
       "      <th>150</th>\n",
       "      <td>0.91</td>\n",
       "      <td>0.970864</td>\n",
       "      <td>0.210441</td>\n",
       "    </tr>\n",
       "    <tr>\n",
       "      <th>250</th>\n",
       "      <td>0.93</td>\n",
       "      <td>1.018414</td>\n",
       "      <td>0.163603</td>\n",
       "    </tr>\n",
       "    <tr>\n",
       "      <th>350</th>\n",
       "      <td>0.97</td>\n",
       "      <td>0.995236</td>\n",
       "      <td>0.137561</td>\n",
       "    </tr>\n",
       "    <tr>\n",
       "      <th>450</th>\n",
       "      <td>0.94</td>\n",
       "      <td>1.003683</td>\n",
       "      <td>0.121578</td>\n",
       "    </tr>\n",
       "    <tr>\n",
       "      <th>550</th>\n",
       "      <td>0.95</td>\n",
       "      <td>1.007152</td>\n",
       "      <td>0.111367</td>\n",
       "    </tr>\n",
       "    <tr>\n",
       "      <th>650</th>\n",
       "      <td>0.96</td>\n",
       "      <td>0.999519</td>\n",
       "      <td>0.101347</td>\n",
       "    </tr>\n",
       "    <tr>\n",
       "      <th>750</th>\n",
       "      <td>0.93</td>\n",
       "      <td>0.985745</td>\n",
       "      <td>0.095484</td>\n",
       "    </tr>\n",
       "  </tbody>\n",
       "</table>\n",
       "</div>"
      ],
      "text/plain": [
       "     coverage       ATE   std err\n",
       "50       0.94  1.017834  0.337124\n",
       "150      0.91  0.970864  0.210441\n",
       "250      0.93  1.018414  0.163603\n",
       "350      0.97  0.995236  0.137561\n",
       "450      0.94  1.003683  0.121578\n",
       "550      0.95  1.007152  0.111367\n",
       "650      0.96  0.999519  0.101347\n",
       "750      0.93  0.985745  0.095484"
      ]
     },
     "metadata": {},
     "output_type": "display_data"
    },
    {
     "data": {
      "image/png": "[encoded data removed]",
      "text/plain": [
       "<Figure size 432x288 with 1 Axes>"
      ]
     },
     "metadata": {
      "needs_background": "light"
     },
     "output_type": "display_data"
    }
   ],
   "source": [
    "np.random.seed(42)\n",
    "p = 0.2\n",
    "def get_coverage_desparsifiedLASSO(sample_sizes, d, p, delta, base, trials, interaction):\n",
    "    params = defaultdict(list)\n",
    "    coverage = {}\n",
    "    for sample_size in sample_sizes:\n",
    "        cov, hats, stderrs = [], [], [],\n",
    "        for _ in range(trials):\n",
    "            y, D, X = gen_data(sample_size, d, p, delta, base)\n",
    "            X = X-X.mean(axis=0)\n",
    "            if not interaction: \n",
    "                hat, stderr = desparsified_lasso(y, D, X)\n",
    "            else:\n",
    "                hat, stderr = desparsified_lasso(y, D, np.hstack([D.reshape(-1,1)*X, X]))\n",
    "            hats.append(hat)\n",
    "            stderrs.append(stderr)\n",
    "            ci = [hat - 1.96 * stderr, hat + 1.96 * stderr]\n",
    "            cov += [(ci[0] <= delta) & (delta <= ci[1])] \n",
    "        coverage[sample_size] = np.mean(cov)\n",
    "        params[sample_size].append(np.mean(cov))\n",
    "        params[sample_size].append(np.mean(hats))\n",
    "        params[sample_size].append(np.mean(stderrs))\n",
    "    return coverage, params\n",
    "\n",
    "\n",
    "interactions = [True, False]\n",
    "\n",
    "for interaction in interactions:\n",
    "    coverage, params = get_coverage_desparsifiedLASSO(p=p, sample_sizes=sample_sizes, d=d, delta=delta, base=base, trials=100, interaction=interaction)\n",
    "    lists = sorted(coverage.items()) \n",
    "    x, y = zip(*lists) \n",
    "    plt.plot(x, y, label = f'Interaction = {interaction}')\n",
    "    plt.xlabel(\"Num of samples\")\n",
    "    plt.ylabel(\"Coverage\")\n",
    "    plt.legend()\n",
    "    print(f'Interaction  =  {interaction}')\n",
    "    display(pd.DataFrame.from_dict(params, orient='index', columns=[\"coverage\", \"ATE\", \"std err\"]))"
   ]
  },
  {
   "cell_type": "markdown",
   "id": "b5f92019",
   "metadata": {},
   "source": [
    "#### The overall behavior is very similar to the double LASSO with coverage being achieved in relatively few samples ~350."
   ]
  },
  {
   "cell_type": "markdown",
   "id": "19afcd6b",
   "metadata": {},
   "source": [
    "### Bias (mean absolute error)"
   ]
  },
  {
   "cell_type": "code",
   "execution_count": 432,
   "id": "96c1ff72",
   "metadata": {},
   "outputs": [
    {
     "data": {
      "text/plain": [
       "0.011964883545983324"
      ]
     },
     "execution_count": 432,
     "metadata": {},
     "output_type": "execute_result"
    }
   ],
   "source": [
    "df = pd.DataFrame.from_dict(params, orient='index', columns=[\"coverage\", \"ATE\", \"std err\"])\n",
    "np.mean(np.abs(df[\"ATE\"]-delta))"
   ]
  },
  {
   "cell_type": "code",
   "execution_count": null,
   "id": "7dc7c01f",
   "metadata": {},
   "outputs": [],
   "source": []
  }
 ],
 "metadata": {
  "kernelspec": {
   "display_name": "Python 3 (ipykernel)",
   "language": "python",
   "name": "python3"
  },
  "language_info": {
   "codemirror_mode": {
    "name": "ipython",
    "version": 3
   },
   "file_extension": ".py",
   "mimetype": "text/x-python",
   "name": "python",
   "nbconvert_exporter": "python",
   "pygments_lexer": "ipython3",
   "version": "3.9.12"
  }
 },
 "nbformat": 4,
 "nbformat_minor": 5
}
