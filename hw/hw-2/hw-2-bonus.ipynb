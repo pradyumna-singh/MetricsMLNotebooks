{
 "cells": [
  {
   "cell_type": "code",
   "execution_count": 6,
   "metadata": {},
   "outputs": [],
   "source": [
    "# !pip install multiprocess\n",
    "# !pip install pyreadr\n",
    "# !git clone https://github.com/maxhuppertz/hdmpy.git"
   ]
  },
  {
   "cell_type": "code",
   "execution_count": 2,
   "metadata": {},
   "outputs": [],
   "source": [
    "import hdmpy\n",
    "import patsy\n",
    "import warnings\n",
    "import numpy as np\n",
    "import pandas as pd\n",
    "import statsmodels.formula.api as smf\n",
    "import statsmodels.api as sm\n",
    "import matplotlib.pyplot as plt\n",
    "\n",
    "from sklearn.linear_model import LinearRegression, LassoCV, RidgeCV, ElasticNetCV\n",
    "from sklearn.model_selection import KFold\n",
    "from sklearn.preprocessing import StandardScaler\n",
    "from sklearn.pipeline import make_pipeline\n",
    "from sklearn.base import BaseEstimator\n",
    "from collections import defaultdict\n",
    "\n",
    "warnings.simplefilter('ignore')"
   ]
  },
  {
   "cell_type": "code",
   "execution_count": 3,
   "metadata": {},
   "outputs": [],
   "source": [
    "sample_sizes = [50, 150, 250, 350, 450, 550, 650, 750]\n",
    "d = 10 \n",
    "p = 0.2  \n",
    "delta = 1 \n",
    "base =0.3\n",
    "\n",
    "\n",
    "# A simple experimental data generating process\n",
    "def gen_data(n, d, p, delta, base):\n",
    "    D = np.random.binomial(1, p, size=(n,))\n",
    "    X = np.random.normal(0, 1, size=(n, d))\n",
    "    y0 = base - X[:, 0] + np.random.normal(0, 1, size=(n,))\n",
    "    y1 = delta + base - X[:, 0] + np.random.normal(0, 1, size=(n,))\n",
    "    y = y1 * D + y0 * (1 - D)\n",
    "    return y, D, X\n"
   ]
  },
  {
   "cell_type": "code",
   "execution_count": 4,
   "metadata": {},
   "outputs": [],
   "source": [
    "class RLasso(BaseEstimator):\n",
    "    \n",
    "    def __init__(self, *, post=False):\n",
    "        self.post = post\n",
    "\n",
    "    def fit(self, X, y):\n",
    "        self.rlasso_ = hdmpy.rlasso(X, y, post=self.post)\n",
    "        return self\n",
    "\n",
    "    @property\n",
    "    def coef_(self):\n",
    "        return np.array(self.rlasso_.est['beta']).flatten()\n",
    "\n",
    "    def predict(self, X):\n",
    "        return X @ self.coef_ + np.array(self.rlasso_.est['intercept'])"
   ]
  },
  {
   "cell_type": "code",
   "execution_count": 5,
   "metadata": {},
   "outputs": [
    {
     "data": {
      "image/png": "[encoded data removed]",
      "text/plain": [
       "<Figure size 432x288 with 1 Axes>"
      ]
     },
     "metadata": {
      "needs_background": "light"
     },
     "output_type": "display_data"
    }
   ],
   "source": [
    "def double_Rlasso(y, D, W):\n",
    "    yres = y - RLasso().fit(W, y).predict(W)   ### Replace LASSO-CV with RLasso\n",
    "    Dres = D - RLasso().fit(W, D).predict(W)   ### Replace LASSO-CV with RLasso\n",
    "    hat = np.mean(yres * Dres) / np.mean(Dres**2)\n",
    "    epsilon = yres - hat * Dres\n",
    "    V = np.mean(epsilon**2 * Dres**2) / np.mean(Dres**2)**2\n",
    "    return hat, np.sqrt(V / y.shape[0])\n",
    "    \n",
    "\n",
    "\n",
    "np.random.seed(42)\n",
    "p = 0.2\n",
    "def get_coverage_RLASSO(sample_sizes, d, p, delta, base, trials, interaction):\n",
    "    coverage = {}\n",
    "    for sample_size in sample_sizes:\n",
    "        cov = []\n",
    "        for _ in range(trials):\n",
    "            y, D, X = gen_data(sample_size, d, p, delta, base)\n",
    "            X = X-X.mean(axis=0)\n",
    "            if not interaction: \n",
    "                hat, stderr = double_Rlasso(y, D, X)\n",
    "            else:\n",
    "                hat, stderr = double_Rlasso(y, D, np.hstack([D.reshape(-1,1)*X, X]))\n",
    "            ci = [hat - 1.96 * stderr, hat + 1.96 * stderr]\n",
    "            cov += [(ci[0] <= delta) & (delta <= ci[1])] \n",
    "        coverage[sample_size] = np.mean(cov)\n",
    "    return coverage\n",
    "\n",
    "\n",
    "interactions = [True, False]\n",
    "\n",
    "for interaction in interactions:\n",
    "\n",
    "    coverage = get_coverage_RLASSO(p=p, sample_sizes=sample_sizes, d=d, delta=delta, base=base, trials=1000, interaction=interaction)\n",
    "    lists = sorted(coverage.items()) \n",
    "    x, y = zip(*lists) \n",
    "    plt.plot(x, y, label = f'Interaction = {interaction}')\n",
    "    plt.xlabel(\"Num of samples\")\n",
    "    plt.ylabel(\"Coverage\")\n",
    "    plt.legend()"
   ]
  },
  {
   "cell_type": "code",
   "execution_count": null,
   "metadata": {},
   "outputs": [],
   "source": []
  }
 ],
 "metadata": {
  "kernelspec": {
   "display_name": "Python 3",
   "language": "python",
   "name": "python3"
  },
  "language_info": {
   "codemirror_mode": {
    "name": "ipython",
    "version": 3
   },
   "file_extension": ".py",
   "mimetype": "text/x-python",
   "name": "python",
   "nbconvert_exporter": "python",
   "pygments_lexer": "ipython3",
   "version": "3.9.12"
  },
  "orig_nbformat": 4,
  "vscode": {
   "interpreter": {
    "hash": "ef5409bb570236fae1dccdf21433667616527051aea176aeac2e86289f5e2539"
   }
  }
 },
 "nbformat": 4,
 "nbformat_minor": 2
}
