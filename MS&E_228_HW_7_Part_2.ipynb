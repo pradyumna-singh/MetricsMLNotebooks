{
  "cells": [
    {
      "cell_type": "markdown",
      "metadata": {
        "id": "view-in-github",
        "colab_type": "text"
      },
      "source": [
        "<a href=\"https://colab.research.google.com/github/pradyumna-singh/MetricsMLNotebooks/blob/main/MS%26E_228_HW_7_Part_2.ipynb\" target=\"_parent\"><img src=\"https://colab.research.google.com/assets/colab-badge.svg\" alt=\"Open In Colab\"/></a>"
      ]
    },
    {
      "cell_type": "markdown",
      "metadata": {
        "id": "XdoWO3QuIK0w"
      },
      "source": [
        "# **MS&E 228 Homework 7**: Part 2\n",
        "Due March 23"
      ]
    },
    {
      "cell_type": "code",
      "execution_count": null,
      "metadata": {
        "id": "KxWfC4Mtpi_k"
      },
      "outputs": [],
      "source": [
        "# %load_ext autoreload\n",
        "# %autoreload 2\n",
        "# %matplotlib inline"
      ]
    },
    {
      "cell_type": "code",
      "execution_count": null,
      "metadata": {
        "id": "HXxw_N_Ubijq"
      },
      "outputs": [],
      "source": [
        "from itertools import count\n",
        "import os\n",
        "import re\n",
        "import scipy\n",
        "import scipy.special\n",
        "import joblib\n",
        "\n",
        "import numpy as np\n",
        "import pandas as pd\n",
        "import seaborn as sns\n",
        "import matplotlib.pyplot as plt"
      ]
    },
    {
      "cell_type": "code",
      "execution_count": null,
      "metadata": {
        "id": "RVLmCSe6pMYp",
        "colab": {
          "base_uri": "https://localhost:8080/"
        },
        "outputId": "60f5d2cf-1cf6-40b5-888b-ed727104b8ba"
      },
      "outputs": [
        {
          "output_type": "stream",
          "name": "stdout",
          "text": [
            "Looking in indexes: https://pypi.org/simple, https://us-python.pkg.dev/colab-wheels/public/simple/\n",
            "Requirement already satisfied: flaml[notebook] in /usr/local/lib/python3.9/dist-packages (1.1.3)\n",
            "Requirement already satisfied: lightgbm>=2.3.1 in /usr/local/lib/python3.9/dist-packages (from flaml[notebook]) (3.3.5)\n",
            "Requirement already satisfied: scikit-learn>=0.24 in /usr/local/lib/python3.9/dist-packages (from flaml[notebook]) (1.2.2)\n",
            "Requirement already satisfied: pandas>=1.1.4 in /usr/local/lib/python3.9/dist-packages (from flaml[notebook]) (1.4.4)\n",
            "Requirement already satisfied: scipy>=1.4.1 in /usr/local/lib/python3.9/dist-packages (from flaml[notebook]) (1.10.1)\n",
            "Requirement already satisfied: xgboost>=0.90 in /usr/local/lib/python3.9/dist-packages (from flaml[notebook]) (1.7.4)\n",
            "Requirement already satisfied: NumPy>=1.17.0rc1 in /usr/local/lib/python3.9/dist-packages (from flaml[notebook]) (1.22.4)\n",
            "Requirement already satisfied: matplotlib in /usr/local/lib/python3.9/dist-packages (from flaml[notebook]) (3.7.1)\n",
            "Requirement already satisfied: jupyter in /usr/local/lib/python3.9/dist-packages (from flaml[notebook]) (1.0.0)\n",
            "Requirement already satisfied: openml==0.10.2 in /usr/local/lib/python3.9/dist-packages (from flaml[notebook]) (0.10.2)\n",
            "Requirement already satisfied: requests in /usr/local/lib/python3.9/dist-packages (from openml==0.10.2->flaml[notebook]) (2.27.1)\n",
            "Requirement already satisfied: liac-arff>=2.4.0 in /usr/local/lib/python3.9/dist-packages (from openml==0.10.2->flaml[notebook]) (2.5.0)\n",
            "Requirement already satisfied: python-dateutil in /usr/local/lib/python3.9/dist-packages (from openml==0.10.2->flaml[notebook]) (2.8.2)\n",
            "Requirement already satisfied: xmltodict in /usr/local/lib/python3.9/dist-packages (from openml==0.10.2->flaml[notebook]) (0.13.0)\n",
            "Requirement already satisfied: wheel in /usr/local/lib/python3.9/dist-packages (from lightgbm>=2.3.1->flaml[notebook]) (0.40.0)\n",
            "Requirement already satisfied: pytz>=2020.1 in /usr/local/lib/python3.9/dist-packages (from pandas>=1.1.4->flaml[notebook]) (2022.7.1)\n",
            "Requirement already satisfied: threadpoolctl>=2.0.0 in /usr/local/lib/python3.9/dist-packages (from scikit-learn>=0.24->flaml[notebook]) (3.1.0)\n",
            "Requirement already satisfied: joblib>=1.1.1 in /usr/local/lib/python3.9/dist-packages (from scikit-learn>=0.24->flaml[notebook]) (1.1.1)\n",
            "Requirement already satisfied: nbconvert in /usr/local/lib/python3.9/dist-packages (from jupyter->flaml[notebook]) (6.5.4)\n",
            "Requirement already satisfied: qtconsole in /usr/local/lib/python3.9/dist-packages (from jupyter->flaml[notebook]) (5.4.1)\n",
            "Requirement already satisfied: notebook in /usr/local/lib/python3.9/dist-packages (from jupyter->flaml[notebook]) (6.3.0)\n",
            "Requirement already satisfied: ipywidgets in /usr/local/lib/python3.9/dist-packages (from jupyter->flaml[notebook]) (7.7.1)\n",
            "Requirement already satisfied: jupyter-console in /usr/local/lib/python3.9/dist-packages (from jupyter->flaml[notebook]) (6.1.0)\n",
            "Requirement already satisfied: ipykernel in /usr/local/lib/python3.9/dist-packages (from jupyter->flaml[notebook]) (5.3.4)\n",
            "Requirement already satisfied: fonttools>=4.22.0 in /usr/local/lib/python3.9/dist-packages (from matplotlib->flaml[notebook]) (4.39.2)\n",
            "Requirement already satisfied: packaging>=20.0 in /usr/local/lib/python3.9/dist-packages (from matplotlib->flaml[notebook]) (23.0)\n",
            "Requirement already satisfied: contourpy>=1.0.1 in /usr/local/lib/python3.9/dist-packages (from matplotlib->flaml[notebook]) (1.0.7)\n",
            "Requirement already satisfied: kiwisolver>=1.0.1 in /usr/local/lib/python3.9/dist-packages (from matplotlib->flaml[notebook]) (1.4.4)\n",
            "Requirement already satisfied: cycler>=0.10 in /usr/local/lib/python3.9/dist-packages (from matplotlib->flaml[notebook]) (0.11.0)\n",
            "Requirement already satisfied: pyparsing>=2.3.1 in /usr/local/lib/python3.9/dist-packages (from matplotlib->flaml[notebook]) (3.0.9)\n",
            "Requirement already satisfied: importlib-resources>=3.2.0 in /usr/local/lib/python3.9/dist-packages (from matplotlib->flaml[notebook]) (5.12.0)\n",
            "Requirement already satisfied: pillow>=6.2.0 in /usr/local/lib/python3.9/dist-packages (from matplotlib->flaml[notebook]) (8.4.0)\n",
            "Requirement already satisfied: zipp>=3.1.0 in /usr/local/lib/python3.9/dist-packages (from importlib-resources>=3.2.0->matplotlib->flaml[notebook]) (3.15.0)\n",
            "Requirement already satisfied: six>=1.5 in /usr/local/lib/python3.9/dist-packages (from python-dateutil->openml==0.10.2->flaml[notebook]) (1.16.0)\n",
            "Requirement already satisfied: jupyter-client in /usr/local/lib/python3.9/dist-packages (from ipykernel->jupyter->flaml[notebook]) (6.1.12)\n",
            "Requirement already satisfied: tornado>=4.2 in /usr/local/lib/python3.9/dist-packages (from ipykernel->jupyter->flaml[notebook]) (6.2)\n",
            "Requirement already satisfied: ipython>=5.0.0 in /usr/local/lib/python3.9/dist-packages (from ipykernel->jupyter->flaml[notebook]) (7.9.0)\n",
            "Requirement already satisfied: traitlets>=4.1.0 in /usr/local/lib/python3.9/dist-packages (from ipykernel->jupyter->flaml[notebook]) (5.7.1)\n",
            "Requirement already satisfied: widgetsnbextension~=3.6.0 in /usr/local/lib/python3.9/dist-packages (from ipywidgets->jupyter->flaml[notebook]) (3.6.3)\n",
            "Requirement already satisfied: ipython-genutils~=0.2.0 in /usr/local/lib/python3.9/dist-packages (from ipywidgets->jupyter->flaml[notebook]) (0.2.0)\n",
            "Requirement already satisfied: jupyterlab-widgets>=1.0.0 in /usr/local/lib/python3.9/dist-packages (from ipywidgets->jupyter->flaml[notebook]) (3.0.6)\n",
            "Requirement already satisfied: pygments in /usr/local/lib/python3.9/dist-packages (from jupyter-console->jupyter->flaml[notebook]) (2.6.1)\n",
            "Requirement already satisfied: prompt-toolkit!=3.0.0,!=3.0.1,<3.1.0,>=2.0.0 in /usr/local/lib/python3.9/dist-packages (from jupyter-console->jupyter->flaml[notebook]) (2.0.10)\n",
            "Requirement already satisfied: defusedxml in /usr/local/lib/python3.9/dist-packages (from nbconvert->jupyter->flaml[notebook]) (0.7.1)\n",
            "Requirement already satisfied: entrypoints>=0.2.2 in /usr/local/lib/python3.9/dist-packages (from nbconvert->jupyter->flaml[notebook]) (0.4)\n",
            "Requirement already satisfied: lxml in /usr/local/lib/python3.9/dist-packages (from nbconvert->jupyter->flaml[notebook]) (4.9.2)\n",
            "Requirement already satisfied: jupyterlab-pygments in /usr/local/lib/python3.9/dist-packages (from nbconvert->jupyter->flaml[notebook]) (0.2.2)\n",
            "Requirement already satisfied: jupyter-core>=4.7 in /usr/local/lib/python3.9/dist-packages (from nbconvert->jupyter->flaml[notebook]) (5.3.0)\n",
            "Requirement already satisfied: mistune<2,>=0.8.1 in /usr/local/lib/python3.9/dist-packages (from nbconvert->jupyter->flaml[notebook]) (0.8.4)\n",
            "Requirement already satisfied: nbclient>=0.5.0 in /usr/local/lib/python3.9/dist-packages (from nbconvert->jupyter->flaml[notebook]) (0.7.2)\n",
            "Requirement already satisfied: tinycss2 in /usr/local/lib/python3.9/dist-packages (from nbconvert->jupyter->flaml[notebook]) (1.2.1)\n",
            "Requirement already satisfied: beautifulsoup4 in /usr/local/lib/python3.9/dist-packages (from nbconvert->jupyter->flaml[notebook]) (4.11.2)\n",
            "Requirement already satisfied: pandocfilters>=1.4.1 in /usr/local/lib/python3.9/dist-packages (from nbconvert->jupyter->flaml[notebook]) (1.5.0)\n",
            "Requirement already satisfied: MarkupSafe>=2.0 in /usr/local/lib/python3.9/dist-packages (from nbconvert->jupyter->flaml[notebook]) (2.1.2)\n",
            "Requirement already satisfied: bleach in /usr/local/lib/python3.9/dist-packages (from nbconvert->jupyter->flaml[notebook]) (6.0.0)\n",
            "Requirement already satisfied: nbformat>=5.1 in /usr/local/lib/python3.9/dist-packages (from nbconvert->jupyter->flaml[notebook]) (5.8.0)\n",
            "Requirement already satisfied: jinja2>=3.0 in /usr/local/lib/python3.9/dist-packages (from nbconvert->jupyter->flaml[notebook]) (3.1.2)\n",
            "Requirement already satisfied: prometheus-client in /usr/local/lib/python3.9/dist-packages (from notebook->jupyter->flaml[notebook]) (0.16.0)\n",
            "Requirement already satisfied: argon2-cffi in /usr/local/lib/python3.9/dist-packages (from notebook->jupyter->flaml[notebook]) (21.3.0)\n",
            "Requirement already satisfied: terminado>=0.8.3 in /usr/local/lib/python3.9/dist-packages (from notebook->jupyter->flaml[notebook]) (0.17.1)\n",
            "Requirement already satisfied: Send2Trash>=1.5.0 in /usr/local/lib/python3.9/dist-packages (from notebook->jupyter->flaml[notebook]) (1.8.0)\n",
            "Requirement already satisfied: pyzmq>=17 in /usr/local/lib/python3.9/dist-packages (from notebook->jupyter->flaml[notebook]) (23.2.1)\n",
            "Requirement already satisfied: qtpy>=2.0.1 in /usr/local/lib/python3.9/dist-packages (from qtconsole->jupyter->flaml[notebook]) (2.3.0)\n",
            "Requirement already satisfied: charset-normalizer~=2.0.0 in /usr/local/lib/python3.9/dist-packages (from requests->openml==0.10.2->flaml[notebook]) (2.0.12)\n",
            "Requirement already satisfied: certifi>=2017.4.17 in /usr/local/lib/python3.9/dist-packages (from requests->openml==0.10.2->flaml[notebook]) (2022.12.7)\n",
            "Requirement already satisfied: idna<4,>=2.5 in /usr/local/lib/python3.9/dist-packages (from requests->openml==0.10.2->flaml[notebook]) (3.4)\n",
            "Requirement already satisfied: urllib3<1.27,>=1.21.1 in /usr/local/lib/python3.9/dist-packages (from requests->openml==0.10.2->flaml[notebook]) (1.26.15)\n",
            "Requirement already satisfied: backcall in /usr/local/lib/python3.9/dist-packages (from ipython>=5.0.0->ipykernel->jupyter->flaml[notebook]) (0.2.0)\n",
            "Requirement already satisfied: jedi>=0.10 in /usr/local/lib/python3.9/dist-packages (from ipython>=5.0.0->ipykernel->jupyter->flaml[notebook]) (0.18.2)\n",
            "Requirement already satisfied: pexpect in /usr/local/lib/python3.9/dist-packages (from ipython>=5.0.0->ipykernel->jupyter->flaml[notebook]) (4.8.0)\n",
            "Requirement already satisfied: setuptools>=18.5 in /usr/local/lib/python3.9/dist-packages (from ipython>=5.0.0->ipykernel->jupyter->flaml[notebook]) (67.6.0)\n",
            "Requirement already satisfied: pickleshare in /usr/local/lib/python3.9/dist-packages (from ipython>=5.0.0->ipykernel->jupyter->flaml[notebook]) (0.7.5)\n",
            "Requirement already satisfied: decorator in /usr/local/lib/python3.9/dist-packages (from ipython>=5.0.0->ipykernel->jupyter->flaml[notebook]) (4.4.2)\n",
            "Requirement already satisfied: platformdirs>=2.5 in /usr/local/lib/python3.9/dist-packages (from jupyter-core>=4.7->nbconvert->jupyter->flaml[notebook]) (3.1.1)\n",
            "Requirement already satisfied: fastjsonschema in /usr/local/lib/python3.9/dist-packages (from nbformat>=5.1->nbconvert->jupyter->flaml[notebook]) (2.16.3)\n",
            "Requirement already satisfied: jsonschema>=2.6 in /usr/local/lib/python3.9/dist-packages (from nbformat>=5.1->nbconvert->jupyter->flaml[notebook]) (4.3.3)\n",
            "Requirement already satisfied: wcwidth in /usr/local/lib/python3.9/dist-packages (from prompt-toolkit!=3.0.0,!=3.0.1,<3.1.0,>=2.0.0->jupyter-console->jupyter->flaml[notebook]) (0.2.6)\n",
            "Requirement already satisfied: ptyprocess in /usr/local/lib/python3.9/dist-packages (from terminado>=0.8.3->notebook->jupyter->flaml[notebook]) (0.7.0)\n",
            "Requirement already satisfied: argon2-cffi-bindings in /usr/local/lib/python3.9/dist-packages (from argon2-cffi->notebook->jupyter->flaml[notebook]) (21.2.0)\n",
            "Requirement already satisfied: soupsieve>1.2 in /usr/local/lib/python3.9/dist-packages (from beautifulsoup4->nbconvert->jupyter->flaml[notebook]) (2.4)\n",
            "Requirement already satisfied: webencodings in /usr/local/lib/python3.9/dist-packages (from bleach->nbconvert->jupyter->flaml[notebook]) (0.5.1)\n",
            "Requirement already satisfied: parso<0.9.0,>=0.8.0 in /usr/local/lib/python3.9/dist-packages (from jedi>=0.10->ipython>=5.0.0->ipykernel->jupyter->flaml[notebook]) (0.8.3)\n",
            "Requirement already satisfied: attrs>=17.4.0 in /usr/local/lib/python3.9/dist-packages (from jsonschema>=2.6->nbformat>=5.1->nbconvert->jupyter->flaml[notebook]) (22.2.0)\n",
            "Requirement already satisfied: pyrsistent!=0.17.0,!=0.17.1,!=0.17.2,>=0.14.0 in /usr/local/lib/python3.9/dist-packages (from jsonschema>=2.6->nbformat>=5.1->nbconvert->jupyter->flaml[notebook]) (0.19.3)\n",
            "Requirement already satisfied: cffi>=1.0.1 in /usr/local/lib/python3.9/dist-packages (from argon2-cffi-bindings->argon2-cffi->notebook->jupyter->flaml[notebook]) (1.15.1)\n",
            "Requirement already satisfied: pycparser in /usr/local/lib/python3.9/dist-packages (from cffi>=1.0.1->argon2-cffi-bindings->argon2-cffi->notebook->jupyter->flaml[notebook]) (2.21)\n"
          ]
        }
      ],
      "source": [
        "import statsmodels.api as sm\n",
        "import statsmodels.formula.api as smf\n",
        "from statsmodels.api import OLS\n",
        "from sklearn.base import clone\n",
        "from sklearn.tree import plot_tree\n",
        "from sklearn.tree import DecisionTreeClassifier\n",
        "from sklearn.pipeline import make_pipeline\n",
        "from sklearn.linear_model import LassoCV,LogisticRegression, LinearRegression, ElasticNetCV\n",
        "\n",
        "from sklearn.model_selection import StratifiedGroupKFold, GroupKFold, KFold, StratifiedKFold\n",
        "from sklearn.model_selection import cross_val_predict, cross_val_score\n",
        "\n",
        "from sklearn.preprocessing import PolynomialFeatures, StandardScaler\n",
        "!pip install flaml[notebook];\n",
        "from flaml import AutoML\n",
        "os.environ['PYTHONWARNINGS'] = 'ignore'"
      ]
    },
    {
      "cell_type": "code",
      "execution_count": null,
      "metadata": {
        "id": "GTVnZDDw5w5X"
      },
      "outputs": [],
      "source": [
        "import numpy as np\n",
        "from flaml import AutoML\n",
        "from sklearn.base import BaseEstimator, clone\n",
        "import warnings\n",
        "warnings.simplefilter('ignore')\n",
        "###################################\n",
        "# AutoML models\n",
        "###################################\n",
        "\n",
        "# FLAML models don't return \"self\" at end of fit. We create this wrapper.\n",
        "\n",
        "\n",
        "class AutoMLWrap(BaseEstimator):\n",
        "\n",
        "    def __init__(self, *, model):\n",
        "        self.model = model\n",
        "\n",
        "    def fit(self, X, y, **kwargs):\n",
        "        self.model_ = clone(self.model)\n",
        "        self.model_.fit(X, y, **kwargs)\n",
        "        return self\n",
        "\n",
        "    def predict(self, X):\n",
        "        return self.model_.predict(X)\n",
        "\n",
        "\n",
        "def auto_reg(X, y, *, groups=None, n_splits=5, split_type='auto', time_budget=60, verbose=0):\n",
        "    X = np.array(X)\n",
        "    automl = AutoML(task='regression', time_budget=time_budget, early_stop=True,\n",
        "                    eval_method='cv', n_splits=n_splits, split_type=split_type,\n",
        "                    metric='mse', verbose=verbose)\n",
        "    inds = np.arange(X.shape[0])\n",
        "    np.random.shuffle(inds)\n",
        "    if groups is None:\n",
        "        automl.fit(X[inds], y[inds])\n",
        "    else:\n",
        "        automl.fit(X[inds], y[inds], groups=groups[inds])\n",
        "    best_est = automl.best_estimator\n",
        "    return lambda: AutoMLWrap(model=clone(automl.best_model_for_estimator(best_est)))\n",
        "\n",
        "\n",
        "class AutoMLWrapCLF(BaseEstimator):\n",
        "\n",
        "    def __init__(self, *, model):\n",
        "        self.model = model\n",
        "\n",
        "    def fit(self, X, y, **kwargs):\n",
        "        self.model_ = clone(self.model)\n",
        "        self.model_.fit(X, y, **kwargs)\n",
        "        return self\n",
        "\n",
        "    def predict(self, X):\n",
        "        return self.model_.predict_proba(X)[:, 1]\n",
        "\n",
        "# By default if we use metric='mse' for a classification task, then flaml\n",
        "# will use `predict` instead of `predict_proba`. We define a custom mse\n",
        "# loss for classification.\n",
        "def clf_mse(\n",
        "        X_val, y_val, estimator, labels,\n",
        "        X_train, y_train, weight_val=None, weight_train=None,\n",
        "        *args,):\n",
        "    val_loss = np.mean((estimator.predict_proba(X_val)[:, 1] - y_val)**2)\n",
        "    return val_loss, {\"val_loss\": val_loss}\n",
        "\n",
        "def auto_clf(X, y, *, groups=None, n_splits=5, split_type='auto', time_budget=60, verbose=0):\n",
        "    X = np.array(X)\n",
        "    automl = AutoML(task='classification', time_budget=time_budget, early_stop=True,\n",
        "                    eval_method='cv', n_splits=n_splits, split_type=split_type,\n",
        "                    metric=clf_mse, verbose=verbose)\n",
        "    inds = np.arange(X.shape[0])\n",
        "    np.random.shuffle(inds)\n",
        "    if groups is None:\n",
        "        automl.fit(X[inds], y[inds])\n",
        "    else:\n",
        "        automl.fit(X[inds], y[inds], groups=groups[inds])\n",
        "    best_est = automl.best_estimator\n",
        "    return lambda: AutoMLWrapCLF(model=clone(automl.best_model_for_estimator(best_est)))\n",
        "\n",
        "\n",
        "# We create a custom metric to handle sample weights as we want them in RLearner (NonParamDML).\n",
        "# We want to be minimizing the loss: 1/n sum_i w_i (y_i - ypred_i)^2. The standard\n",
        "# mse with sample weights would have minimized (1/sum_i w_i) sum_i w_i (y_i - ypred_i)^2.\n",
        "def weighted_mse(\n",
        "        X_val, y_val, estimator, labels,\n",
        "        X_train, y_train, weight_val=None, weight_train=None,\n",
        "        *args,):\n",
        "    weight_val = 1 if weight_val is None else weight_val\n",
        "    weight_train = 1 if weight_train is None else weight_train\n",
        "    error = (estimator.predict(X_val) - y_val)**2\n",
        "    val_loss = np.mean(weight_val * error)\n",
        "    error_train = (estimator.predict(X_train) - y_train)**2\n",
        "    train_loss = np.mean(weight_train * error_train)\n",
        "    return val_loss, {\"val_loss\": val_loss, \"train_loss\": train_loss}\n",
        "\n",
        "\n",
        "def auto_weighted_reg(X, y, *, sample_weight, groups=None, n_splits=5,  split_type='auto', time_budget=60, verbose=0):\n",
        "    X = np.array(X)\n",
        "    automl = AutoML(task='regression', time_budget=time_budget, early_stop=True,\n",
        "                    eval_method='cv',\n",
        "                    n_splits=n_splits,  split_type=split_type,\n",
        "                    metric=weighted_mse, verbose=verbose)\n",
        "    inds = np.arange(X.shape[0])\n",
        "    np.random.shuffle(inds)\n",
        "    if groups is None:\n",
        "        automl.fit(X[inds], y[inds], sample_weight=sample_weight[inds])\n",
        "    else:\n",
        "        automl.fit(X[inds], y[inds], sample_weight=sample_weight[inds], groups=groups[inds])\n",
        "    best_est = automl.best_estimator\n",
        "    return lambda: AutoMLWrap(model=clone(automl.best_model_for_estimator(best_est)))\n"
      ]
    },
    {
      "cell_type": "code",
      "execution_count": null,
      "metadata": {
        "id": "6iATTg4NPr4Y"
      },
      "outputs": [],
      "source": [
        "pd.set_option('display.float_format', lambda x: '%.3f' % x)"
      ]
    },
    {
      "cell_type": "code",
      "execution_count": null,
      "metadata": {
        "id": "5_SsN7PRpdIv"
      },
      "outputs": [],
      "source": [
        "# Read in School dataset\n",
        "url = \"https://github.com/gsbDBI/ExperimentData/raw/master/School/bruhn2016.csv\"\n",
        "df = pd.read_csv(url)"
      ]
    },
    {
      "cell_type": "code",
      "execution_count": null,
      "metadata": {
        "id": "eIU9P18bIdfG",
        "colab": {
          "base_uri": "https://localhost:8080/",
          "height": 268
        },
        "outputId": "abdb1970-005a-4848-98ee-c0adfe07818b"
      },
      "outputs": [
        {
          "output_type": "execute_result",
          "data": {
            "text/plain": [
              "   outcome_test_score  treatment    school  is_female  \\\n",
              "0              47.367          0  17018390        NaN   \n",
              "1              58.177          1  33002614        NaN   \n",
              "2              56.672          1  35002914      1.000   \n",
              "3              29.079          0  35908915      1.000   \n",
              "4              49.564          1  33047324      1.000   \n",
              "\n",
              "   mother_attended_secondary_school  father_attened_secondary_school  \\\n",
              "0                               NaN                              NaN   \n",
              "1                               NaN                              NaN   \n",
              "2                             1.000                            1.000   \n",
              "3                             0.000                            0.000   \n",
              "4                             0.000                            0.000   \n",
              "\n",
              "   failed_at_least_one_school_year  family_receives_cash_transfer  \\\n",
              "0                              NaN                            NaN   \n",
              "1                              NaN                            NaN   \n",
              "2                            0.000                          0.000   \n",
              "3                            0.000                          0.000   \n",
              "4                            0.000                          0.000   \n",
              "\n",
              "   has_computer_with_internet_at_home  is_unemployed  has_some_form_of_income  \\\n",
              "0                                 NaN          1.000                    1.000   \n",
              "1                                 NaN          0.000                    0.000   \n",
              "2                               0.000          1.000                    0.000   \n",
              "3                               0.000          0.000                    0.000   \n",
              "4                               1.000          0.000                    1.000   \n",
              "\n",
              "   saves_money_for_future_purchases  intention_to_save_index  \\\n",
              "0                             0.000                   29.000   \n",
              "1                             0.000                   41.000   \n",
              "2                             0.000                   48.000   \n",
              "3                             0.000                   42.000   \n",
              "4                             0.000                   50.000   \n",
              "\n",
              "   makes_list_of_expenses_every_month  negotiates_prices_or_payment_methods  \\\n",
              "0                               0.000                                 1.000   \n",
              "1                               0.000                                 0.000   \n",
              "2                               0.000                                 1.000   \n",
              "3                               0.000                                 0.000   \n",
              "4                               0.000                                 1.000   \n",
              "\n",
              "   financial_autonomy_index  \n",
              "0                    52.000  \n",
              "1                    27.000  \n",
              "2                    56.000  \n",
              "3                    27.000  \n",
              "4                    31.000  "
            ],
            "text/html": [
              "\n",
              "  <div id=\"df-1bc827ba-caf2-4640-98fa-8271608d6539\">\n",
              "    <div class=\"colab-df-container\">\n",
              "      <div>\n",
              "<style scoped>\n",
              "    .dataframe tbody tr th:only-of-type {\n",
              "        vertical-align: middle;\n",
              "    }\n",
              "\n",
              "    .dataframe tbody tr th {\n",
              "        vertical-align: top;\n",
              "    }\n",
              "\n",
              "    .dataframe thead th {\n",
              "        text-align: right;\n",
              "    }\n",
              "</style>\n",
              "<table border=\"1\" class=\"dataframe\">\n",
              "  <thead>\n",
              "    <tr style=\"text-align: right;\">\n",
              "      <th></th>\n",
              "      <th>outcome_test_score</th>\n",
              "      <th>treatment</th>\n",
              "      <th>school</th>\n",
              "      <th>is_female</th>\n",
              "      <th>mother_attended_secondary_school</th>\n",
              "      <th>father_attened_secondary_school</th>\n",
              "      <th>failed_at_least_one_school_year</th>\n",
              "      <th>family_receives_cash_transfer</th>\n",
              "      <th>has_computer_with_internet_at_home</th>\n",
              "      <th>is_unemployed</th>\n",
              "      <th>has_some_form_of_income</th>\n",
              "      <th>saves_money_for_future_purchases</th>\n",
              "      <th>intention_to_save_index</th>\n",
              "      <th>makes_list_of_expenses_every_month</th>\n",
              "      <th>negotiates_prices_or_payment_methods</th>\n",
              "      <th>financial_autonomy_index</th>\n",
              "    </tr>\n",
              "  </thead>\n",
              "  <tbody>\n",
              "    <tr>\n",
              "      <th>0</th>\n",
              "      <td>47.367</td>\n",
              "      <td>0</td>\n",
              "      <td>17018390</td>\n",
              "      <td>NaN</td>\n",
              "      <td>NaN</td>\n",
              "      <td>NaN</td>\n",
              "      <td>NaN</td>\n",
              "      <td>NaN</td>\n",
              "      <td>NaN</td>\n",
              "      <td>1.000</td>\n",
              "      <td>1.000</td>\n",
              "      <td>0.000</td>\n",
              "      <td>29.000</td>\n",
              "      <td>0.000</td>\n",
              "      <td>1.000</td>\n",
              "      <td>52.000</td>\n",
              "    </tr>\n",
              "    <tr>\n",
              "      <th>1</th>\n",
              "      <td>58.177</td>\n",
              "      <td>1</td>\n",
              "      <td>33002614</td>\n",
              "      <td>NaN</td>\n",
              "      <td>NaN</td>\n",
              "      <td>NaN</td>\n",
              "      <td>NaN</td>\n",
              "      <td>NaN</td>\n",
              "      <td>NaN</td>\n",
              "      <td>0.000</td>\n",
              "      <td>0.000</td>\n",
              "      <td>0.000</td>\n",
              "      <td>41.000</td>\n",
              "      <td>0.000</td>\n",
              "      <td>0.000</td>\n",
              "      <td>27.000</td>\n",
              "    </tr>\n",
              "    <tr>\n",
              "      <th>2</th>\n",
              "      <td>56.672</td>\n",
              "      <td>1</td>\n",
              "      <td>35002914</td>\n",
              "      <td>1.000</td>\n",
              "      <td>1.000</td>\n",
              "      <td>1.000</td>\n",
              "      <td>0.000</td>\n",
              "      <td>0.000</td>\n",
              "      <td>0.000</td>\n",
              "      <td>1.000</td>\n",
              "      <td>0.000</td>\n",
              "      <td>0.000</td>\n",
              "      <td>48.000</td>\n",
              "      <td>0.000</td>\n",
              "      <td>1.000</td>\n",
              "      <td>56.000</td>\n",
              "    </tr>\n",
              "    <tr>\n",
              "      <th>3</th>\n",
              "      <td>29.079</td>\n",
              "      <td>0</td>\n",
              "      <td>35908915</td>\n",
              "      <td>1.000</td>\n",
              "      <td>0.000</td>\n",
              "      <td>0.000</td>\n",
              "      <td>0.000</td>\n",
              "      <td>0.000</td>\n",
              "      <td>0.000</td>\n",
              "      <td>0.000</td>\n",
              "      <td>0.000</td>\n",
              "      <td>0.000</td>\n",
              "      <td>42.000</td>\n",
              "      <td>0.000</td>\n",
              "      <td>0.000</td>\n",
              "      <td>27.000</td>\n",
              "    </tr>\n",
              "    <tr>\n",
              "      <th>4</th>\n",
              "      <td>49.564</td>\n",
              "      <td>1</td>\n",
              "      <td>33047324</td>\n",
              "      <td>1.000</td>\n",
              "      <td>0.000</td>\n",
              "      <td>0.000</td>\n",
              "      <td>0.000</td>\n",
              "      <td>0.000</td>\n",
              "      <td>1.000</td>\n",
              "      <td>0.000</td>\n",
              "      <td>1.000</td>\n",
              "      <td>0.000</td>\n",
              "      <td>50.000</td>\n",
              "      <td>0.000</td>\n",
              "      <td>1.000</td>\n",
              "      <td>31.000</td>\n",
              "    </tr>\n",
              "  </tbody>\n",
              "</table>\n",
              "</div>\n",
              "      <button class=\"colab-df-convert\" onclick=\"convertToInteractive('df-1bc827ba-caf2-4640-98fa-8271608d6539')\"\n",
              "              title=\"Convert this dataframe to an interactive table.\"\n",
              "              style=\"display:none;\">\n",
              "        \n",
              "  <svg xmlns=\"http://www.w3.org/2000/svg\" height=\"24px\"viewBox=\"0 0 24 24\"\n",
              "       width=\"24px\">\n",
              "    <path d=\"M0 0h24v24H0V0z\" fill=\"none\"/>\n",
              "    <path d=\"M18.56 5.44l.94 2.06.94-2.06 2.06-.94-2.06-.94-.94-2.06-.94 2.06-2.06.94zm-11 1L8.5 8.5l.94-2.06 2.06-.94-2.06-.94L8.5 2.5l-.94 2.06-2.06.94zm10 10l.94 2.06.94-2.06 2.06-.94-2.06-.94-.94-2.06-.94 2.06-2.06.94z\"/><path d=\"M17.41 7.96l-1.37-1.37c-.4-.4-.92-.59-1.43-.59-.52 0-1.04.2-1.43.59L10.3 9.45l-7.72 7.72c-.78.78-.78 2.05 0 2.83L4 21.41c.39.39.9.59 1.41.59.51 0 1.02-.2 1.41-.59l7.78-7.78 2.81-2.81c.8-.78.8-2.07 0-2.86zM5.41 20L4 18.59l7.72-7.72 1.47 1.35L5.41 20z\"/>\n",
              "  </svg>\n",
              "      </button>\n",
              "      \n",
              "  <style>\n",
              "    .colab-df-container {\n",
              "      display:flex;\n",
              "      flex-wrap:wrap;\n",
              "      gap: 12px;\n",
              "    }\n",
              "\n",
              "    .colab-df-convert {\n",
              "      background-color: #E8F0FE;\n",
              "      border: none;\n",
              "      border-radius: 50%;\n",
              "      cursor: pointer;\n",
              "      display: none;\n",
              "      fill: #1967D2;\n",
              "      height: 32px;\n",
              "      padding: 0 0 0 0;\n",
              "      width: 32px;\n",
              "    }\n",
              "\n",
              "    .colab-df-convert:hover {\n",
              "      background-color: #E2EBFA;\n",
              "      box-shadow: 0px 1px 2px rgba(60, 64, 67, 0.3), 0px 1px 3px 1px rgba(60, 64, 67, 0.15);\n",
              "      fill: #174EA6;\n",
              "    }\n",
              "\n",
              "    [theme=dark] .colab-df-convert {\n",
              "      background-color: #3B4455;\n",
              "      fill: #D2E3FC;\n",
              "    }\n",
              "\n",
              "    [theme=dark] .colab-df-convert:hover {\n",
              "      background-color: #434B5C;\n",
              "      box-shadow: 0px 1px 3px 1px rgba(0, 0, 0, 0.15);\n",
              "      filter: drop-shadow(0px 1px 2px rgba(0, 0, 0, 0.3));\n",
              "      fill: #FFFFFF;\n",
              "    }\n",
              "  </style>\n",
              "\n",
              "      <script>\n",
              "        const buttonEl =\n",
              "          document.querySelector('#df-1bc827ba-caf2-4640-98fa-8271608d6539 button.colab-df-convert');\n",
              "        buttonEl.style.display =\n",
              "          google.colab.kernel.accessAllowed ? 'block' : 'none';\n",
              "\n",
              "        async function convertToInteractive(key) {\n",
              "          const element = document.querySelector('#df-1bc827ba-caf2-4640-98fa-8271608d6539');\n",
              "          const dataTable =\n",
              "            await google.colab.kernel.invokeFunction('convertToInteractive',\n",
              "                                                     [key], {});\n",
              "          if (!dataTable) return;\n",
              "\n",
              "          const docLinkHtml = 'Like what you see? Visit the ' +\n",
              "            '<a target=\"_blank\" href=https://colab.research.google.com/notebooks/data_table.ipynb>data table notebook</a>'\n",
              "            + ' to learn more about interactive tables.';\n",
              "          element.innerHTML = '';\n",
              "          dataTable['output_type'] = 'display_data';\n",
              "          await google.colab.output.renderOutput(dataTable, element);\n",
              "          const docLink = document.createElement('div');\n",
              "          docLink.innerHTML = docLinkHtml;\n",
              "          element.appendChild(docLink);\n",
              "        }\n",
              "      </script>\n",
              "    </div>\n",
              "  </div>\n",
              "  "
            ]
          },
          "metadata": {},
          "execution_count": 105
        }
      ],
      "source": [
        "# replace periods with underscore in column names\n",
        "df.columns = df.columns.str.replace(\"[\\.]\", \"_\", regex = True)\n",
        "df.head()"
      ]
    },
    {
      "cell_type": "code",
      "execution_count": null,
      "metadata": {
        "id": "49lN3DF-Lfij",
        "colab": {
          "base_uri": "https://localhost:8080/",
          "height": 361
        },
        "outputId": "9f0edf48-e6c8-48a4-b5e3-8adf51f3fd68"
      },
      "outputs": [
        {
          "output_type": "execute_result",
          "data": {
            "text/plain": [
              "       outcome_test_score  treatment       school  is_female  \\\n",
              "count           17299.000  17299.000    17299.000  15661.000   \n",
              "mean               58.415      0.514 32541084.142      0.557   \n",
              "std                14.736      0.500  7715811.252      0.497   \n",
              "min                22.317      0.000 17000386.000      0.000   \n",
              "25%                47.221      0.000 31068691.000      0.000   \n",
              "50%                58.822      1.000 33093555.000      1.000   \n",
              "75%                69.214      1.000 35035993.000      1.000   \n",
              "max               100.000      1.000 53068181.000      1.000   \n",
              "\n",
              "       mother_attended_secondary_school  father_attened_secondary_school  \\\n",
              "count                         15440.000                        15350.000   \n",
              "mean                              0.430                            0.395   \n",
              "std                               0.495                            0.489   \n",
              "min                               0.000                            0.000   \n",
              "25%                               0.000                            0.000   \n",
              "50%                               0.000                            0.000   \n",
              "75%                               1.000                            1.000   \n",
              "max                               1.000                            1.000   \n",
              "\n",
              "       failed_at_least_one_school_year  family_receives_cash_transfer  \\\n",
              "count                        15386.000                      15550.000   \n",
              "mean                             0.288                          0.343   \n",
              "std                              0.453                          0.475   \n",
              "min                              0.000                          0.000   \n",
              "25%                              0.000                          0.000   \n",
              "50%                              0.000                          0.000   \n",
              "75%                              1.000                          1.000   \n",
              "max                              1.000                          1.000   \n",
              "\n",
              "       has_computer_with_internet_at_home  is_unemployed  \\\n",
              "count                           15422.000      16510.000   \n",
              "mean                                0.546          0.340   \n",
              "std                                 0.498          0.474   \n",
              "min                                 0.000          0.000   \n",
              "25%                                 0.000          0.000   \n",
              "50%                                 1.000          0.000   \n",
              "75%                                 1.000          1.000   \n",
              "max                                 1.000          1.000   \n",
              "\n",
              "       has_some_form_of_income  saves_money_for_future_purchases  \\\n",
              "count                16525.000                         16210.000   \n",
              "mean                     0.654                             0.151   \n",
              "std                      0.476                             0.358   \n",
              "min                      0.000                             0.000   \n",
              "25%                      0.000                             0.000   \n",
              "50%                      1.000                             0.000   \n",
              "75%                      1.000                             0.000   \n",
              "max                      1.000                             1.000   \n",
              "\n",
              "       intention_to_save_index  makes_list_of_expenses_every_month  \\\n",
              "count                15396.000                           16364.000   \n",
              "mean                    48.626                               0.104   \n",
              "std                     18.640                               0.305   \n",
              "min                    -25.000                               0.000   \n",
              "25%                     36.000                               0.000   \n",
              "50%                     49.000                               0.000   \n",
              "75%                     62.000                               0.000   \n",
              "max                    100.000                               1.000   \n",
              "\n",
              "       negotiates_prices_or_payment_methods  financial_autonomy_index  \n",
              "count                             16237.000                 15363.000  \n",
              "mean                                  0.760                    49.289  \n",
              "std                                   0.427                    19.620  \n",
              "min                                   0.000                   -33.000  \n",
              "25%                                   1.000                    37.000  \n",
              "50%                                   1.000                    50.000  \n",
              "75%                                   1.000                    62.000  \n",
              "max                                   1.000                    94.000  "
            ],
            "text/html": [
              "\n",
              "  <div id=\"df-88b48318-d90d-4914-861e-f1317b8bf18f\">\n",
              "    <div class=\"colab-df-container\">\n",
              "      <div>\n",
              "<style scoped>\n",
              "    .dataframe tbody tr th:only-of-type {\n",
              "        vertical-align: middle;\n",
              "    }\n",
              "\n",
              "    .dataframe tbody tr th {\n",
              "        vertical-align: top;\n",
              "    }\n",
              "\n",
              "    .dataframe thead th {\n",
              "        text-align: right;\n",
              "    }\n",
              "</style>\n",
              "<table border=\"1\" class=\"dataframe\">\n",
              "  <thead>\n",
              "    <tr style=\"text-align: right;\">\n",
              "      <th></th>\n",
              "      <th>outcome_test_score</th>\n",
              "      <th>treatment</th>\n",
              "      <th>school</th>\n",
              "      <th>is_female</th>\n",
              "      <th>mother_attended_secondary_school</th>\n",
              "      <th>father_attened_secondary_school</th>\n",
              "      <th>failed_at_least_one_school_year</th>\n",
              "      <th>family_receives_cash_transfer</th>\n",
              "      <th>has_computer_with_internet_at_home</th>\n",
              "      <th>is_unemployed</th>\n",
              "      <th>has_some_form_of_income</th>\n",
              "      <th>saves_money_for_future_purchases</th>\n",
              "      <th>intention_to_save_index</th>\n",
              "      <th>makes_list_of_expenses_every_month</th>\n",
              "      <th>negotiates_prices_or_payment_methods</th>\n",
              "      <th>financial_autonomy_index</th>\n",
              "    </tr>\n",
              "  </thead>\n",
              "  <tbody>\n",
              "    <tr>\n",
              "      <th>count</th>\n",
              "      <td>17299.000</td>\n",
              "      <td>17299.000</td>\n",
              "      <td>17299.000</td>\n",
              "      <td>15661.000</td>\n",
              "      <td>15440.000</td>\n",
              "      <td>15350.000</td>\n",
              "      <td>15386.000</td>\n",
              "      <td>15550.000</td>\n",
              "      <td>15422.000</td>\n",
              "      <td>16510.000</td>\n",
              "      <td>16525.000</td>\n",
              "      <td>16210.000</td>\n",
              "      <td>15396.000</td>\n",
              "      <td>16364.000</td>\n",
              "      <td>16237.000</td>\n",
              "      <td>15363.000</td>\n",
              "    </tr>\n",
              "    <tr>\n",
              "      <th>mean</th>\n",
              "      <td>58.415</td>\n",
              "      <td>0.514</td>\n",
              "      <td>32541084.142</td>\n",
              "      <td>0.557</td>\n",
              "      <td>0.430</td>\n",
              "      <td>0.395</td>\n",
              "      <td>0.288</td>\n",
              "      <td>0.343</td>\n",
              "      <td>0.546</td>\n",
              "      <td>0.340</td>\n",
              "      <td>0.654</td>\n",
              "      <td>0.151</td>\n",
              "      <td>48.626</td>\n",
              "      <td>0.104</td>\n",
              "      <td>0.760</td>\n",
              "      <td>49.289</td>\n",
              "    </tr>\n",
              "    <tr>\n",
              "      <th>std</th>\n",
              "      <td>14.736</td>\n",
              "      <td>0.500</td>\n",
              "      <td>7715811.252</td>\n",
              "      <td>0.497</td>\n",
              "      <td>0.495</td>\n",
              "      <td>0.489</td>\n",
              "      <td>0.453</td>\n",
              "      <td>0.475</td>\n",
              "      <td>0.498</td>\n",
              "      <td>0.474</td>\n",
              "      <td>0.476</td>\n",
              "      <td>0.358</td>\n",
              "      <td>18.640</td>\n",
              "      <td>0.305</td>\n",
              "      <td>0.427</td>\n",
              "      <td>19.620</td>\n",
              "    </tr>\n",
              "    <tr>\n",
              "      <th>min</th>\n",
              "      <td>22.317</td>\n",
              "      <td>0.000</td>\n",
              "      <td>17000386.000</td>\n",
              "      <td>0.000</td>\n",
              "      <td>0.000</td>\n",
              "      <td>0.000</td>\n",
              "      <td>0.000</td>\n",
              "      <td>0.000</td>\n",
              "      <td>0.000</td>\n",
              "      <td>0.000</td>\n",
              "      <td>0.000</td>\n",
              "      <td>0.000</td>\n",
              "      <td>-25.000</td>\n",
              "      <td>0.000</td>\n",
              "      <td>0.000</td>\n",
              "      <td>-33.000</td>\n",
              "    </tr>\n",
              "    <tr>\n",
              "      <th>25%</th>\n",
              "      <td>47.221</td>\n",
              "      <td>0.000</td>\n",
              "      <td>31068691.000</td>\n",
              "      <td>0.000</td>\n",
              "      <td>0.000</td>\n",
              "      <td>0.000</td>\n",
              "      <td>0.000</td>\n",
              "      <td>0.000</td>\n",
              "      <td>0.000</td>\n",
              "      <td>0.000</td>\n",
              "      <td>0.000</td>\n",
              "      <td>0.000</td>\n",
              "      <td>36.000</td>\n",
              "      <td>0.000</td>\n",
              "      <td>1.000</td>\n",
              "      <td>37.000</td>\n",
              "    </tr>\n",
              "    <tr>\n",
              "      <th>50%</th>\n",
              "      <td>58.822</td>\n",
              "      <td>1.000</td>\n",
              "      <td>33093555.000</td>\n",
              "      <td>1.000</td>\n",
              "      <td>0.000</td>\n",
              "      <td>0.000</td>\n",
              "      <td>0.000</td>\n",
              "      <td>0.000</td>\n",
              "      <td>1.000</td>\n",
              "      <td>0.000</td>\n",
              "      <td>1.000</td>\n",
              "      <td>0.000</td>\n",
              "      <td>49.000</td>\n",
              "      <td>0.000</td>\n",
              "      <td>1.000</td>\n",
              "      <td>50.000</td>\n",
              "    </tr>\n",
              "    <tr>\n",
              "      <th>75%</th>\n",
              "      <td>69.214</td>\n",
              "      <td>1.000</td>\n",
              "      <td>35035993.000</td>\n",
              "      <td>1.000</td>\n",
              "      <td>1.000</td>\n",
              "      <td>1.000</td>\n",
              "      <td>1.000</td>\n",
              "      <td>1.000</td>\n",
              "      <td>1.000</td>\n",
              "      <td>1.000</td>\n",
              "      <td>1.000</td>\n",
              "      <td>0.000</td>\n",
              "      <td>62.000</td>\n",
              "      <td>0.000</td>\n",
              "      <td>1.000</td>\n",
              "      <td>62.000</td>\n",
              "    </tr>\n",
              "    <tr>\n",
              "      <th>max</th>\n",
              "      <td>100.000</td>\n",
              "      <td>1.000</td>\n",
              "      <td>53068181.000</td>\n",
              "      <td>1.000</td>\n",
              "      <td>1.000</td>\n",
              "      <td>1.000</td>\n",
              "      <td>1.000</td>\n",
              "      <td>1.000</td>\n",
              "      <td>1.000</td>\n",
              "      <td>1.000</td>\n",
              "      <td>1.000</td>\n",
              "      <td>1.000</td>\n",
              "      <td>100.000</td>\n",
              "      <td>1.000</td>\n",
              "      <td>1.000</td>\n",
              "      <td>94.000</td>\n",
              "    </tr>\n",
              "  </tbody>\n",
              "</table>\n",
              "</div>\n",
              "      <button class=\"colab-df-convert\" onclick=\"convertToInteractive('df-88b48318-d90d-4914-861e-f1317b8bf18f')\"\n",
              "              title=\"Convert this dataframe to an interactive table.\"\n",
              "              style=\"display:none;\">\n",
              "        \n",
              "  <svg xmlns=\"http://www.w3.org/2000/svg\" height=\"24px\"viewBox=\"0 0 24 24\"\n",
              "       width=\"24px\">\n",
              "    <path d=\"M0 0h24v24H0V0z\" fill=\"none\"/>\n",
              "    <path d=\"M18.56 5.44l.94 2.06.94-2.06 2.06-.94-2.06-.94-.94-2.06-.94 2.06-2.06.94zm-11 1L8.5 8.5l.94-2.06 2.06-.94-2.06-.94L8.5 2.5l-.94 2.06-2.06.94zm10 10l.94 2.06.94-2.06 2.06-.94-2.06-.94-.94-2.06-.94 2.06-2.06.94z\"/><path d=\"M17.41 7.96l-1.37-1.37c-.4-.4-.92-.59-1.43-.59-.52 0-1.04.2-1.43.59L10.3 9.45l-7.72 7.72c-.78.78-.78 2.05 0 2.83L4 21.41c.39.39.9.59 1.41.59.51 0 1.02-.2 1.41-.59l7.78-7.78 2.81-2.81c.8-.78.8-2.07 0-2.86zM5.41 20L4 18.59l7.72-7.72 1.47 1.35L5.41 20z\"/>\n",
              "  </svg>\n",
              "      </button>\n",
              "      \n",
              "  <style>\n",
              "    .colab-df-container {\n",
              "      display:flex;\n",
              "      flex-wrap:wrap;\n",
              "      gap: 12px;\n",
              "    }\n",
              "\n",
              "    .colab-df-convert {\n",
              "      background-color: #E8F0FE;\n",
              "      border: none;\n",
              "      border-radius: 50%;\n",
              "      cursor: pointer;\n",
              "      display: none;\n",
              "      fill: #1967D2;\n",
              "      height: 32px;\n",
              "      padding: 0 0 0 0;\n",
              "      width: 32px;\n",
              "    }\n",
              "\n",
              "    .colab-df-convert:hover {\n",
              "      background-color: #E2EBFA;\n",
              "      box-shadow: 0px 1px 2px rgba(60, 64, 67, 0.3), 0px 1px 3px 1px rgba(60, 64, 67, 0.15);\n",
              "      fill: #174EA6;\n",
              "    }\n",
              "\n",
              "    [theme=dark] .colab-df-convert {\n",
              "      background-color: #3B4455;\n",
              "      fill: #D2E3FC;\n",
              "    }\n",
              "\n",
              "    [theme=dark] .colab-df-convert:hover {\n",
              "      background-color: #434B5C;\n",
              "      box-shadow: 0px 1px 3px 1px rgba(0, 0, 0, 0.15);\n",
              "      filter: drop-shadow(0px 1px 2px rgba(0, 0, 0, 0.3));\n",
              "      fill: #FFFFFF;\n",
              "    }\n",
              "  </style>\n",
              "\n",
              "      <script>\n",
              "        const buttonEl =\n",
              "          document.querySelector('#df-88b48318-d90d-4914-861e-f1317b8bf18f button.colab-df-convert');\n",
              "        buttonEl.style.display =\n",
              "          google.colab.kernel.accessAllowed ? 'block' : 'none';\n",
              "\n",
              "        async function convertToInteractive(key) {\n",
              "          const element = document.querySelector('#df-88b48318-d90d-4914-861e-f1317b8bf18f');\n",
              "          const dataTable =\n",
              "            await google.colab.kernel.invokeFunction('convertToInteractive',\n",
              "                                                     [key], {});\n",
              "          if (!dataTable) return;\n",
              "\n",
              "          const docLinkHtml = 'Like what you see? Visit the ' +\n",
              "            '<a target=\"_blank\" href=https://colab.research.google.com/notebooks/data_table.ipynb>data table notebook</a>'\n",
              "            + ' to learn more about interactive tables.';\n",
              "          element.innerHTML = '';\n",
              "          dataTable['output_type'] = 'display_data';\n",
              "          await google.colab.output.renderOutput(dataTable, element);\n",
              "          const docLink = document.createElement('div');\n",
              "          docLink.innerHTML = docLinkHtml;\n",
              "          element.appendChild(docLink);\n",
              "        }\n",
              "      </script>\n",
              "    </div>\n",
              "  </div>\n",
              "  "
            ]
          },
          "metadata": {},
          "execution_count": 106
        }
      ],
      "source": [
        "# view dataset and confirm that treatment is approximately balanced\n",
        "# treatment has a mean of 0.51 -- aka 51% were assigned to financial program\n",
        "df.describe()"
      ]
    },
    {
      "cell_type": "code",
      "execution_count": null,
      "metadata": {
        "id": "5r5c8I3HQbgg",
        "colab": {
          "base_uri": "https://localhost:8080/",
          "height": 365
        },
        "outputId": "e932d9bd-6590-47f7-cd23-0c792e31991b"
      },
      "outputs": [
        {
          "output_type": "display_data",
          "data": {
            "text/plain": [
              "<Figure size 429.425x360 with 1 Axes>"
            ],
            "image/png": "[encoded data removed]"
          },
          "metadata": {}
        }
      ],
      "source": [
        "# view distribution of outcome by treatment\n",
        "sns.set_theme(style=\"darkgrid\")\n",
        "sns.displot(df, x='outcome_test_score', kind = 'kde', hue = 'treatment', fill = True);"
      ]
    },
    {
      "cell_type": "code",
      "execution_count": null,
      "metadata": {
        "id": "tsB2rSoNC74O",
        "colab": {
          "base_uri": "https://localhost:8080/"
        },
        "outputId": "be3be87d-661d-45f8-e9b2-cbddc994f6dd"
      },
      "outputs": [
        {
          "output_type": "stream",
          "name": "stdout",
          "text": [
            "outcome_test_score                     0.000\n",
            "treatment                              0.000\n",
            "school                                 0.000\n",
            "is_female                              0.095\n",
            "mother_attended_secondary_school       0.107\n",
            "father_attened_secondary_school        0.113\n",
            "failed_at_least_one_school_year        0.111\n",
            "family_receives_cash_transfer          0.101\n",
            "has_computer_with_internet_at_home     0.109\n",
            "is_unemployed                          0.046\n",
            "has_some_form_of_income                0.045\n",
            "saves_money_for_future_purchases       0.063\n",
            "intention_to_save_index                0.110\n",
            "makes_list_of_expenses_every_month     0.054\n",
            "negotiates_prices_or_payment_methods   0.061\n",
            "financial_autonomy_index               0.112\n",
            "dtype: float64\n"
          ]
        }
      ],
      "source": [
        "# check for missing values by column\n",
        "print(df.isnull().mean())"
      ]
    },
    {
      "cell_type": "code",
      "execution_count": null,
      "metadata": {
        "id": "oISYApu7NLM7"
      },
      "outputs": [],
      "source": [
        "# drop missing values\n",
        "df = df.dropna()"
      ]
    },
    {
      "cell_type": "code",
      "execution_count": null,
      "metadata": {
        "id": "OuB3MSoRPeZs",
        "colab": {
          "base_uri": "https://localhost:8080/",
          "height": 545
        },
        "outputId": "2961d068-553a-4e50-b491-8d1c9346a85f"
      },
      "outputs": [
        {
          "output_type": "execute_result",
          "data": {
            "text/plain": [
              "                                                0            1\n",
              "treatment                                   0.000        1.000\n",
              "outcome_test_score                         57.591       61.807\n",
              "school                               32290528.507 32526301.308\n",
              "is_female                                   0.553        0.579\n",
              "mother_attended_secondary_school            0.430        0.431\n",
              "father_attened_secondary_school             0.393        0.395\n",
              "failed_at_least_one_school_year             0.254        0.278\n",
              "family_receives_cash_transfer               0.336        0.348\n",
              "has_computer_with_internet_at_home          0.548        0.542\n",
              "is_unemployed                               0.322        0.322\n",
              "has_some_form_of_income                     0.639        0.656\n",
              "saves_money_for_future_purchases            0.143        0.149\n",
              "intention_to_save_index                    49.016       48.947\n",
              "makes_list_of_expenses_every_month          0.094        0.099\n",
              "negotiates_prices_or_payment_methods        0.763        0.764\n",
              "financial_autonomy_index                   49.289       49.015"
            ],
            "text/html": [
              "\n",
              "  <div id=\"df-da2e4b8f-93b6-4040-9406-0ad84e08c2a1\">\n",
              "    <div class=\"colab-df-container\">\n",
              "      <div>\n",
              "<style scoped>\n",
              "    .dataframe tbody tr th:only-of-type {\n",
              "        vertical-align: middle;\n",
              "    }\n",
              "\n",
              "    .dataframe tbody tr th {\n",
              "        vertical-align: top;\n",
              "    }\n",
              "\n",
              "    .dataframe thead th {\n",
              "        text-align: right;\n",
              "    }\n",
              "</style>\n",
              "<table border=\"1\" class=\"dataframe\">\n",
              "  <thead>\n",
              "    <tr style=\"text-align: right;\">\n",
              "      <th></th>\n",
              "      <th>0</th>\n",
              "      <th>1</th>\n",
              "    </tr>\n",
              "  </thead>\n",
              "  <tbody>\n",
              "    <tr>\n",
              "      <th>treatment</th>\n",
              "      <td>0.000</td>\n",
              "      <td>1.000</td>\n",
              "    </tr>\n",
              "    <tr>\n",
              "      <th>outcome_test_score</th>\n",
              "      <td>57.591</td>\n",
              "      <td>61.807</td>\n",
              "    </tr>\n",
              "    <tr>\n",
              "      <th>school</th>\n",
              "      <td>32290528.507</td>\n",
              "      <td>32526301.308</td>\n",
              "    </tr>\n",
              "    <tr>\n",
              "      <th>is_female</th>\n",
              "      <td>0.553</td>\n",
              "      <td>0.579</td>\n",
              "    </tr>\n",
              "    <tr>\n",
              "      <th>mother_attended_secondary_school</th>\n",
              "      <td>0.430</td>\n",
              "      <td>0.431</td>\n",
              "    </tr>\n",
              "    <tr>\n",
              "      <th>father_attened_secondary_school</th>\n",
              "      <td>0.393</td>\n",
              "      <td>0.395</td>\n",
              "    </tr>\n",
              "    <tr>\n",
              "      <th>failed_at_least_one_school_year</th>\n",
              "      <td>0.254</td>\n",
              "      <td>0.278</td>\n",
              "    </tr>\n",
              "    <tr>\n",
              "      <th>family_receives_cash_transfer</th>\n",
              "      <td>0.336</td>\n",
              "      <td>0.348</td>\n",
              "    </tr>\n",
              "    <tr>\n",
              "      <th>has_computer_with_internet_at_home</th>\n",
              "      <td>0.548</td>\n",
              "      <td>0.542</td>\n",
              "    </tr>\n",
              "    <tr>\n",
              "      <th>is_unemployed</th>\n",
              "      <td>0.322</td>\n",
              "      <td>0.322</td>\n",
              "    </tr>\n",
              "    <tr>\n",
              "      <th>has_some_form_of_income</th>\n",
              "      <td>0.639</td>\n",
              "      <td>0.656</td>\n",
              "    </tr>\n",
              "    <tr>\n",
              "      <th>saves_money_for_future_purchases</th>\n",
              "      <td>0.143</td>\n",
              "      <td>0.149</td>\n",
              "    </tr>\n",
              "    <tr>\n",
              "      <th>intention_to_save_index</th>\n",
              "      <td>49.016</td>\n",
              "      <td>48.947</td>\n",
              "    </tr>\n",
              "    <tr>\n",
              "      <th>makes_list_of_expenses_every_month</th>\n",
              "      <td>0.094</td>\n",
              "      <td>0.099</td>\n",
              "    </tr>\n",
              "    <tr>\n",
              "      <th>negotiates_prices_or_payment_methods</th>\n",
              "      <td>0.763</td>\n",
              "      <td>0.764</td>\n",
              "    </tr>\n",
              "    <tr>\n",
              "      <th>financial_autonomy_index</th>\n",
              "      <td>49.289</td>\n",
              "      <td>49.015</td>\n",
              "    </tr>\n",
              "  </tbody>\n",
              "</table>\n",
              "</div>\n",
              "      <button class=\"colab-df-convert\" onclick=\"convertToInteractive('df-da2e4b8f-93b6-4040-9406-0ad84e08c2a1')\"\n",
              "              title=\"Convert this dataframe to an interactive table.\"\n",
              "              style=\"display:none;\">\n",
              "        \n",
              "  <svg xmlns=\"http://www.w3.org/2000/svg\" height=\"24px\"viewBox=\"0 0 24 24\"\n",
              "       width=\"24px\">\n",
              "    <path d=\"M0 0h24v24H0V0z\" fill=\"none\"/>\n",
              "    <path d=\"M18.56 5.44l.94 2.06.94-2.06 2.06-.94-2.06-.94-.94-2.06-.94 2.06-2.06.94zm-11 1L8.5 8.5l.94-2.06 2.06-.94-2.06-.94L8.5 2.5l-.94 2.06-2.06.94zm10 10l.94 2.06.94-2.06 2.06-.94-2.06-.94-.94-2.06-.94 2.06-2.06.94z\"/><path d=\"M17.41 7.96l-1.37-1.37c-.4-.4-.92-.59-1.43-.59-.52 0-1.04.2-1.43.59L10.3 9.45l-7.72 7.72c-.78.78-.78 2.05 0 2.83L4 21.41c.39.39.9.59 1.41.59.51 0 1.02-.2 1.41-.59l7.78-7.78 2.81-2.81c.8-.78.8-2.07 0-2.86zM5.41 20L4 18.59l7.72-7.72 1.47 1.35L5.41 20z\"/>\n",
              "  </svg>\n",
              "      </button>\n",
              "      \n",
              "  <style>\n",
              "    .colab-df-container {\n",
              "      display:flex;\n",
              "      flex-wrap:wrap;\n",
              "      gap: 12px;\n",
              "    }\n",
              "\n",
              "    .colab-df-convert {\n",
              "      background-color: #E8F0FE;\n",
              "      border: none;\n",
              "      border-radius: 50%;\n",
              "      cursor: pointer;\n",
              "      display: none;\n",
              "      fill: #1967D2;\n",
              "      height: 32px;\n",
              "      padding: 0 0 0 0;\n",
              "      width: 32px;\n",
              "    }\n",
              "\n",
              "    .colab-df-convert:hover {\n",
              "      background-color: #E2EBFA;\n",
              "      box-shadow: 0px 1px 2px rgba(60, 64, 67, 0.3), 0px 1px 3px 1px rgba(60, 64, 67, 0.15);\n",
              "      fill: #174EA6;\n",
              "    }\n",
              "\n",
              "    [theme=dark] .colab-df-convert {\n",
              "      background-color: #3B4455;\n",
              "      fill: #D2E3FC;\n",
              "    }\n",
              "\n",
              "    [theme=dark] .colab-df-convert:hover {\n",
              "      background-color: #434B5C;\n",
              "      box-shadow: 0px 1px 3px 1px rgba(0, 0, 0, 0.15);\n",
              "      filter: drop-shadow(0px 1px 2px rgba(0, 0, 0, 0.3));\n",
              "      fill: #FFFFFF;\n",
              "    }\n",
              "  </style>\n",
              "\n",
              "      <script>\n",
              "        const buttonEl =\n",
              "          document.querySelector('#df-da2e4b8f-93b6-4040-9406-0ad84e08c2a1 button.colab-df-convert');\n",
              "        buttonEl.style.display =\n",
              "          google.colab.kernel.accessAllowed ? 'block' : 'none';\n",
              "\n",
              "        async function convertToInteractive(key) {\n",
              "          const element = document.querySelector('#df-da2e4b8f-93b6-4040-9406-0ad84e08c2a1');\n",
              "          const dataTable =\n",
              "            await google.colab.kernel.invokeFunction('convertToInteractive',\n",
              "                                                     [key], {});\n",
              "          if (!dataTable) return;\n",
              "\n",
              "          const docLinkHtml = 'Like what you see? Visit the ' +\n",
              "            '<a target=\"_blank\" href=https://colab.research.google.com/notebooks/data_table.ipynb>data table notebook</a>'\n",
              "            + ' to learn more about interactive tables.';\n",
              "          element.innerHTML = '';\n",
              "          dataTable['output_type'] = 'display_data';\n",
              "          await google.colab.output.renderOutput(dataTable, element);\n",
              "          const docLink = document.createElement('div');\n",
              "          docLink.innerHTML = docLinkHtml;\n",
              "          element.appendChild(docLink);\n",
              "        }\n",
              "      </script>\n",
              "    </div>\n",
              "  </div>\n",
              "  "
            ]
          },
          "metadata": {},
          "execution_count": 110
        }
      ],
      "source": [
        "# verify covariates seem balanced between treatment and control\n",
        "df.groupby('treatment').mean().reset_index().transpose()"
      ]
    },
    {
      "cell_type": "code",
      "execution_count": null,
      "metadata": {
        "id": "uPwNcBdgNdbR"
      },
      "outputs": [],
      "source": [
        "outcome_col = 'outcome_test_score'\n",
        "treatment_col = 'treatment'\n",
        "covariate_cols = list(df.drop(columns=[outcome_col]+[treatment_col]).columns)"
      ]
    },
    {
      "cell_type": "markdown",
      "metadata": {
        "id": "C6IpOzSbHtYU"
      },
      "source": [
        "### *a. Run the data analysis for the first method in I.c and report your code, the results of the estimation and all the metrics you described in I.d.*"
      ]
    },
    {
      "cell_type": "code",
      "execution_count": null,
      "metadata": {
        "id": "e-DV94EFKZld",
        "colab": {
          "base_uri": "https://localhost:8080/"
        },
        "outputId": "046c63c9-18d6-45b4-c86d-c1942df2f3a0"
      },
      "outputs": [
        {
          "output_type": "stream",
          "name": "stdout",
          "text": [
            "                            OLS Regression Results                            \n",
            "==============================================================================\n",
            "Dep. Variable:     outcome_test_score   R-squared:                       0.021\n",
            "Model:                            OLS   Adj. R-squared:                  0.021\n",
            "Method:                 Least Squares   F-statistic:                     260.0\n",
            "Date:                Fri, 24 Mar 2023   Prob (F-statistic):           6.79e-58\n",
            "Time:                        03:20:04   Log-Likelihood:                -49967.\n",
            "No. Observations:               12222   AIC:                         9.994e+04\n",
            "Df Residuals:                   12220   BIC:                         9.995e+04\n",
            "Df Model:                           1                                         \n",
            "Covariance Type:                  HC1                                         \n",
            "==============================================================================\n",
            "                 coef    std err          z      P>|z|      [0.025      0.975]\n",
            "------------------------------------------------------------------------------\n",
            "Intercept     57.5908      0.191    301.648      0.000      57.217      57.965\n",
            "treatment      4.2158      0.261     16.124      0.000       3.703       4.728\n",
            "==============================================================================\n",
            "Omnibus:                      420.438   Durbin-Watson:                   1.951\n",
            "Prob(Omnibus):                  0.000   Jarque-Bera (JB):              192.914\n",
            "Skew:                          -0.036   Prob(JB):                     1.29e-42\n",
            "Kurtosis:                       2.389   Cond. No.                         2.65\n",
            "==============================================================================\n",
            "\n",
            "Notes:\n",
            "[1] Standard Errors are heteroscedasticity robust (HC1)\n"
          ]
        }
      ],
      "source": [
        "# run OLS of outcome on just treatment\n",
        "base_ols = smf.ols('outcome_test_score ~ treatment', \n",
        "               data = df)\n",
        "print(base_ols.fit(cov_type=\"HC1\").summary())"
      ]
    },
    {
      "cell_type": "code",
      "execution_count": null,
      "metadata": {
        "id": "njxJppvzMh2n",
        "colab": {
          "base_uri": "https://localhost:8080/"
        },
        "outputId": "bf3820fa-2916-4c08-8bd0-4c87bcc4dfd9"
      },
      "outputs": [
        {
          "output_type": "stream",
          "name": "stdout",
          "text": [
            "Average Predictive Effect under Base Model using OLS: 4.216\n",
            "SE under Base Model using OLS: 0.261\n",
            "95% CI under Base Model using OLS: [3.703, 4.728]\n"
          ]
        }
      ],
      "source": [
        "hat = base_ols.fit(cov_type=\"HC1\").params[base_ols.exog_names.index(\"treatment\")]\n",
        "se = base_ols.fit(cov_type=\"HC1\").bse['treatment']\n",
        "ci = [hat - 1.96*se, hat + 1.96*se]\n",
        "print(f\"Average Predictive Effect under Base Model using OLS: {round(hat,3)}\")\n",
        "print(f\"SE under Base Model using OLS: {round(se,3)}\")\n",
        "print(f\"95% CI under Base Model using OLS: {[round(i, 3) for i in ci]}\")"
      ]
    },
    {
      "cell_type": "code",
      "execution_count": null,
      "metadata": {
        "id": "h1ZSV7DuLBOw",
        "colab": {
          "base_uri": "https://localhost:8080/"
        },
        "outputId": "d548cc43-3f38-4783-b47d-b10b0fe22b9f"
      },
      "outputs": [
        {
          "output_type": "stream",
          "name": "stdout",
          "text": [
            "                            OLS Regression Results                            \n",
            "==============================================================================\n",
            "Dep. Variable:     outcome_test_score   R-squared:                       0.137\n",
            "Model:                            OLS   Adj. R-squared:                  0.135\n",
            "Method:                 Least Squares   F-statistic:                     153.2\n",
            "Date:                Fri, 24 Mar 2023   Prob (F-statistic):               0.00\n",
            "Time:                        03:20:04   Log-Likelihood:                -49199.\n",
            "No. Observations:               12222   AIC:                         9.843e+04\n",
            "Df Residuals:                   12206   BIC:                         9.855e+04\n",
            "Df Model:                          15                                         \n",
            "Covariance Type:                  HC1                                         \n",
            "========================================================================================================\n",
            "                                           coef    std err          z      P>|z|      [0.025      0.975]\n",
            "--------------------------------------------------------------------------------------------------------\n",
            "Intercept                               51.9075      0.793     65.482      0.000      50.354      53.461\n",
            "treatment                                4.2905      0.246     17.425      0.000       3.808       4.773\n",
            "school                                -5.43e-08   1.61e-08     -3.370      0.001   -8.59e-08   -2.27e-08\n",
            "is_female                                2.6648      0.258     10.332      0.000       2.159       3.170\n",
            "mother_attended_secondary_school         0.6849      0.287      2.385      0.017       0.122       1.248\n",
            "father_attened_secondary_school          0.7407      0.293      2.528      0.011       0.167       1.315\n",
            "failed_at_least_one_school_year         -5.8583      0.278    -21.038      0.000      -6.404      -5.313\n",
            "family_receives_cash_transfer           -1.5807      0.274     -5.775      0.000      -2.117      -1.044\n",
            "has_computer_with_internet_at_home      -0.2147      0.278     -0.773      0.440      -0.759       0.330\n",
            "is_unemployed                           -2.1483      0.299     -7.190      0.000      -2.734      -1.563\n",
            "has_some_form_of_income                  2.2352      0.278      8.038      0.000       1.690       2.780\n",
            "saves_money_for_future_purchases        -0.1104      0.376     -0.293      0.769      -0.848       0.627\n",
            "intention_to_save_index                  0.1736      0.007     23.917      0.000       0.159       0.188\n",
            "makes_list_of_expenses_every_month      -1.7310      0.442     -3.915      0.000      -2.598      -0.864\n",
            "negotiates_prices_or_payment_methods     0.3689      0.312      1.184      0.236      -0.242       0.980\n",
            "financial_autonomy_index                -0.0372      0.007     -5.047      0.000      -0.052      -0.023\n",
            "==============================================================================\n",
            "Omnibus:                      121.438   Durbin-Watson:                   1.972\n",
            "Prob(Omnibus):                  0.000   Jarque-Bera (JB):               83.903\n",
            "Skew:                          -0.080   Prob(JB):                     6.04e-19\n",
            "Kurtosis:                       2.627   Cond. No.                     2.19e+08\n",
            "==============================================================================\n",
            "\n",
            "Notes:\n",
            "[1] Standard Errors are heteroscedasticity robust (HC1)\n",
            "[2] The condition number is large, 2.19e+08. This might indicate that there are\n",
            "strong multicollinearity or other numerical problems.\n"
          ]
        }
      ],
      "source": [
        "# run OLS of outcome on treatment and all covariates\n",
        "formula = outcome_col + ' ~ ' + treatment_col + ' + ' + ' + '.join(covariate_cols)\n",
        "ols_covariates = smf.ols(formula, data = df)\n",
        "print(ols_covariates.fit(cov_type=\"HC1\").summary())"
      ]
    },
    {
      "cell_type": "code",
      "execution_count": null,
      "metadata": {
        "id": "D8j7TkLRQfj7",
        "colab": {
          "base_uri": "https://localhost:8080/"
        },
        "outputId": "a7e4be2a-a0ff-4515-f511-012020009295"
      },
      "outputs": [
        {
          "output_type": "stream",
          "name": "stdout",
          "text": [
            "Average Predictive Effect under OLS with covariates: 4.291\n",
            "SE using under OLS with covariates: 0.246\n",
            "95% CI under OLS with covariates: [3.808, 4.773]\n"
          ]
        }
      ],
      "source": [
        "hat = ols_covariates.fit(cov_type=\"HC1\").params[ols_covariates.exog_names.index(\"treatment\")]\n",
        "se = ols_covariates.fit(cov_type=\"HC1\").bse['treatment']\n",
        "ci = [hat - 1.96*se, hat + 1.96*se]\n",
        "print(f\"Average Predictive Effect under OLS with covariates: {round(hat,3)}\")\n",
        "print(f\"SE using under OLS with covariates: {round(se,3)}\")\n",
        "print(f\"95% CI under OLS with covariates: {[round(i, 3) for i in ci]}\")"
      ]
    },
    {
      "cell_type": "markdown",
      "source": [
        "Under the plain OLS, with and without including all the other covariates, we get a similar ATE of 4.2 and 4.3 respectively, with high statistical confidence. Including the covariates increases the adjusted R-squared from 0.021 to 0.135."
      ],
      "metadata": {
        "id": "QppSxJEcsY-A"
      }
    },
    {
      "cell_type": "markdown",
      "metadata": {
        "id": "5JJlFlKsH0KB"
      },
      "source": [
        "### *b. Run the data analysis for the second method in I.c and report your code, the results of the estimation  and report all the metrics you described in I.d*"
      ]
    },
    {
      "cell_type": "code",
      "execution_count": null,
      "metadata": {
        "id": "wtQAUYbscKqc",
        "colab": {
          "base_uri": "https://localhost:8080/"
        },
        "outputId": "7b69ebaf-6350-47fc-97d1-587de3640314"
      },
      "outputs": [
        {
          "output_type": "stream",
          "name": "stdout",
          "text": [
            "                            OLS Regression Results                            \n",
            "==============================================================================\n",
            "Dep. Variable:                      y   R-squared:                       0.152\n",
            "Model:                            OLS   Adj. R-squared:                  0.144\n",
            "Method:                 Least Squares   F-statistic:                     2.929\n",
            "Date:                Fri, 24 Mar 2023   Prob (F-statistic):           2.21e-21\n",
            "Time:                        03:20:05   Log-Likelihood:                -49087.\n",
            "No. Observations:               12222   AIC:                         9.842e+04\n",
            "Df Residuals:                   12101   BIC:                         9.931e+04\n",
            "Df Model:                         120                                         \n",
            "Covariance Type:                  HC1                                         \n",
            "===========================================================================================================================================\n",
            "                                                                              coef    std err          z      P>|z|      [0.025      0.975]\n",
            "-------------------------------------------------------------------------------------------------------------------------------------------\n",
            "const                                                                      51.9941      3.140     16.558      0.000      45.840      58.149\n",
            "treatment                                                                   4.7731      1.574      3.032      0.002       1.687       7.859\n",
            "school                                                                  -1.239e-07   7.67e-08     -1.616      0.106   -2.74e-07    2.64e-08\n",
            "is_female                                                                   1.1290      1.624      0.695      0.487      -2.054       4.312\n",
            "mother_attended_secondary_school                                            4.7054      1.823      2.581      0.010       1.132       8.279\n",
            "father_attened_secondary_school                                            -1.0820      1.885     -0.574      0.566      -4.777       2.613\n",
            "failed_at_least_one_school_year                                            -6.8871      1.735     -3.970      0.000     -10.287      -3.487\n",
            "family_receives_cash_transfer                                              -0.4457      1.709     -0.261      0.794      -3.796       2.904\n",
            "has_computer_with_internet_at_home                                          6.3666      1.694      3.758      0.000       3.046       9.687\n",
            "is_unemployed                                                              -6.3954      1.993     -3.209      0.001     -10.302      -2.489\n",
            "has_some_form_of_income                                                     0.6505      1.789      0.364      0.716      -2.857       4.158\n",
            "saves_money_for_future_purchases                                            2.8450      2.596      1.096      0.273      -2.243       7.933\n",
            "intention_to_save_index                                                     0.1685      0.043      3.908      0.000       0.084       0.253\n",
            "makes_list_of_expenses_every_month                                         -4.5695      2.991     -1.528      0.127     -10.432       1.293\n",
            "negotiates_prices_or_payment_methods                                       -3.0149      2.033     -1.483      0.138      -6.999       0.970\n",
            "financial_autonomy_index                                                    0.0235      0.045      0.517      0.605      -0.065       0.112\n",
            "treatment_school                                                          3.85e-08   3.26e-08      1.182      0.237   -2.53e-08    1.02e-07\n",
            "treatment_is_female                                                        -0.6464      0.516     -1.253      0.210      -1.658       0.365\n",
            "treatment_mother_attended_secondary_school                                 -0.9837      0.572     -1.719      0.086      -2.105       0.138\n",
            "treatment_father_attened_secondary_school                                   0.9078      0.585      1.552      0.121      -0.238       2.054\n",
            "treatment_failed_at_least_one_school_year                                   0.3061      0.559      0.548      0.584      -0.789       1.401\n",
            "treatment_family_receives_cash_transfer                                    -0.9142      0.548     -1.669      0.095      -1.988       0.159\n",
            "treatment_has_computer_with_internet_at_home                               -0.5150      0.556     -0.926      0.354      -1.605       0.575\n",
            "treatment_is_unemployed                                                     0.1726      0.599      0.288      0.773      -1.002       1.347\n",
            "treatment_has_some_form_of_income                                           1.2300      0.558      2.204      0.028       0.136       2.324\n",
            "treatment_saves_money_for_future_purchases                                  0.0944      0.754      0.125      0.900      -1.382       1.571\n",
            "treatment_intention_to_save_index                                          -0.0045      0.015     -0.308      0.758      -0.033       0.024\n",
            "treatment_makes_list_of_expenses_every_month                               -0.9047      0.891     -1.016      0.310      -2.650       0.841\n",
            "treatment_negotiates_prices_or_payment_methods                              0.2385      0.626      0.381      0.703      -0.988       1.465\n",
            "treatment_financial_autonomy_index                                         -0.0303      0.015     -2.050      0.040      -0.059      -0.001\n",
            "school_is_female                                                         8.044e-08   3.36e-08      2.392      0.017    1.45e-08    1.46e-07\n",
            "school_mother_attended_secondary_school                                 -6.754e-08   3.75e-08     -1.801      0.072   -1.41e-07    5.97e-09\n",
            "school_father_attened_secondary_school                                   7.179e-08   3.87e-08      1.855      0.064   -4.08e-09    1.48e-07\n",
            "school_failed_at_least_one_school_year                                   7.219e-08   3.59e-08      2.010      0.044     1.8e-09    1.43e-07\n",
            "school_family_receives_cash_transfer                                    -4.471e-08   3.42e-08     -1.307      0.191   -1.12e-07    2.24e-08\n",
            "school_has_computer_with_internet_at_home                               -8.204e-08   3.56e-08     -2.305      0.021   -1.52e-07   -1.23e-08\n",
            "school_is_unemployed                                                     1.688e-08   4.01e-08      0.421      0.674   -6.18e-08    9.56e-08\n",
            "school_has_some_form_of_income                                            3.66e-08   3.64e-08      1.006      0.314   -3.47e-08    1.08e-07\n",
            "school_saves_money_for_future_purchases                                  3.917e-08   4.69e-08      0.835      0.404   -5.27e-08    1.31e-07\n",
            "school_intention_to_save_index                                           2.715e-10   9.11e-10      0.298      0.766   -1.51e-09    2.06e-09\n",
            "school_makes_list_of_expenses_every_month                                1.586e-07   5.95e-08      2.666      0.008     4.2e-08    2.75e-07\n",
            "school_negotiates_prices_or_payment_methods                              8.802e-08   4.59e-08      1.918      0.055   -1.93e-09    1.78e-07\n",
            "school_financial_autonomy_index                                         -1.749e-09   9.71e-10     -1.800      0.072   -3.65e-09    1.55e-10\n",
            "is_female_mother_attended_secondary_school                                  0.2013      0.600      0.336      0.737      -0.974       1.376\n",
            "is_female_father_attened_secondary_school                                  -0.4581      0.611     -0.749      0.454      -1.656       0.740\n",
            "is_female_failed_at_least_one_school_year                                  -2.1519      0.576     -3.737      0.000      -3.280      -1.023\n",
            "is_female_family_receives_cash_transfer                                     1.0128      0.575      1.762      0.078      -0.114       2.139\n",
            "is_female_has_computer_with_internet_at_home                               -1.5660      0.580     -2.702      0.007      -2.702      -0.430\n",
            "is_female_is_unemployed                                                     1.2695      0.617      2.058      0.040       0.060       2.479\n",
            "is_female_has_some_form_of_income                                          -0.0781      0.591     -0.132      0.895      -1.237       1.081\n",
            "is_female_saves_money_for_future_purchases                                  0.7881      0.783      1.007      0.314      -0.746       2.322\n",
            "is_female_intention_to_save_index                                          -0.0064      0.015     -0.425      0.671      -0.036       0.023\n",
            "is_female_makes_list_of_expenses_every_month                               -0.9972      1.002     -0.995      0.320      -2.961       0.966\n",
            "is_female_negotiates_prices_or_payment_methods                              1.4278      0.665      2.147      0.032       0.125       2.731\n",
            "is_female_financial_autonomy_index                                         -0.0161      0.015     -1.056      0.291      -0.046       0.014\n",
            "mother_attended_secondary_school_father_attened_secondary_school           -0.6714      0.593     -1.132      0.258      -1.834       0.491\n",
            "mother_attended_secondary_school_failed_at_least_one_school_year           -0.6324      0.662     -0.955      0.339      -1.930       0.665\n",
            "mother_attended_secondary_school_family_receives_cash_transfer             -1.3377      0.641     -2.088      0.037      -2.593      -0.082\n",
            "mother_attended_secondary_school_has_computer_with_internet_at_home        -0.5853      0.625     -0.936      0.349      -1.811       0.640\n",
            "mother_attended_secondary_school_is_unemployed                              0.1284      0.694      0.185      0.853      -1.231       1.488\n",
            "mother_attended_secondary_school_has_some_form_of_income                   -0.4283      0.656     -0.653      0.514      -1.713       0.857\n",
            "mother_attended_secondary_school_saves_money_for_future_purchases           0.4573      0.902      0.507      0.612      -1.311       2.226\n",
            "mother_attended_secondary_school_intention_to_save_index                   -0.0159      0.017     -0.951      0.342      -0.049       0.017\n",
            "mother_attended_secondary_school_makes_list_of_expenses_every_month        -1.0811      1.064     -1.016      0.309      -3.166       1.003\n",
            "mother_attended_secondary_school_negotiates_prices_or_payment_methods      -0.9026      0.718     -1.257      0.209      -2.310       0.504\n",
            "mother_attended_secondary_school_financial_autonomy_index                   0.0283      0.017      1.682      0.093      -0.005       0.061\n",
            "father_attened_secondary_school_failed_at_least_one_school_year            -0.7355      0.685     -1.073      0.283      -2.079       0.608\n",
            "father_attened_secondary_school_family_receives_cash_transfer              -1.7315      0.663     -2.613      0.009      -3.030      -0.433\n",
            "father_attened_secondary_school_has_computer_with_internet_at_home          0.5279      0.633      0.834      0.404      -0.713       1.769\n",
            "father_attened_secondary_school_is_unemployed                              -0.4701      0.710     -0.662      0.508      -1.862       0.921\n",
            "father_attened_secondary_school_has_some_form_of_income                     0.2702      0.668      0.404      0.686      -1.039       1.580\n",
            "father_attened_secondary_school_saves_money_for_future_purchases           -1.1292      0.919     -1.229      0.219      -2.930       0.672\n",
            "father_attened_secondary_school_intention_to_save_index                     0.0015      0.017      0.086      0.931      -0.032       0.035\n",
            "father_attened_secondary_school_makes_list_of_expenses_every_month          0.2536      1.088      0.233      0.816      -1.878       2.385\n",
            "father_attened_secondary_school_negotiates_prices_or_payment_methods        0.2944      0.728      0.404      0.686      -1.133       1.722\n",
            "father_attened_secondary_school_financial_autonomy_index                   -0.0039      0.017     -0.227      0.820      -0.038       0.030\n",
            "failed_at_least_one_school_year_family_receives_cash_transfer               1.5698      0.603      2.603      0.009       0.388       2.752\n",
            "failed_at_least_one_school_year_has_computer_with_internet_at_home          0.6638      0.635      1.045      0.296      -0.581       1.908\n",
            "failed_at_least_one_school_year_is_unemployed                               0.4448      0.659      0.675      0.500      -0.847       1.736\n",
            "failed_at_least_one_school_year_has_some_form_of_income                     0.1092      0.636      0.172      0.864      -1.138       1.357\n",
            "failed_at_least_one_school_year_saves_money_for_future_purchases           -0.7066      0.839     -0.842      0.400      -2.351       0.937\n",
            "failed_at_least_one_school_year_intention_to_save_index                    -0.0120      0.016     -0.760      0.447      -0.043       0.019\n",
            "failed_at_least_one_school_year_makes_list_of_expenses_every_month         -0.5978      0.942     -0.635      0.526      -2.444       1.248\n",
            "failed_at_least_one_school_year_negotiates_prices_or_payment_methods        0.3546      0.717      0.495      0.621      -1.050       1.760\n",
            "failed_at_least_one_school_year_financial_autonomy_index                   -0.0108      0.016     -0.661      0.509      -0.043       0.021\n",
            "family_receives_cash_transfer_has_computer_with_internet_at_home            0.6357      0.619      1.027      0.304      -0.577       1.849\n",
            "family_receives_cash_transfer_is_unemployed                                 0.0628      0.658      0.095      0.924      -1.226       1.351\n",
            "family_receives_cash_transfer_has_some_form_of_income                       0.1756      0.611      0.287      0.774      -1.022       1.374\n",
            "family_receives_cash_transfer_saves_money_for_future_purchases             -1.0288      0.834     -1.233      0.218      -2.664       0.607\n",
            "family_receives_cash_transfer_intention_to_save_index                       0.0055      0.016      0.341      0.733      -0.026       0.037\n",
            "family_receives_cash_transfer_makes_list_of_expenses_every_month           -0.7699      0.947     -0.813      0.416      -2.625       1.085\n",
            "family_receives_cash_transfer_negotiates_prices_or_payment_methods         -0.0162      0.699     -0.023      0.982      -1.387       1.355\n",
            "family_receives_cash_transfer_financial_autonomy_index                      0.0027      0.017      0.160      0.873      -0.030       0.036\n",
            "has_computer_with_internet_at_home_is_unemployed                           -0.0716      0.663     -0.108      0.914      -1.370       1.227\n",
            "has_computer_with_internet_at_home_has_some_form_of_income                 -1.7753      0.635     -2.795      0.005      -3.020      -0.530\n",
            "has_computer_with_internet_at_home_saves_money_for_future_purchases        -0.1639      0.854     -0.192      0.848      -1.839       1.511\n",
            "has_computer_with_internet_at_home_intention_to_save_index                  0.0099      0.016      0.604      0.546      -0.022       0.042\n",
            "has_computer_with_internet_at_home_makes_list_of_expenses_every_month       0.4534      1.010      0.449      0.654      -1.526       2.433\n",
            "has_computer_with_internet_at_home_negotiates_prices_or_payment_methods    -0.9540      0.693     -1.377      0.168      -2.311       0.404\n",
            "has_computer_with_internet_at_home_financial_autonomy_index                -0.0338      0.017     -2.037      0.042      -0.066      -0.001\n",
            "is_unemployed_has_some_form_of_income                                       0.8089      0.886      0.913      0.361      -0.927       2.545\n",
            "is_unemployed_saves_money_for_future_purchases                              0.6316      0.875      0.722      0.470      -1.083       2.346\n",
            "is_unemployed_intention_to_save_index                                       0.0205      0.018      1.160      0.246      -0.014       0.055\n",
            "is_unemployed_makes_list_of_expenses_every_month                            0.8781      1.016      0.864      0.387      -1.113       2.869\n",
            "is_unemployed_negotiates_prices_or_payment_methods                          0.0295      0.791      0.037      0.970      -1.521       1.580\n",
            "is_unemployed_financial_autonomy_index                                      0.0209      0.018      1.158      0.247      -0.014       0.056\n",
            "has_some_form_of_income_saves_money_for_future_purchases                   -0.7591      0.974     -0.780      0.436      -2.667       1.149\n",
            "has_some_form_of_income_intention_to_save_index                            -0.0197      0.016     -1.194      0.233      -0.052       0.013\n",
            "has_some_form_of_income_makes_list_of_expenses_every_month                  0.7163      1.098      0.652      0.514      -1.436       2.869\n",
            "has_some_form_of_income_negotiates_prices_or_payment_methods                0.9963      0.688      1.449      0.147      -0.351       2.344\n",
            "has_some_form_of_income_financial_autonomy_index                            0.0188      0.017      1.106      0.269      -0.015       0.052\n",
            "saves_money_for_future_purchases_intention_to_save_index                   -0.0197      0.022     -0.881      0.379      -0.064       0.024\n",
            "saves_money_for_future_purchases_makes_list_of_expenses_every_month        -1.6264      1.026     -1.585      0.113      -3.637       0.385\n",
            "saves_money_for_future_purchases_negotiates_prices_or_payment_methods      -2.0777      1.064     -1.953      0.051      -4.163       0.007\n",
            "saves_money_for_future_purchases_financial_autonomy_index                  -0.0088      0.024     -0.373      0.709      -0.055       0.037\n",
            "intention_to_save_index_makes_list_of_expenses_every_month                  0.0314      0.025      1.250      0.211      -0.018       0.081\n",
            "intention_to_save_index_negotiates_prices_or_payment_methods               -0.0075      0.018     -0.416      0.677      -0.043       0.028\n",
            "intention_to_save_index_financial_autonomy_index                            0.0003      0.000      0.726      0.468      -0.000       0.001\n",
            "makes_list_of_expenses_every_month_negotiates_prices_or_payment_methods    -1.7337      1.273     -1.361      0.173      -4.229       0.762\n",
            "makes_list_of_expenses_every_month_financial_autonomy_index                -0.0174      0.028     -0.628      0.530      -0.072       0.037\n",
            "negotiates_prices_or_payment_methods_financial_autonomy_index               0.0031      0.017      0.183      0.855      -0.030       0.036\n",
            "==============================================================================\n",
            "Omnibus:                       99.444   Durbin-Watson:                   1.975\n",
            "Prob(Omnibus):                  0.000   Jarque-Bera (JB):               70.974\n",
            "Skew:                          -0.072   Prob(JB):                     3.87e-16\n",
            "Kurtosis:                       2.655   Cond. No.                     6.87e+10\n",
            "==============================================================================\n",
            "\n",
            "Notes:\n",
            "[1] Standard Errors are heteroscedasticity robust (HC1)\n",
            "[2] The condition number is large, 6.87e+10. This might indicate that there are\n",
            "strong multicollinearity or other numerical problems.\n"
          ]
        }
      ],
      "source": [
        "y = list(df.outcome_test_score)\n",
        "X = df[[treatment_col] + covariate_cols]\n",
        "poly = PolynomialFeatures(degree=2, interaction_only=True, include_bias=False).fit(X)\n",
        "X_poly = poly.fit_transform(X)\n",
        "\n",
        "var_name_mapping = dict(zip(('x{}'.format(i) for i in count()), X.columns))\n",
        "var_keys = list(var_name_mapping.keys())[::-1]\n",
        "\n",
        "features = []\n",
        "for feature in poly.get_feature_names_out():\n",
        "    for key in var_keys:\n",
        "        feature_name = var_name_mapping[key]\n",
        "        feature = re.sub(key, feature_name, feature)\n",
        "    feature = re.sub(' ', '_', feature)\n",
        "    features.append(feature)\n",
        "X_interactions = pd.DataFrame(X_poly, columns=features)\n",
        "ols_interactions = OLS(y, sm.add_constant(X_interactions)) \n",
        "print(ols_interactions.fit(cov_type=\"HC1\").summary())"
      ]
    },
    {
      "cell_type": "code",
      "execution_count": null,
      "metadata": {
        "id": "ssRgV1CPe0iZ",
        "colab": {
          "base_uri": "https://localhost:8080/"
        },
        "outputId": "279882aa-6351-4c82-f304-8b3aebfc2c3f"
      },
      "outputs": [
        {
          "output_type": "stream",
          "name": "stdout",
          "text": [
            "Average Predictive Effect under OLS with interaction of covariates: 4.773\n",
            "SE using under OLS with interaction of covariates: 1.574\n",
            "95% CI under OLS with interaction of covariates: [1.687, 7.859]\n"
          ]
        }
      ],
      "source": [
        "hat = ols_interactions.fit(cov_type=\"HC1\").params[ols_covariates.exog_names.index(\"treatment\")]\n",
        "se = ols_interactions.fit(cov_type=\"HC1\").bse['treatment']\n",
        "ci = [hat - 1.96*se, hat + 1.96*se]\n",
        "print(f\"Average Predictive Effect under OLS with interaction of covariates: {round(hat,3)}\")\n",
        "print(f\"SE using under OLS with interaction of covariates: {round(se,3)}\")\n",
        "print(f\"95% CI under OLS with interaction of covariates: {[round(i, 3) for i in ci]}\")"
      ]
    },
    {
      "cell_type": "markdown",
      "source": [
        "After including the interaction terms, the coefficient on treatment increases to 4.8, still remaining highly statistically significant, and the adjusted R-squared to 0.144."
      ],
      "metadata": {
        "id": "B41-O67XtJwo"
      }
    },
    {
      "cell_type": "markdown",
      "metadata": {
        "id": "uhiHZD8HMht3"
      },
      "source": [
        "### Double LASSO"
      ]
    },
    {
      "cell_type": "code",
      "execution_count": null,
      "metadata": {
        "id": "IFwcMp_O3paA"
      },
      "outputs": [],
      "source": [
        "cv = KFold(n_splits=5, shuffle=True, random_state=123)\n",
        "lasso_model = lambda: make_pipeline(StandardScaler(), LassoCV(cv=cv))\n",
        "\n",
        "def double_lasso(y, D, W):\n",
        "  yres = y - lasso_model().fit(W, y).predict(W)\n",
        "  Dres = D - lasso_model().fit(W, D).predict(W)\n",
        "  hat = np.mean(yres * Dres) / np.mean(Dres**2)\n",
        "  epsilon = yres - hat * Dres\n",
        "  V = np.mean(epsilon**2 * Dres**2) / np.mean(Dres**2)**2\n",
        "  yrmse = np.mean(yres**2)\n",
        "  drmse = np.mean(Dres**2)\n",
        "  return hat, np.sqrt(V / y.shape[0]), yrmse, drmse"
      ]
    },
    {
      "cell_type": "code",
      "execution_count": null,
      "metadata": {
        "id": "W_P7ZCZ56tWS"
      },
      "outputs": [],
      "source": [
        "ate, std_err, yrmse, drmse = double_lasso(df[outcome_col], df[treatment_col], df[covariate_cols])\n",
        "ci = [ate - 1.96*std_err, ate + 1.96*std_err]\n",
        "print(f\"Average Predictive Effect with Double Lasso: {round(ate,3)}\")\n",
        "print(f\"SE using Double Lasso with covariates: {round(std_err,3)}\")\n",
        "print(f\"95% CI under Double Lasso with covariates: {[round(i, 3) for i in ci]}\")\n",
        "print(f\"Y RMSE {round(yrmse,3)}\")\n",
        "print(f\"D RMSE {round(drmse,3)}\")\n"
      ]
    },
    {
      "cell_type": "markdown",
      "metadata": {
        "id": "buqEKDUHJuV-"
      },
      "source": [
        "### Double LASSO with interaction terms"
      ]
    },
    {
      "cell_type": "markdown",
      "metadata": {
        "id": "YmmQeq2GJ1Vz"
      },
      "source": [
        "We use `PolynomialFatures` from `sklearn` to create degree=2 interaction terms between the covariates. We then estimate the ATE, and the standard error for th ATE using Double Lasso with the interaction terms."
      ]
    },
    {
      "cell_type": "code",
      "execution_count": null,
      "metadata": {
        "id": "iM8-oUEdFQFV"
      },
      "outputs": [],
      "source": [
        "X = df[covariate_cols]\n",
        "poly = PolynomialFeatures(degree=2, interaction_only=True, include_bias=False)\n",
        "X_poly = poly.fit_transform(X)\n",
        "df_interactions = pd.DataFrame(X_poly)\n",
        "print(df_interactions.shape)"
      ]
    },
    {
      "cell_type": "code",
      "execution_count": null,
      "metadata": {
        "id": "CxjV2U8oG_EV"
      },
      "outputs": [],
      "source": [
        "ate_interaction, std_err_interaction, yrmse, drmse = double_lasso(df[outcome_col], df[treatment_col], df_interactions)\n",
        "ci = [ate_interaction - 1.96*std_err_interaction, ate_interaction + 1.96*std_err_interaction]\n",
        "print(f\"Average Predictive Effect with Double Lasso on interaction terms: {round(ate_interaction,3)}\")\n",
        "print(f\"SE using Double Lasso with covariates with interaction terms: {round(std_err_interaction,3)}\")\n",
        "print(f\"95% CI under Double Lasso with covariates with interaction terms: {[round(i, 3) for i in ci]}\")\n",
        "print(f\"Y RMSE {round(yrmse,3)}\")\n",
        "print(f\"D RMSE {round(drmse,3)}\")"
      ]
    },
    {
      "cell_type": "markdown",
      "metadata": {
        "id": "MzTHaM7OH8Sh"
      },
      "source": [
        "### *c. Run the data analysis for the third method in I.c and report your code, the results of the estimation  and report all the metrics you described in I.d*"
      ]
    },
    {
      "cell_type": "markdown",
      "metadata": {
        "id": "5Q23eHXRMt6W"
      },
      "source": [
        "### Logistic Regression to estimate Propensity Scores"
      ]
    },
    {
      "cell_type": "code",
      "execution_count": null,
      "metadata": {
        "id": "YY7aGhM2MzO3"
      },
      "outputs": [],
      "source": [
        "# from flaml.automl.model import LogisticRegression\n",
        "logregressor = LogisticRegression()\n",
        "propensity_model  = logregressor.fit(df[covariate_cols], df[treatment_col])\n",
        "propensity_scores = propensity_model.predict_proba(df[covariate_cols])"
      ]
    },
    {
      "cell_type": "code",
      "execution_count": null,
      "metadata": {
        "id": "NgPtMXj1Nr7v"
      },
      "outputs": [],
      "source": [
        "propensity_scores"
      ]
    },
    {
      "cell_type": "code",
      "execution_count": null,
      "metadata": {
        "id": "vTleuNkW2mnc",
        "colab": {
          "base_uri": "https://localhost:8080/"
        },
        "outputId": "86f86284-e500-4ff5-f542-cca93ef06d50"
      },
      "outputs": [
        {
          "output_type": "stream",
          "name": "stdout",
          "text": [
            "Optimization terminated successfully.\n",
            "         Current function value: 0.691549\n",
            "         Iterations 4\n",
            "                           Logit Regression Results                           \n",
            "==============================================================================\n",
            "Dep. Variable:              treatment   No. Observations:                12222\n",
            "Model:                          Logit   Df Residuals:                    12208\n",
            "Method:                           MLE   Df Model:                           13\n",
            "Date:                Fri, 24 Mar 2023   Pseudo R-squ.:                0.001805\n",
            "Time:                        03:31:11   Log-Likelihood:                -8452.1\n",
            "converged:                       True   LL-Null:                       -8467.4\n",
            "Covariance Type:            nonrobust   LLR p-value:                  0.003892\n",
            "========================================================================================================\n",
            "                                           coef    std err          z      P>|z|      [0.025      0.975]\n",
            "--------------------------------------------------------------------------------------------------------\n",
            "school                                5.324e-10   1.64e-09      0.325      0.745   -2.68e-09    3.74e-09\n",
            "is_female                                0.1126      0.037      3.058      0.002       0.040       0.185\n",
            "mother_attended_secondary_school        -0.0044      0.042     -0.106      0.916      -0.086       0.077\n",
            "father_attened_secondary_school          0.0063      0.043      0.148      0.882      -0.077       0.090\n",
            "failed_at_least_one_school_year          0.1354      0.041      3.263      0.001       0.054       0.217\n",
            "family_receives_cash_transfer            0.0597      0.040      1.488      0.137      -0.019       0.138\n",
            "has_computer_with_internet_at_home      -0.0566      0.038     -1.476      0.140      -0.132       0.019\n",
            "is_unemployed                           -0.0333      0.043     -0.767      0.443      -0.118       0.052\n",
            "has_some_form_of_income                  0.0736      0.041      1.783      0.075      -0.007       0.154\n",
            "saves_money_for_future_purchases         0.0677      0.054      1.256      0.209      -0.038       0.173\n",
            "intention_to_save_index                 -0.0004      0.001     -0.393      0.695      -0.002       0.002\n",
            "makes_list_of_expenses_every_month       0.0355      0.064      0.559      0.576      -0.089       0.160\n",
            "negotiates_prices_or_payment_methods     0.0140      0.045      0.315      0.753      -0.073       0.101\n",
            "financial_autonomy_index                -0.0018      0.001     -1.737      0.082      -0.004       0.000\n",
            "========================================================================================================\n"
          ]
        }
      ],
      "source": [
        "log_reg = sm.Logit(df[treatment_col], df[covariate_cols]).fit()\n",
        "print(log_reg.summary())"
      ]
    },
    {
      "cell_type": "markdown",
      "metadata": {
        "id": "XWnrE6hw2oPK"
      },
      "source": [
        "**Only gender and failed_at_least_one_school_year are significant. It seems that there is almost no difference between using logistic regression and using the frequency of treatment.**"
      ]
    },
    {
      "cell_type": "code",
      "execution_count": null,
      "metadata": {
        "id": "uWJmJCea_zxN"
      },
      "outputs": [],
      "source": [
        "from sklearn.model_selection import train_test_split\n",
        "X, Xval, D, Dval, y, yval = train_test_split(df[covariate_cols], df[treatment_col], df[outcome_col], train_size=.6, shuffle=True, random_state=123)\n",
        "Xval, Xtest, Dval, Dtest, yval, ytest = train_test_split(Xval, Dval, yval, train_size=.5, shuffle=True, random_state=123)\n",
        "split_type = 'auto'\n",
        "groups = None\n",
        "groupsval, groupstest = None, None\n",
        "time_budget = 120 #600 # time budget for auto-ml in seconds (advisable at least 120)\n",
        "verbose = 0 # verbosity of auto-ml\n",
        "n_splits = 5 "
      ]
    },
    {
      "cell_type": "code",
      "execution_count": null,
      "metadata": {
        "id": "CFcoks7L_zqd",
        "colab": {
          "base_uri": "https://localhost:8080/"
        },
        "outputId": "dea6ab57-8be3-4714-ee87-0b51da910207"
      },
      "outputs": [
        {
          "output_type": "stream",
          "name": "stderr",
          "text": [
            "INFO:flaml.tune.searcher.blendsearch:No low-cost partial config given to the search algorithm. For cost-frugal search, consider providing low-cost values for cost-related hps via 'low_cost_partial_config'. More info can be found at https://microsoft.github.io/FLAML/docs/FAQ#about-low_cost_partial_config-in-tune\n"
          ]
        }
      ],
      "source": [
        "model_reg = auto_reg(np.column_stack((D, X)), y.values, groups=groups, n_splits=n_splits, split_type=split_type, \n",
        "                        verbose=verbose, time_budget=time_budget)\n",
        "model_y = auto_reg(X, y.values, groups=groups, n_splits=n_splits, split_type=split_type, \n",
        "                    verbose=verbose, time_budget=time_budget)\n",
        "model_reg_zero = auto_reg(X[D==0], y[D==0].values, groups=groups, n_splits=n_splits, split_type=split_type, \n",
        "                            verbose=verbose, time_budget=time_budget)\n",
        "model_reg_one = auto_reg(X[D==1], y[D==1].values, groups=groups, n_splits=n_splits, split_type=split_type, \n",
        "                            verbose=verbose, time_budget=time_budget)\n",
        "model_t = auto_clf(X, D.values, groups=groups, n_splits=n_splits, split_type=split_type, \n",
        "                   verbose=verbose, time_budget=time_budget)"
      ]
    },
    {
      "cell_type": "code",
      "execution_count": null,
      "metadata": {
        "id": "dnjYL_Ph_zeT"
      },
      "outputs": [],
      "source": [
        "if groups is None:\n",
        "    cv = StratifiedKFold(n_splits=n_splits, shuffle=True, random_state=123)\n",
        "    splits = list(cv.split(X, D))\n",
        "else:\n",
        "    cv = StratifiedGroupKFold(n_splits=n_splits, shuffle=True, random_state=123)\n",
        "    splits = list(cv.split(X, D, groups=groups))\n",
        "\n",
        "n = X.shape[0]\n",
        "reg_preds = np.zeros(n)\n",
        "reg_zero_preds = np.zeros(n)\n",
        "reg_one_preds = np.zeros(n)\n",
        "reg_preds_t = np.zeros(n)\n",
        "reg_zero_preds_t = np.zeros(n)\n",
        "reg_one_preds_t = np.zeros(n)\n",
        "\n",
        "DX = np.column_stack((D, X))\n",
        "for train, test in splits:\n",
        "    reg = model_reg().fit(DX[train], y.values[train])\n",
        "    reg_preds[test] = reg.predict(DX[test])\n",
        "    reg_one_preds[test] = reg.predict(np.column_stack([np.ones(len(test)), X.iloc[test]]))\n",
        "    reg_zero_preds[test] = reg.predict(np.column_stack([np.zeros(len(test)), X.iloc[test]]))\n",
        "\n",
        "    reg_zero = model_reg_zero().fit(X.iloc[train][D.values[train]==0], y.values[train][D.values[train]==0])\n",
        "    reg_one = model_reg_one().fit(X.iloc[train][D.values[train]==1], y.values[train][D.values[train]==1])\n",
        "    reg_zero_preds_t[test] = reg_zero.predict(X.iloc[test])\n",
        "    reg_one_preds_t[test] = reg_one.predict(X.iloc[test])\n",
        "    reg_preds_t[test] = reg_zero_preds_t[test] * (1 - D.values[test]) + reg_one_preds_t[test] * D.values[test]\n",
        "\n",
        "res_preds = cross_val_predict(model_y(), X, y, cv=splits)\n",
        "prop_preds = cross_val_predict(model_t(), X, D, cv=splits)"
      ]
    },
    {
      "cell_type": "code",
      "execution_count": null,
      "metadata": {
        "id": "NRu9FCbe3AY7"
      },
      "outputs": [],
      "source": [
        "# Generic CATE\n",
        "model_final_fn = lambda X, y: auto_reg(X, y, groups=groups,\n",
        "                                       n_splits=n_splits, split_type=split_type, \n",
        "                                       verbose=verbose, time_budget=time_budget)"
      ]
    },
    {
      "cell_type": "markdown",
      "metadata": {
        "id": "ol7IYj4T4cGr"
      },
      "source": [
        "## Single learner:"
      ]
    },
    {
      "cell_type": "code",
      "execution_count": null,
      "metadata": {
        "id": "lNwi-_AF4gkR"
      },
      "outputs": [],
      "source": [
        "# slearner\n",
        "slearner_best = model_final_fn(X, reg_one_preds - reg_zero_preds)\n",
        "slearner = slearner_best().fit(X, reg_one_preds - reg_zero_preds)\n",
        "slearner_cates = slearner.predict(X)"
      ]
    },
    {
      "cell_type": "code",
      "execution_count": null,
      "metadata": {
        "colab": {
          "base_uri": "https://localhost:8080/"
        },
        "id": "iQE7W9yCJlij",
        "outputId": "9c9cde11-690e-40aa-b5f3-c79bc78f216c"
      },
      "outputs": [
        {
          "output_type": "execute_result",
          "data": {
            "text/plain": [
              "4.361214486593398"
            ]
          },
          "metadata": {},
          "execution_count": 136
        }
      ],
      "source": [
        "# ATE \n",
        "np.mean(slearner_cates)"
      ]
    },
    {
      "cell_type": "markdown",
      "metadata": {
        "id": "Li6YcsgkJhtX"
      },
      "source": [
        "## T learner"
      ]
    },
    {
      "cell_type": "code",
      "execution_count": null,
      "metadata": {
        "id": "QnC2V86TJkcK"
      },
      "outputs": [],
      "source": [
        "# tlearner\n",
        "tlearner_best = model_final_fn(X, reg_one_preds_t - reg_zero_preds_t)\n",
        "tlearner = tlearner_best().fit(X, reg_one_preds_t - reg_zero_preds_t)\n",
        "tlearner_cates = tlearner.predict(X)"
      ]
    },
    {
      "cell_type": "code",
      "execution_count": null,
      "metadata": {
        "colab": {
          "base_uri": "https://localhost:8080/"
        },
        "id": "unf6quieJpTS",
        "outputId": "f2dbe8a7-b4f4-4646-a27d-98ce645ad449"
      },
      "outputs": [
        {
          "output_type": "execute_result",
          "data": {
            "text/plain": [
              "4.424523336445955"
            ]
          },
          "metadata": {},
          "execution_count": 138
        }
      ],
      "source": [
        "# ATE \n",
        "np.mean(tlearner_cates)"
      ]
    },
    {
      "cell_type": "markdown",
      "metadata": {
        "id": "_2B3PmIT4hBg"
      },
      "source": [
        "##Cross learner:"
      ]
    },
    {
      "cell_type": "code",
      "execution_count": null,
      "metadata": {
        "id": "oEzP-bMY4nIn"
      },
      "outputs": [],
      "source": [
        "# xlearner\n",
        "tau1_preds = y.values[D==1] - reg_zero_preds_t[D==1]\n",
        "tau0_preds = reg_one_preds_t[D==0] - y.values[D==0]\n",
        "tau1 = model_final_fn(X[D==1], tau1_preds)().fit(X[D==1], tau1_preds)\n",
        "tau0 = model_final_fn(X[D==0], tau0_preds)().fit(X[D==0], tau0_preds)\n",
        "xtarget = prop_preds * tau0.predict(X) + (1 - prop_preds) * tau1.predict(X)\n",
        "xlearner = model_final_fn(X, xtarget)().fit(X, xtarget)\n",
        "xlearner_cates = xlearner.predict(X)"
      ]
    },
    {
      "cell_type": "code",
      "execution_count": null,
      "metadata": {
        "colab": {
          "base_uri": "https://localhost:8080/"
        },
        "id": "jOWm82vWKTR-",
        "outputId": "296df2cb-fc0c-4a20-c875-b8d8c061aea7"
      },
      "outputs": [
        {
          "output_type": "execute_result",
          "data": {
            "text/plain": [
              "4.600819252806745"
            ]
          },
          "metadata": {},
          "execution_count": 140
        }
      ],
      "source": [
        "# ATE\n",
        "np.mean(xlearner_cates)"
      ]
    },
    {
      "cell_type": "markdown",
      "metadata": {
        "id": "xVH1anI54nh-"
      },
      "source": [
        "## DR learner:"
      ]
    },
    {
      "cell_type": "code",
      "execution_count": null,
      "metadata": {
        "id": "fDrWNrkx4qzB"
      },
      "outputs": [],
      "source": [
        "# drlearner\n",
        "dr_preds = reg_one_preds_t - reg_zero_preds_t\n",
        "dr_preds += (y.values - reg_preds_t) * (D.values - prop_preds) / np.clip(prop_preds * (1 - prop_preds), .09, np.inf)\n",
        "drlearner_best = model_final_fn(X, dr_preds)\n",
        "drlearner = drlearner_best().fit(X, dr_preds)\n",
        "drlearner_cates = drlearner.predict(X)"
      ]
    },
    {
      "cell_type": "code",
      "execution_count": null,
      "metadata": {
        "id": "eTOY8pjAL7v7",
        "colab": {
          "base_uri": "https://localhost:8080/"
        },
        "outputId": "4a8f9c55-99d0-467a-f984-4c20e12856d3"
      },
      "outputs": [
        {
          "output_type": "execute_result",
          "data": {
            "text/plain": [
              "5.11928"
            ]
          },
          "metadata": {},
          "execution_count": 142
        }
      ],
      "source": [
        "# ATE\n",
        "np.mean(drlearner_cates)"
      ]
    },
    {
      "cell_type": "code",
      "execution_count": null,
      "metadata": {
        "id": "5oI07SrwNVw3"
      },
      "outputs": [],
      "source": [
        "# drlearner with the real probability of assignment instead of a model for the\n",
        "# propensity score\n",
        "dr_preds = reg_one_preds_t - reg_zero_preds_t\n",
        "dr_preds += (y.values - reg_preds_t) * (D.values - 0.51) / (0.51 * (1 - 0.51))\n",
        "drlearner_best = model_final_fn(X, dr_preds)\n",
        "drlearner = drlearner_best().fit(X, dr_preds)\n",
        "drlearner_cates = drlearner.predict(X)"
      ]
    },
    {
      "cell_type": "code",
      "execution_count": null,
      "metadata": {
        "id": "BPKrWAmZNVmI",
        "colab": {
          "base_uri": "https://localhost:8080/"
        },
        "outputId": "b621ebb0-535a-495a-9cac-2a5178c8676e"
      },
      "outputs": [
        {
          "output_type": "execute_result",
          "data": {
            "text/plain": [
              "4.477877580758076"
            ]
          },
          "metadata": {},
          "execution_count": 144
        }
      ],
      "source": [
        "# ATE\n",
        "np.mean(drlearner_cates)"
      ]
    },
    {
      "cell_type": "markdown",
      "metadata": {
        "id": "5WSTzXujNjIV"
      },
      "source": [
        "**Using the real probability of assignment improves the results.**"
      ]
    },
    {
      "cell_type": "markdown",
      "metadata": {
        "id": "n6Yb5HGN4rH-"
      },
      "source": [
        "## Residual learner:"
      ]
    },
    {
      "cell_type": "code",
      "execution_count": null,
      "metadata": {
        "id": "AwRcR6sZ4u4G"
      },
      "outputs": [],
      "source": [
        "# rlearner\n",
        "yres = y.values - res_preds\n",
        "Dres = D.values - prop_preds\n",
        "Dres = np.clip(Dres, .001, np.inf) * (Dres >= 0) + np.clip(Dres, -np.inf, -.001) * (Dres < 0)\n",
        "\n",
        "rlearner_fn = auto_weighted_reg(X, yres / Dres, sample_weight=Dres**2, groups=groups,\n",
        "                                n_splits=n_splits, verbose=verbose, time_budget=time_budget)\n",
        "rlearner = rlearner_fn().fit(X, yres / Dres, sample_weight=Dres**2)\n",
        "\n",
        "rlearner_cates = rlearner.predict(X)"
      ]
    },
    {
      "cell_type": "code",
      "execution_count": null,
      "metadata": {
        "id": "ypahWhZ-NrKO",
        "colab": {
          "base_uri": "https://localhost:8080/"
        },
        "outputId": "dc684916-6e12-44f7-83fa-b3dfbfabcb22"
      },
      "outputs": [
        {
          "output_type": "execute_result",
          "data": {
            "text/plain": [
              "7.612479"
            ]
          },
          "metadata": {},
          "execution_count": 146
        }
      ],
      "source": [
        "# ATE\n",
        "np.mean(rlearner_cates)"
      ]
    },
    {
      "cell_type": "code",
      "execution_count": null,
      "metadata": {
        "id": "e4THOGUiPLOW"
      },
      "outputs": [],
      "source": [
        "# rlearner\n",
        "yres = y.values - res_preds\n",
        "Dres = D.values - 0.51\n",
        "\n",
        "rlearner_fn = auto_weighted_reg(X, yres / Dres, sample_weight=Dres**2, groups=groups,\n",
        "                                n_splits=n_splits, verbose=verbose, time_budget=time_budget)\n",
        "rlearner = rlearner_fn().fit(X, yres / Dres, sample_weight=Dres**2)\n",
        "\n",
        "rlearner_cates = rlearner.predict(X)"
      ]
    },
    {
      "cell_type": "code",
      "execution_count": null,
      "metadata": {
        "id": "-OmsEn8tPK_G",
        "colab": {
          "base_uri": "https://localhost:8080/"
        },
        "outputId": "e815a897-46a8-4f0d-fc37-01f2f25fbfcc"
      },
      "outputs": [
        {
          "output_type": "execute_result",
          "data": {
            "text/plain": [
              "3.266012723240915"
            ]
          },
          "metadata": {},
          "execution_count": 148
        }
      ],
      "source": [
        "# ATE\n",
        "np.mean(rlearner_cates)"
      ]
    },
    {
      "cell_type": "markdown",
      "metadata": {
        "id": "6tISMKT4T3ir"
      },
      "source": [
        "## R-Score"
      ]
    },
    {
      "cell_type": "code",
      "execution_count": null,
      "metadata": {
        "id": "HPcILC4cT2TE"
      },
      "outputs": [],
      "source": [
        "# r-score\n",
        "yres_val = yval - model_y().fit(X, y).predict(Xval)\n",
        "Dres_val = Dval - model_t().fit(X, D).predict(Xval)\n",
        "\n",
        "overall_ate_val_r = np.mean(yres_val * Dres_val) / np.mean(Dres_val**2)\n",
        "\n",
        "def rscore(cate_preds): \n",
        "    rscore_t = np.mean((yres_val - cate_preds * Dres_val)**2)\n",
        "    rscore_b = np.mean((yres_val - overall_ate_val_r * Dres_val)**2)\n",
        "    return 1 - rscore_t / rscore_b"
      ]
    },
    {
      "cell_type": "code",
      "execution_count": null,
      "metadata": {
        "id": "8ShfXPRdUK9W",
        "colab": {
          "base_uri": "https://localhost:8080/"
        },
        "outputId": "99c4c041-e030-47a1-83ac-f32e58b0f065"
      },
      "outputs": [
        {
          "output_type": "stream",
          "name": "stdout",
          "text": [
            "R-Score -- S-Learner: 0.00018629232509825844\n",
            "R-Score -- T-Learner: 0.0014251826574824822\n",
            "R-Score -- DR-Learner: -0.0004221794204508633\n",
            "R-Score -- X-Learner: 0.001284771172464283\n",
            "R-Score -- R-Learner: -0.00015007586944637552\n"
          ]
        }
      ],
      "source": [
        "print(f\"R-Score -- S-Learner: {rscore(slearner.predict(Xval))}\")\n",
        "print(f\"R-Score -- T-Learner: {rscore(tlearner.predict(Xval))}\")\n",
        "print(f\"R-Score -- DR-Learner: {rscore(drlearner.predict(Xval))}\")\n",
        "print(f\"R-Score -- X-Learner: {rscore(xlearner.predict(Xval))}\")\n",
        "print(f\"R-Score -- R-Learner: {rscore(rlearner.predict(Xval))}\")\n"
      ]
    },
    {
      "cell_type": "markdown",
      "metadata": {
        "id": "pBWMANtVWnAz"
      },
      "source": [
        "## DR-Score"
      ]
    },
    {
      "cell_type": "code",
      "execution_count": null,
      "metadata": {
        "id": "SxFygT8vWmSL"
      },
      "outputs": [],
      "source": [
        "def calculate_dr_outcomes(Xtrain, Dtrain, ytrain, groupstrain, Xval, Dval, yval, groupsval):\n",
        "\n",
        "    reg_zero = model_reg_zero().fit(Xtrain[Dtrain==0], ytrain[Dtrain==0])\n",
        "    reg_one = model_reg_one().fit(Xtrain[Dtrain==1], ytrain[Dtrain==1])\n",
        "    reg_zero_preds_t = reg_zero.predict(Xval)\n",
        "    reg_one_preds_t = reg_one.predict(Xval)\n",
        "    reg_preds_t = reg_zero_preds_t * (1 - Dval) + reg_one_preds_t * Dval\n",
        "    prop_preds = model_t().fit(Xtrain, Dtrain).predict(Xval)\n",
        "\n",
        "    dr = reg_one_preds_t - reg_zero_preds_t\n",
        "    reisz = (Dval - prop_preds) / np.clip(prop_preds * (1 - prop_preds), .09, np.inf)\n",
        "    dr += (yval - reg_preds_t) * reisz\n",
        "\n",
        "    return dr\n",
        "\n",
        "dr_val = calculate_dr_outcomes(X, D, y, groups, Xval, Dval, yval, groupsval)\n",
        "\n",
        "overall_ate_val_dr = np.mean(dr_val)\n",
        "\n",
        "def drscore(cate_preds):\n",
        "    drscore_t = np.mean((dr_val - cate_preds)**2)\n",
        "    drscore_b = np.mean((dr_val - overall_ate_val_dr)**2)\n",
        "    return 1 - drscore_t / drscore_b"
      ]
    },
    {
      "cell_type": "code",
      "execution_count": null,
      "metadata": {
        "id": "hOuipX83WsHm",
        "colab": {
          "base_uri": "https://localhost:8080/"
        },
        "outputId": "0d69e4ba-69bc-45a7-be28-73af86012164"
      },
      "outputs": [
        {
          "output_type": "stream",
          "name": "stdout",
          "text": [
            "R-Score -- S-Learner: 0.013208060550198408\n",
            "R-Score -- T-Learner: 0.07196400902380706\n",
            "R-Score -- DR-Learner: 0.03205383166035247\n",
            "R-Score -- X-Learner: 0.055020669388129106\n",
            "R-Score -- R-Learner: 0.009516230314603025\n"
          ]
        }
      ],
      "source": [
        "print(f\"R-Score -- S-Learner: {drscore(slearner.predict(Xval))}\")\n",
        "print(f\"R-Score -- T-Learner: {drscore(tlearner.predict(Xval))}\")\n",
        "print(f\"R-Score -- DR-Learner: {drscore(drlearner.predict(Xval))}\")\n",
        "print(f\"R-Score -- X-Learner: {drscore(xlearner.predict(Xval))}\")\n",
        "print(f\"R-Score -- R-Learner: {drscore(rlearner.predict(Xval))}\")"
      ]
    },
    {
      "cell_type": "markdown",
      "metadata": {
        "id": "AGOARfbtXyyp"
      },
      "source": [
        "## Ensemble"
      ]
    },
    {
      "cell_type": "code",
      "execution_count": null,
      "metadata": {
        "id": "DxERpjh3Xz6l",
        "colab": {
          "base_uri": "https://localhost:8080/",
          "height": 210
        },
        "outputId": "b01cf756-7ff5-4b49-aa1d-775e2dd3f1bf"
      },
      "outputs": [
        {
          "output_type": "execute_result",
          "data": {
            "text/plain": [
              "Ensemble(models=[AutoMLWrap(model=<flaml.automl.model.LGBMEstimator object at 0x7fb950dbce50>),\n",
              "                 AutoMLWrap(model=<flaml.automl.model.LGBMEstimator object at 0x7fb953a23a60>),\n",
              "                 AutoMLWrap(model=<flaml.automl.model.LGBMEstimator object at 0x7fb94bcbb310>),\n",
              "                 AutoMLWrap(model=<flaml.automl.model.LGBMEstimator object at 0x7fb949751490>),\n",
              "                 AutoMLWrap(model=<flaml.automl.model.LGBMEstimator object at 0x7fb94bc8ffa0>)],\n",
              "         names=['slearner', 'tlearner', 'xlearner', 'drlearner', 'rlearner',\n",
              "                'drlearner_const'],\n",
              "         weights=array([5.04328156e-16, 9.99961208e-01, 3.87917078e-05, 4.06687330e-11,\n",
              "       5.51486947e-17]))"
            ],
            "text/html": [
              "<style>#sk-container-id-1 {color: black;background-color: white;}#sk-container-id-1 pre{padding: 0;}#sk-container-id-1 div.sk-toggleable {background-color: white;}#sk-container-id-1 label.sk-toggleable__label {cursor: pointer;display: block;width: 100%;margin-bottom: 0;padding: 0.3em;box-sizing: border-box;text-align: center;}#sk-container-id-1 label.sk-toggleable__label-arrow:before {content: \"▸\";float: left;margin-right: 0.25em;color: #696969;}#sk-container-id-1 label.sk-toggleable__label-arrow:hover:before {color: black;}#sk-container-id-1 div.sk-estimator:hover label.sk-toggleable__label-arrow:before {color: black;}#sk-container-id-1 div.sk-toggleable__content {max-height: 0;max-width: 0;overflow: hidden;text-align: left;background-color: #f0f8ff;}#sk-container-id-1 div.sk-toggleable__content pre {margin: 0.2em;color: black;border-radius: 0.25em;background-color: #f0f8ff;}#sk-container-id-1 input.sk-toggleable__control:checked~div.sk-toggleable__content {max-height: 200px;max-width: 100%;overflow: auto;}#sk-container-id-1 input.sk-toggleable__control:checked~label.sk-toggleable__label-arrow:before {content: \"▾\";}#sk-container-id-1 div.sk-estimator input.sk-toggleable__control:checked~label.sk-toggleable__label {background-color: #d4ebff;}#sk-container-id-1 div.sk-label input.sk-toggleable__control:checked~label.sk-toggleable__label {background-color: #d4ebff;}#sk-container-id-1 input.sk-hidden--visually {border: 0;clip: rect(1px 1px 1px 1px);clip: rect(1px, 1px, 1px, 1px);height: 1px;margin: -1px;overflow: hidden;padding: 0;position: absolute;width: 1px;}#sk-container-id-1 div.sk-estimator {font-family: monospace;background-color: #f0f8ff;border: 1px dotted black;border-radius: 0.25em;box-sizing: border-box;margin-bottom: 0.5em;}#sk-container-id-1 div.sk-estimator:hover {background-color: #d4ebff;}#sk-container-id-1 div.sk-parallel-item::after {content: \"\";width: 100%;border-bottom: 1px solid gray;flex-grow: 1;}#sk-container-id-1 div.sk-label:hover label.sk-toggleable__label {background-color: #d4ebff;}#sk-container-id-1 div.sk-serial::before {content: \"\";position: absolute;border-left: 1px solid gray;box-sizing: border-box;top: 0;bottom: 0;left: 50%;z-index: 0;}#sk-container-id-1 div.sk-serial {display: flex;flex-direction: column;align-items: center;background-color: white;padding-right: 0.2em;padding-left: 0.2em;position: relative;}#sk-container-id-1 div.sk-item {position: relative;z-index: 1;}#sk-container-id-1 div.sk-parallel {display: flex;align-items: stretch;justify-content: center;background-color: white;position: relative;}#sk-container-id-1 div.sk-item::before, #sk-container-id-1 div.sk-parallel-item::before {content: \"\";position: absolute;border-left: 1px solid gray;box-sizing: border-box;top: 0;bottom: 0;left: 50%;z-index: -1;}#sk-container-id-1 div.sk-parallel-item {display: flex;flex-direction: column;z-index: 1;position: relative;background-color: white;}#sk-container-id-1 div.sk-parallel-item:first-child::after {align-self: flex-end;width: 50%;}#sk-container-id-1 div.sk-parallel-item:last-child::after {align-self: flex-start;width: 50%;}#sk-container-id-1 div.sk-parallel-item:only-child::after {width: 0;}#sk-container-id-1 div.sk-dashed-wrapped {border: 1px dashed gray;margin: 0 0.4em 0.5em 0.4em;box-sizing: border-box;padding-bottom: 0.4em;background-color: white;}#sk-container-id-1 div.sk-label label {font-family: monospace;font-weight: bold;display: inline-block;line-height: 1.2em;}#sk-container-id-1 div.sk-label-container {text-align: center;}#sk-container-id-1 div.sk-container {/* jupyter's `normalize.less` sets `[hidden] { display: none; }` but bootstrap.min.css set `[hidden] { display: none !important; }` so we also need the `!important` here to be able to override the default hidden behavior on the sphinx rendered scikit-learn.org. See: https://github.com/scikit-learn/scikit-learn/issues/21755 */display: inline-block !important;position: relative;}#sk-container-id-1 div.sk-text-repr-fallback {display: none;}</style><div id=\"sk-container-id-1\" class=\"sk-top-container\"><div class=\"sk-text-repr-fallback\"><pre>Ensemble(models=[AutoMLWrap(model=&lt;flaml.automl.model.LGBMEstimator object at 0x7fb950dbce50&gt;),\n",
              "                 AutoMLWrap(model=&lt;flaml.automl.model.LGBMEstimator object at 0x7fb953a23a60&gt;),\n",
              "                 AutoMLWrap(model=&lt;flaml.automl.model.LGBMEstimator object at 0x7fb94bcbb310&gt;),\n",
              "                 AutoMLWrap(model=&lt;flaml.automl.model.LGBMEstimator object at 0x7fb949751490&gt;),\n",
              "                 AutoMLWrap(model=&lt;flaml.automl.model.LGBMEstimator object at 0x7fb94bc8ffa0&gt;)],\n",
              "         names=[&#x27;slearner&#x27;, &#x27;tlearner&#x27;, &#x27;xlearner&#x27;, &#x27;drlearner&#x27;, &#x27;rlearner&#x27;,\n",
              "                &#x27;drlearner_const&#x27;],\n",
              "         weights=array([5.04328156e-16, 9.99961208e-01, 3.87917078e-05, 4.06687330e-11,\n",
              "       5.51486947e-17]))</pre><b>In a Jupyter environment, please rerun this cell to show the HTML representation or trust the notebook. <br />On GitHub, the HTML representation is unable to render, please try loading this page with nbviewer.org.</b></div><div class=\"sk-container\" hidden><div class=\"sk-item\"><div class=\"sk-estimator sk-toggleable\"><input class=\"sk-toggleable__control sk-hidden--visually\" id=\"sk-estimator-id-1\" type=\"checkbox\" checked><label for=\"sk-estimator-id-1\" class=\"sk-toggleable__label sk-toggleable__label-arrow\">Ensemble</label><div class=\"sk-toggleable__content\"><pre>Ensemble(models=[AutoMLWrap(model=&lt;flaml.automl.model.LGBMEstimator object at 0x7fb950dbce50&gt;),\n",
              "                 AutoMLWrap(model=&lt;flaml.automl.model.LGBMEstimator object at 0x7fb953a23a60&gt;),\n",
              "                 AutoMLWrap(model=&lt;flaml.automl.model.LGBMEstimator object at 0x7fb94bcbb310&gt;),\n",
              "                 AutoMLWrap(model=&lt;flaml.automl.model.LGBMEstimator object at 0x7fb949751490&gt;),\n",
              "                 AutoMLWrap(model=&lt;flaml.automl.model.LGBMEstimator object at 0x7fb94bc8ffa0&gt;)],\n",
              "         names=[&#x27;slearner&#x27;, &#x27;tlearner&#x27;, &#x27;xlearner&#x27;, &#x27;drlearner&#x27;, &#x27;rlearner&#x27;,\n",
              "                &#x27;drlearner_const&#x27;],\n",
              "         weights=array([5.04328156e-16, 9.99961208e-01, 3.87917078e-05, 4.06687330e-11,\n",
              "       5.51486947e-17]))</pre></div></div></div></div></div>"
            ]
          },
          "metadata": {},
          "execution_count": 153
        }
      ],
      "source": [
        "from sklearn.base import BaseEstimator\n",
        "\n",
        "scorer = drscore\n",
        "score_name = 'DRscore'\n",
        "names = ['slearner', 'tlearner', 'xlearner', 'drlearner', 'rlearner', 'drlearner_const']\n",
        "models = [slearner, tlearner, xlearner, drlearner, rlearner]\n",
        "scores = [scorer(model.predict(Xval)) for model in models]\n",
        "\n",
        "\n",
        "class Ensemble(BaseEstimator):\n",
        "    \n",
        "    def __init__(self, names, models, weights, intercept=0):\n",
        "        self.names = names\n",
        "        self.models = models\n",
        "        self.weights = weights\n",
        "        self.intercept = intercept\n",
        "    \n",
        "    def predict(self, X):\n",
        "        wcate = np.sum(self.weights.reshape((-1, 1)) * np.array([m.predict(X) for m in self.models]), axis=0)\n",
        "        return self.intercept + wcate\n",
        "\n",
        "eta_grid = np.logspace(-5, 5, 10)\n",
        "ens = {}\n",
        "for eta in eta_grid:\n",
        "    weights = scipy.special.softmax(eta * np.array(scores))\n",
        "    ensemble = Ensemble(names, models, weights)\n",
        "    ens[eta] = (ensemble, scorer(ensemble.predict(Xval)))\n",
        "\n",
        "score_best = -np.inf\n",
        "for eta in eta_grid:\n",
        "    if ens[eta][1] >= score_best:\n",
        "        score_best = ens[eta][1]\n",
        "        eta_best = eta\n",
        "\n",
        "softmax_ensemble = ens[eta_best][0]\n",
        "softmax_ensemble"
      ]
    },
    {
      "cell_type": "code",
      "execution_count": null,
      "metadata": {
        "id": "6ehGRIPrY0aQ",
        "colab": {
          "base_uri": "https://localhost:8080/",
          "height": 210
        },
        "outputId": "825f339b-0620-4405-b292-6e9e5209a62d"
      },
      "outputs": [
        {
          "output_type": "execute_result",
          "data": {
            "text/plain": [
              "Ensemble(intercept=-0.19126261261767485,\n",
              "         models=[AutoMLWrap(model=<flaml.automl.model.LGBMEstimator object at 0x7fb950dbce50>),\n",
              "                 AutoMLWrap(model=<flaml.automl.model.LGBMEstimator object at 0x7fb953a23a60>),\n",
              "                 AutoMLWrap(model=<flaml.automl.model.LGBMEstimator object at 0x7fb94bcbb310>),\n",
              "                 AutoMLWrap(model=<flaml.automl.model.LGBMEstimator object at 0x7fb949751490>),\n",
              "                 AutoMLWrap(model=<flaml.automl.model.LGBMEstimator object at 0x7fb94bc8ffa0>)],\n",
              "         names=['slearner', 'tlearner', 'xlearner', 'drlearner', 'rlearner',\n",
              "                'drlearner_const'],\n",
              "         weights=array([-0.        ,  0.81633771,  0.06598891,  0.18570266, -0.        ]))"
            ],
            "text/html": [
              "<style>#sk-container-id-2 {color: black;background-color: white;}#sk-container-id-2 pre{padding: 0;}#sk-container-id-2 div.sk-toggleable {background-color: white;}#sk-container-id-2 label.sk-toggleable__label {cursor: pointer;display: block;width: 100%;margin-bottom: 0;padding: 0.3em;box-sizing: border-box;text-align: center;}#sk-container-id-2 label.sk-toggleable__label-arrow:before {content: \"▸\";float: left;margin-right: 0.25em;color: #696969;}#sk-container-id-2 label.sk-toggleable__label-arrow:hover:before {color: black;}#sk-container-id-2 div.sk-estimator:hover label.sk-toggleable__label-arrow:before {color: black;}#sk-container-id-2 div.sk-toggleable__content {max-height: 0;max-width: 0;overflow: hidden;text-align: left;background-color: #f0f8ff;}#sk-container-id-2 div.sk-toggleable__content pre {margin: 0.2em;color: black;border-radius: 0.25em;background-color: #f0f8ff;}#sk-container-id-2 input.sk-toggleable__control:checked~div.sk-toggleable__content {max-height: 200px;max-width: 100%;overflow: auto;}#sk-container-id-2 input.sk-toggleable__control:checked~label.sk-toggleable__label-arrow:before {content: \"▾\";}#sk-container-id-2 div.sk-estimator input.sk-toggleable__control:checked~label.sk-toggleable__label {background-color: #d4ebff;}#sk-container-id-2 div.sk-label input.sk-toggleable__control:checked~label.sk-toggleable__label {background-color: #d4ebff;}#sk-container-id-2 input.sk-hidden--visually {border: 0;clip: rect(1px 1px 1px 1px);clip: rect(1px, 1px, 1px, 1px);height: 1px;margin: -1px;overflow: hidden;padding: 0;position: absolute;width: 1px;}#sk-container-id-2 div.sk-estimator {font-family: monospace;background-color: #f0f8ff;border: 1px dotted black;border-radius: 0.25em;box-sizing: border-box;margin-bottom: 0.5em;}#sk-container-id-2 div.sk-estimator:hover {background-color: #d4ebff;}#sk-container-id-2 div.sk-parallel-item::after {content: \"\";width: 100%;border-bottom: 1px solid gray;flex-grow: 1;}#sk-container-id-2 div.sk-label:hover label.sk-toggleable__label {background-color: #d4ebff;}#sk-container-id-2 div.sk-serial::before {content: \"\";position: absolute;border-left: 1px solid gray;box-sizing: border-box;top: 0;bottom: 0;left: 50%;z-index: 0;}#sk-container-id-2 div.sk-serial {display: flex;flex-direction: column;align-items: center;background-color: white;padding-right: 0.2em;padding-left: 0.2em;position: relative;}#sk-container-id-2 div.sk-item {position: relative;z-index: 1;}#sk-container-id-2 div.sk-parallel {display: flex;align-items: stretch;justify-content: center;background-color: white;position: relative;}#sk-container-id-2 div.sk-item::before, #sk-container-id-2 div.sk-parallel-item::before {content: \"\";position: absolute;border-left: 1px solid gray;box-sizing: border-box;top: 0;bottom: 0;left: 50%;z-index: -1;}#sk-container-id-2 div.sk-parallel-item {display: flex;flex-direction: column;z-index: 1;position: relative;background-color: white;}#sk-container-id-2 div.sk-parallel-item:first-child::after {align-self: flex-end;width: 50%;}#sk-container-id-2 div.sk-parallel-item:last-child::after {align-self: flex-start;width: 50%;}#sk-container-id-2 div.sk-parallel-item:only-child::after {width: 0;}#sk-container-id-2 div.sk-dashed-wrapped {border: 1px dashed gray;margin: 0 0.4em 0.5em 0.4em;box-sizing: border-box;padding-bottom: 0.4em;background-color: white;}#sk-container-id-2 div.sk-label label {font-family: monospace;font-weight: bold;display: inline-block;line-height: 1.2em;}#sk-container-id-2 div.sk-label-container {text-align: center;}#sk-container-id-2 div.sk-container {/* jupyter's `normalize.less` sets `[hidden] { display: none; }` but bootstrap.min.css set `[hidden] { display: none !important; }` so we also need the `!important` here to be able to override the default hidden behavior on the sphinx rendered scikit-learn.org. See: https://github.com/scikit-learn/scikit-learn/issues/21755 */display: inline-block !important;position: relative;}#sk-container-id-2 div.sk-text-repr-fallback {display: none;}</style><div id=\"sk-container-id-2\" class=\"sk-top-container\"><div class=\"sk-text-repr-fallback\"><pre>Ensemble(intercept=-0.19126261261767485,\n",
              "         models=[AutoMLWrap(model=&lt;flaml.automl.model.LGBMEstimator object at 0x7fb950dbce50&gt;),\n",
              "                 AutoMLWrap(model=&lt;flaml.automl.model.LGBMEstimator object at 0x7fb953a23a60&gt;),\n",
              "                 AutoMLWrap(model=&lt;flaml.automl.model.LGBMEstimator object at 0x7fb94bcbb310&gt;),\n",
              "                 AutoMLWrap(model=&lt;flaml.automl.model.LGBMEstimator object at 0x7fb949751490&gt;),\n",
              "                 AutoMLWrap(model=&lt;flaml.automl.model.LGBMEstimator object at 0x7fb94bc8ffa0&gt;)],\n",
              "         names=[&#x27;slearner&#x27;, &#x27;tlearner&#x27;, &#x27;xlearner&#x27;, &#x27;drlearner&#x27;, &#x27;rlearner&#x27;,\n",
              "                &#x27;drlearner_const&#x27;],\n",
              "         weights=array([-0.        ,  0.81633771,  0.06598891,  0.18570266, -0.        ]))</pre><b>In a Jupyter environment, please rerun this cell to show the HTML representation or trust the notebook. <br />On GitHub, the HTML representation is unable to render, please try loading this page with nbviewer.org.</b></div><div class=\"sk-container\" hidden><div class=\"sk-item\"><div class=\"sk-estimator sk-toggleable\"><input class=\"sk-toggleable__control sk-hidden--visually\" id=\"sk-estimator-id-2\" type=\"checkbox\" checked><label for=\"sk-estimator-id-2\" class=\"sk-toggleable__label sk-toggleable__label-arrow\">Ensemble</label><div class=\"sk-toggleable__content\"><pre>Ensemble(intercept=-0.19126261261767485,\n",
              "         models=[AutoMLWrap(model=&lt;flaml.automl.model.LGBMEstimator object at 0x7fb950dbce50&gt;),\n",
              "                 AutoMLWrap(model=&lt;flaml.automl.model.LGBMEstimator object at 0x7fb953a23a60&gt;),\n",
              "                 AutoMLWrap(model=&lt;flaml.automl.model.LGBMEstimator object at 0x7fb94bcbb310&gt;),\n",
              "                 AutoMLWrap(model=&lt;flaml.automl.model.LGBMEstimator object at 0x7fb949751490&gt;),\n",
              "                 AutoMLWrap(model=&lt;flaml.automl.model.LGBMEstimator object at 0x7fb94bc8ffa0&gt;)],\n",
              "         names=[&#x27;slearner&#x27;, &#x27;tlearner&#x27;, &#x27;xlearner&#x27;, &#x27;drlearner&#x27;, &#x27;rlearner&#x27;,\n",
              "                &#x27;drlearner_const&#x27;],\n",
              "         weights=array([-0.        ,  0.81633771,  0.06598891,  0.18570266, -0.        ]))</pre></div></div></div></div></div>"
            ]
          },
          "metadata": {},
          "execution_count": 154
        }
      ],
      "source": [
        "from sklearn.linear_model import RidgeCV\n",
        "\n",
        "F = np.array([m.predict(Xval) for m in models]).T\n",
        "meansF = np.mean(F, axis=0)\n",
        "F = F - meansF\n",
        "# One of LassoCV(fit_intercept=False) or ElasticNetCV(fit_intercept=False) or\n",
        "# or LinearRegression(fit_intercept=False) or LassoCV(positive=True, fit_intercept=False)\n",
        "stacker = LassoCV(fit_intercept=False)\n",
        "if score_name == 'DRscore':\n",
        "    stacker.fit(F, dr_val - np.mean(dr_preds))\n",
        "    intercept = np.mean(dr_preds) - meansF @ stacker.coef_\n",
        "    stack_ensemble = Ensemble(names, models, stacker.coef_, intercept)\n",
        "elif score_name == 'Rscore':\n",
        "    # we will avoid penalizing the intercept of the CATE by multiplying the constant 1\n",
        "    # by a large number; equivalently this divides the penalty for that parameter by that number\n",
        "    stacker.fit(F * Dres_val.reshape(-1, 1), yres_val - np.mean(dr_preds) * Dres_val)\n",
        "    intercept = np.mean(dr_preds) - meansF @ stacker.coef_\n",
        "    stack_ensemble = Ensemble(names, models, stacker.coef_, intercept)\n",
        "\n",
        "stack_ensemble"
      ]
    },
    {
      "cell_type": "markdown",
      "metadata": {
        "id": "75IxpA1naP8x"
      },
      "source": [
        "### Hypothesis Test Based on Doubly Robust Best-Linear Predictor "
      ]
    },
    {
      "cell_type": "code",
      "execution_count": null,
      "metadata": {
        "id": "qUDAFhKUaQqg",
        "colab": {
          "base_uri": "https://localhost:8080/",
          "height": 444
        },
        "outputId": "c0d99796-009f-42fe-aabd-39f7aac4a810"
      },
      "outputs": [
        {
          "output_type": "execute_result",
          "data": {
            "text/plain": [
              "<class 'statsmodels.iolib.summary.Summary'>\n",
              "\"\"\"\n",
              "                            OLS Regression Results                            \n",
              "==============================================================================\n",
              "Dep. Variable:                      y   R-squared:                       0.085\n",
              "Model:                            OLS   Adj. R-squared:                  0.084\n",
              "Method:                 Least Squares   F-statistic:                     226.4\n",
              "Date:                Fri, 24 Mar 2023   Prob (F-statistic):           5.32e-49\n",
              "Time:                        04:01:36   Log-Likelihood:                -10211.\n",
              "No. Observations:                2445   AIC:                         2.043e+04\n",
              "Df Residuals:                    2443   BIC:                         2.044e+04\n",
              "Df Model:                           1                                         \n",
              "Covariance Type:            nonrobust                                         \n",
              "==============================================================================\n",
              "                 coef    std err          t      P>|t|      [0.025      0.975]\n",
              "------------------------------------------------------------------------------\n",
              "const         -0.0601      0.443     -0.135      0.892      -0.930       0.810\n",
              "x1             1.0103      0.067     15.047      0.000       0.879       1.142\n",
              "==============================================================================\n",
              "Omnibus:                     1972.288   Durbin-Watson:                   1.988\n",
              "Prob(Omnibus):                  0.000   Jarque-Bera (JB):          3721335.402\n",
              "Skew:                           2.354   Prob(JB):                         0.00\n",
              "Kurtosis:                     194.066   Cond. No.                         9.29\n",
              "==============================================================================\n",
              "\n",
              "Notes:\n",
              "[1] Standard Errors assume that the covariance matrix of the errors is correctly specified.\n",
              "\"\"\""
            ],
            "text/html": [
              "<table class=\"simpletable\">\n",
              "<caption>OLS Regression Results</caption>\n",
              "<tr>\n",
              "  <th>Dep. Variable:</th>            <td>y</td>        <th>  R-squared:         </th> <td>   0.085</td> \n",
              "</tr>\n",
              "<tr>\n",
              "  <th>Model:</th>                   <td>OLS</td>       <th>  Adj. R-squared:    </th> <td>   0.084</td> \n",
              "</tr>\n",
              "<tr>\n",
              "  <th>Method:</th>             <td>Least Squares</td>  <th>  F-statistic:       </th> <td>   226.4</td> \n",
              "</tr>\n",
              "<tr>\n",
              "  <th>Date:</th>             <td>Fri, 24 Mar 2023</td> <th>  Prob (F-statistic):</th> <td>5.32e-49</td> \n",
              "</tr>\n",
              "<tr>\n",
              "  <th>Time:</th>                 <td>04:01:36</td>     <th>  Log-Likelihood:    </th> <td> -10211.</td> \n",
              "</tr>\n",
              "<tr>\n",
              "  <th>No. Observations:</th>      <td>  2445</td>      <th>  AIC:               </th> <td>2.043e+04</td>\n",
              "</tr>\n",
              "<tr>\n",
              "  <th>Df Residuals:</th>          <td>  2443</td>      <th>  BIC:               </th> <td>2.044e+04</td>\n",
              "</tr>\n",
              "<tr>\n",
              "  <th>Df Model:</th>              <td>     1</td>      <th>                     </th>     <td> </td>    \n",
              "</tr>\n",
              "<tr>\n",
              "  <th>Covariance Type:</th>      <td>nonrobust</td>    <th>                     </th>     <td> </td>    \n",
              "</tr>\n",
              "</table>\n",
              "<table class=\"simpletable\">\n",
              "<tr>\n",
              "    <td></td>       <th>coef</th>     <th>std err</th>      <th>t</th>      <th>P>|t|</th>  <th>[0.025</th>    <th>0.975]</th>  \n",
              "</tr>\n",
              "<tr>\n",
              "  <th>const</th> <td>   -0.0601</td> <td>    0.443</td> <td>   -0.135</td> <td> 0.892</td> <td>   -0.930</td> <td>    0.810</td>\n",
              "</tr>\n",
              "<tr>\n",
              "  <th>x1</th>    <td>    1.0103</td> <td>    0.067</td> <td>   15.047</td> <td> 0.000</td> <td>    0.879</td> <td>    1.142</td>\n",
              "</tr>\n",
              "</table>\n",
              "<table class=\"simpletable\">\n",
              "<tr>\n",
              "  <th>Omnibus:</th>       <td>1972.288</td> <th>  Durbin-Watson:     </th>  <td>   1.988</td>  \n",
              "</tr>\n",
              "<tr>\n",
              "  <th>Prob(Omnibus):</th>  <td> 0.000</td>  <th>  Jarque-Bera (JB):  </th> <td>3721335.402</td>\n",
              "</tr>\n",
              "<tr>\n",
              "  <th>Skew:</th>           <td> 2.354</td>  <th>  Prob(JB):          </th>  <td>    0.00</td>  \n",
              "</tr>\n",
              "<tr>\n",
              "  <th>Kurtosis:</th>       <td>194.066</td> <th>  Cond. No.          </th>  <td>    9.29</td>  \n",
              "</tr>\n",
              "</table><br/><br/>Notes:<br/>[1] Standard Errors assume that the covariance matrix of the errors is correctly specified."
            ]
          },
          "metadata": {},
          "execution_count": 155
        }
      ],
      "source": [
        "overall_best = stack_ensemble\n",
        "dr_test = calculate_dr_outcomes(X, D, y, groups, Xtest, Dtest, ytest, groupstest)\n",
        "cate_test = overall_best.predict(Xtest)\n",
        "OLS(dr_test, np.stack((np.ones(len(dr_test)), cate_test), axis=-1)).fit().summary()"
      ]
    },
    {
      "cell_type": "markdown",
      "metadata": {
        "id": "LU9QoUU3aTzQ"
      },
      "source": [
        "**The coefficient is close to 1 as expected and significant.**"
      ]
    },
    {
      "cell_type": "markdown",
      "metadata": {
        "id": "x0so94cWb4cr"
      },
      "source": [
        "## Uplifting Curves\n"
      ]
    },
    {
      "cell_type": "code",
      "execution_count": null,
      "metadata": {
        "id": "NhJBdNOZaSey",
        "colab": {
          "base_uri": "https://localhost:8080/",
          "height": 285
        },
        "outputId": "a8830a3f-27e5-4be0-8dea-c8c5979f3584"
      },
      "outputs": [
        {
          "output_type": "display_data",
          "data": {
            "text/plain": [
              "<Figure size 432x288 with 1 Axes>"
            ],
            "image/png": "[encoded data removed]"
          },
          "metadata": {}
        }
      ],
      "source": [
        "\n",
        "# Based on out-of-sample CATE thresholds\n",
        "ugrid = np.linspace(5, 95, 50)\n",
        "qs = np.percentile(overall_best.predict(Xval), ugrid)\n",
        "\n",
        "toc, toc_std, group_prob = np.zeros(len(qs)), np.zeros(len(qs)), np.zeros(len(qs))\n",
        "true_toc = np.zeros(len(qs))\n",
        "toc_psi = np.zeros((len(qs), dr_test.shape[0])) # influence function representation of the TOC at each quantile\n",
        "n = len(dr_test)\n",
        "ate = np.mean(dr_test)\n",
        "for it in range(len(qs)):\n",
        "    inds = (qs[it] <= cate_test) # group with larger CATE prediction than the q-th quantile\n",
        "    group_prob = np.sum(inds) / n # fraction of population in this group\n",
        "    toc[it]= np.mean(dr_test[inds]) - ate # tau(q) := E[Y(1) - Y(0) | tau(X) >= q[it]] - E[Y(1) - Y(0)]\n",
        "    # influence function for the tau(q); it is a standard influence function of a \"covariance\"\n",
        "    toc_psi[it, :] = (dr_test - ate) * (inds / group_prob - 1) - toc[it]\n",
        "    toc_std[it] = np.sqrt(np.mean(toc_psi[it]**2) / n) # standard error of tau(q)\n",
        "\n",
        "plt.errorbar(100 - ugrid, toc, yerr=1.96*toc_std, fmt='o', label='Est. TOC')\n",
        "plt.plot(100 - ugrid, np.zeros(len(ugrid)))\n",
        "plt.xlabel(\"Percentage treated\")\n",
        "plt.ylabel(\"Gain in Average Effect of Treated by CATE over Random\")\n",
        "plt.legend()\n",
        "plt.show()"
      ]
    },
    {
      "cell_type": "code",
      "execution_count": null,
      "metadata": {
        "id": "-Thq18AkcW5w",
        "colab": {
          "base_uri": "https://localhost:8080/",
          "height": 303
        },
        "outputId": "184a766f-a361-43c5-bef9-5b0176a40c86"
      },
      "outputs": [
        {
          "output_type": "stream",
          "name": "stdout",
          "text": [
            "2.9762965444852703\n"
          ]
        },
        {
          "output_type": "display_data",
          "data": {
            "text/plain": [
              "<Figure size 432x288 with 1 Axes>"
            ],
            "image/png": "[encoded data removed]"
          },
          "metadata": {}
        }
      ],
      "source": [
        "## Multiplier Boostrap CI\n",
        "if dr_test.shape[0] > 1e6:\n",
        "    mboot = np.zeros((len(qs), 1000))\n",
        "    for it in range(1000):\n",
        "        w = np.random.normal(0, 1, size=(dr_test.shape[0],))\n",
        "        mboot[:, it] = (toc_psi / toc_std.reshape(-1, 1)) @ w / n\n",
        "else:\n",
        "    w = np.random.normal(0, 1, size=(dr_test.shape[0], 1000))\n",
        "    mboot = (toc_psi / toc_std.reshape(-1, 1)) @ w / n\n",
        "\n",
        "max_mboot = np.max(np.abs(mboot), axis=0)\n",
        "uniform_critical_value = np.percentile(max_mboot, 95)\n",
        "print(uniform_critical_value)\n",
        "plt.errorbar(100 - ugrid, toc, yerr=uniform_critical_value*toc_std, fmt='o', label='Est. TOC')\n",
        "plt.plot(100 - ugrid, np.zeros(len(ugrid)))\n",
        "plt.xlabel(\"Percentage treated\")\n",
        "plt.ylabel(\"Gain in Average Effect of Treated by CATE over Random\")\n",
        "plt.legend()\n",
        "plt.show()"
      ]
    },
    {
      "cell_type": "code",
      "execution_count": null,
      "metadata": {
        "id": "Ca-O0Vd5dBRy",
        "colab": {
          "base_uri": "https://localhost:8080/",
          "height": 302
        },
        "outputId": "c5929ad8-d72e-47df-cc7b-c401563f6ce8"
      },
      "outputs": [
        {
          "output_type": "stream",
          "name": "stdout",
          "text": [
            "2.751541220537251\n"
          ]
        },
        {
          "output_type": "display_data",
          "data": {
            "text/plain": [
              "<Figure size 432x288 with 1 Axes>"
            ],
            "image/png": "[encoded data removed]"
          },
          "metadata": {}
        }
      ],
      "source": [
        "## one-sided test for identifying CATE\n",
        "min_mboot = np.min(mboot, axis=0)\n",
        "uniform_one_side_critical_value = np.abs(np.percentile(min_mboot, 5))\n",
        "print(uniform_one_side_critical_value)\n",
        "plt.errorbar(100 - ugrid, toc,\n",
        "             yerr=[uniform_one_side_critical_value*toc_std, np.zeros(len(toc))], fmt='o', label='Est. TOC')\n",
        "plt.plot(100 - ugrid, np.zeros(len(ugrid)))\n",
        "plt.xlabel(\"Percentage treated\")\n",
        "plt.ylabel(\"Gain in Average Effect of Treated by CATE over Random\")\n",
        "plt.legend()\n",
        "plt.show()"
      ]
    },
    {
      "cell_type": "code",
      "execution_count": null,
      "metadata": {
        "id": "4QTuyxApdG9I",
        "colab": {
          "base_uri": "https://localhost:8080/"
        },
        "outputId": "a65c9c02-e366-4206-c94f-6481169c640e"
      },
      "outputs": [
        {
          "output_type": "stream",
          "name": "stdout",
          "text": [
            "Heterogeneity Statistic: 7.349081395177081\n"
          ]
        }
      ],
      "source": [
        "print(f'Heterogeneity Statistic: {np.max(toc - uniform_one_side_critical_value*toc_std)}')"
      ]
    },
    {
      "cell_type": "code",
      "execution_count": null,
      "metadata": {
        "id": "LzPQ4S3cdWxa",
        "colab": {
          "base_uri": "https://localhost:8080/"
        },
        "outputId": "a14e7f4d-b158-4ace-fdf4-90161da99633"
      },
      "outputs": [
        {
          "output_type": "stream",
          "name": "stdout",
          "text": [
            "AUTOC: 3.5544, s.e.: 0.2293, One-Sided 95% CI=[3.1772, Infty]\n"
          ]
        }
      ],
      "source": [
        "autoc_psi = np.sum(toc_psi[:-1] * np.diff(ugrid).reshape(-1, 1) / 100, 0)\n",
        "autoc = np.sum(toc[:-1] * np.diff(ugrid) / 100)\n",
        "autoc_stderr = np.sqrt(np.mean(autoc_psi**2) / n)\n",
        "print(f'AUTOC: {autoc:.4f}, s.e.: {autoc_stderr:.4f}, '\n",
        "      f'One-Sided 95% CI=[{autoc - scipy.stats.norm.ppf(.95) * autoc_stderr:.4f}, Infty]')"
      ]
    },
    {
      "cell_type": "markdown",
      "metadata": {
        "id": "cpbi02AgdXz2"
      },
      "source": [
        "**Since the confidence interval does not contain zero, then we have again detected heterogeneity.**"
      ]
    },
    {
      "cell_type": "code",
      "source": [
        "from statsmodels.formula.api import ols\n",
        "xfeat = 'financial_autonomy_index'\n",
        "df2 = X.copy()\n",
        "df2['dr'] = dr_preds\n",
        "lr = ols('dr ~ financial_autonomy_index', df2).fit(cov_type='HC1')\n",
        "print(lr.summary())"
      ],
      "metadata": {
        "colab": {
          "base_uri": "https://localhost:8080/"
        },
        "id": "T_DrgU_o0nkm",
        "outputId": "c99a786d-394f-4aec-e097-f09e218eec8d"
      },
      "execution_count": null,
      "outputs": [
        {
          "output_type": "stream",
          "name": "stdout",
          "text": [
            "                            OLS Regression Results                            \n",
            "==============================================================================\n",
            "Dep. Variable:                     dr   R-squared:                       0.001\n",
            "Model:                            OLS   Adj. R-squared:                  0.001\n",
            "Method:                 Least Squares   F-statistic:                     4.930\n",
            "Date:                Fri, 24 Mar 2023   Prob (F-statistic):             0.0264\n",
            "Time:                        04:17:15   Log-Likelihood:                -34427.\n",
            "No. Observations:                7333   AIC:                         6.886e+04\n",
            "Df Residuals:                    7331   BIC:                         6.887e+04\n",
            "Df Model:                           1                                         \n",
            "Covariance Type:                  HC1                                         \n",
            "============================================================================================\n",
            "                               coef    std err          z      P>|z|      [0.025      0.975]\n",
            "--------------------------------------------------------------------------------------------\n",
            "Intercept                    6.2072      0.833      7.449      0.000       4.574       7.840\n",
            "financial_autonomy_index    -0.0352      0.016     -2.220      0.026      -0.066      -0.004\n",
            "==============================================================================\n",
            "Omnibus:                       46.727   Durbin-Watson:                   2.012\n",
            "Prob(Omnibus):                  0.000   Jarque-Bera (JB):               36.083\n",
            "Skew:                          -0.082   Prob(JB):                     1.46e-08\n",
            "Kurtosis:                       2.698   Cond. No.                         143.\n",
            "==============================================================================\n",
            "\n",
            "Notes:\n",
            "[1] Standard Errors are heteroscedasticity robust (HC1)\n"
          ]
        }
      ]
    },
    {
      "cell_type": "code",
      "source": [
        "grid = np.unique(np.percentile(X[xfeat], np.arange(0, 110, 20)))\n",
        "Xpd = pd.DataFrame(np.tile(np.median(X, axis=0, keepdims=True), (len(grid), 1)),\n",
        "                    columns=X.columns)\n",
        "Xpd[xfeat] = grid\n",
        "pred_df = lr.get_prediction(Xpd).summary_frame(alpha=.1)"
      ],
      "metadata": {
        "id": "5vu2sbCX1S-g"
      },
      "execution_count": null,
      "outputs": []
    },
    {
      "cell_type": "code",
      "execution_count": null,
      "metadata": {
        "id": "a6fQj1mKkZtB",
        "colab": {
          "base_uri": "https://localhost:8080/",
          "height": 783
        },
        "outputId": "6dd489a0-227b-4da8-a853-2eed06d1919b"
      },
      "outputs": [
        {
          "output_type": "stream",
          "name": "stdout",
          "text": [
            "Looking in indexes: https://pypi.org/simple, https://us-python.pkg.dev/colab-wheels/public/simple/\n",
            "Collecting econml\n",
            "  Downloading econml-0.14.0-cp39-cp39-manylinux_2_17_x86_64.manylinux2014_x86_64.whl (3.5 MB)\n",
            "\u001b[2K     \u001b[90m━━━━━━━━━━━━━━━━━━━━━━━━━━━━━━━━━━━━━━━━\u001b[0m \u001b[32m3.5/3.5 MB\u001b[0m \u001b[31m25.0 MB/s\u001b[0m eta \u001b[36m0:00:00\u001b[0m\n",
            "\u001b[?25hRequirement already satisfied: joblib>=0.13.0 in /usr/local/lib/python3.9/dist-packages (from econml) (1.1.1)\n",
            "Collecting shap<0.41.0,>=0.38.1\n",
            "  Downloading shap-0.40.0-cp39-cp39-manylinux2010_x86_64.whl (567 kB)\n",
            "\u001b[2K     \u001b[90m━━━━━━━━━━━━━━━━━━━━━━━━━━━━━━━━━━━━━━\u001b[0m \u001b[32m567.6/567.6 KB\u001b[0m \u001b[31m28.9 MB/s\u001b[0m eta \u001b[36m0:00:00\u001b[0m\n",
            "\u001b[?25hRequirement already satisfied: scipy>1.4.0 in /usr/local/lib/python3.9/dist-packages (from econml) (1.10.1)\n",
            "Requirement already satisfied: pandas in /usr/local/lib/python3.9/dist-packages (from econml) (1.4.4)\n",
            "Requirement already satisfied: lightgbm in /usr/local/lib/python3.9/dist-packages (from econml) (3.3.5)\n",
            "Requirement already satisfied: numpy in /usr/local/lib/python3.9/dist-packages (from econml) (1.22.4)\n",
            "Collecting sparse\n",
            "  Downloading sparse-0.14.0-py2.py3-none-any.whl (80 kB)\n",
            "\u001b[2K     \u001b[90m━━━━━━━━━━━━━━━━━━━━━━━━━━━━━━━━━━━━━━━━\u001b[0m \u001b[32m81.0/81.0 KB\u001b[0m \u001b[31m5.4 MB/s\u001b[0m eta \u001b[36m0:00:00\u001b[0m\n",
            "\u001b[?25hCollecting scikit-learn<1.2,>0.22.0\n",
            "  Downloading scikit_learn-1.1.3-cp39-cp39-manylinux_2_17_x86_64.manylinux2014_x86_64.whl (30.8 MB)\n",
            "\u001b[2K     \u001b[90m━━━━━━━━━━━━━━━━━━━━━━━━━━━━━━━━━━━━━━━━\u001b[0m \u001b[32m30.8/30.8 MB\u001b[0m \u001b[31m9.9 MB/s\u001b[0m eta \u001b[36m0:00:00\u001b[0m\n",
            "\u001b[?25hRequirement already satisfied: statsmodels>=0.10 in /usr/local/lib/python3.9/dist-packages (from econml) (0.13.5)\n",
            "Requirement already satisfied: threadpoolctl>=2.0.0 in /usr/local/lib/python3.9/dist-packages (from scikit-learn<1.2,>0.22.0->econml) (3.1.0)\n",
            "Requirement already satisfied: numba in /usr/local/lib/python3.9/dist-packages (from shap<0.41.0,>=0.38.1->econml) (0.56.4)\n",
            "Requirement already satisfied: tqdm>4.25.0 in /usr/local/lib/python3.9/dist-packages (from shap<0.41.0,>=0.38.1->econml) (4.65.0)\n",
            "Requirement already satisfied: cloudpickle in /usr/local/lib/python3.9/dist-packages (from shap<0.41.0,>=0.38.1->econml) (2.2.1)\n",
            "Collecting slicer==0.0.7\n",
            "  Downloading slicer-0.0.7-py3-none-any.whl (14 kB)\n",
            "Requirement already satisfied: packaging>20.9 in /usr/local/lib/python3.9/dist-packages (from shap<0.41.0,>=0.38.1->econml) (23.0)\n",
            "Requirement already satisfied: patsy>=0.5.2 in /usr/local/lib/python3.9/dist-packages (from statsmodels>=0.10->econml) (0.5.3)\n",
            "Requirement already satisfied: python-dateutil>=2.8.1 in /usr/local/lib/python3.9/dist-packages (from pandas->econml) (2.8.2)\n",
            "Requirement already satisfied: pytz>=2020.1 in /usr/local/lib/python3.9/dist-packages (from pandas->econml) (2022.7.1)\n",
            "Requirement already satisfied: wheel in /usr/local/lib/python3.9/dist-packages (from lightgbm->econml) (0.40.0)\n",
            "Requirement already satisfied: setuptools in /usr/local/lib/python3.9/dist-packages (from numba->shap<0.41.0,>=0.38.1->econml) (67.6.0)\n",
            "Requirement already satisfied: llvmlite<0.40,>=0.39.0dev0 in /usr/local/lib/python3.9/dist-packages (from numba->shap<0.41.0,>=0.38.1->econml) (0.39.1)\n",
            "Requirement already satisfied: six in /usr/local/lib/python3.9/dist-packages (from patsy>=0.5.2->statsmodels>=0.10->econml) (1.16.0)\n",
            "Installing collected packages: slicer, sparse, scikit-learn, shap, econml\n",
            "  Attempting uninstall: scikit-learn\n",
            "    Found existing installation: scikit-learn 1.2.2\n",
            "    Uninstalling scikit-learn-1.2.2:\n",
            "      Successfully uninstalled scikit-learn-1.2.2\n",
            "Successfully installed econml-0.14.0 scikit-learn-1.1.3 shap-0.40.0 slicer-0.0.7 sparse-0.14.0\n"
          ]
        },
        {
          "output_type": "display_data",
          "data": {
            "application/vnd.colab-display-data+json": {
              "pip_warning": {
                "packages": [
                  "sklearn"
                ]
              }
            }
          },
          "metadata": {}
        },
        {
          "output_type": "stream",
          "name": "stdout",
          "text": [
            "financial_autonomy_index\n"
          ]
        }
      ],
      "source": [
        "## Confidence Intervals with Causal Forests\n",
        "!pip install econml\n",
        "from econml.grf import CausalForest\n",
        "\n",
        "yres = y - res_preds\n",
        "Dres = D - prop_preds\n",
        "cf = CausalForest(4000, criterion='het', max_depth=5, max_samples=.4, min_samples_leaf=50, min_weight_fraction_leaf=.0)\n",
        "cf.fit(X, Dres, yres)\n",
        "top_feat = np.argsort(cf.feature_importances_)[-1]\n",
        "print(X.columns[top_feat])"
      ]
    },
    {
      "cell_type": "code",
      "execution_count": null,
      "metadata": {
        "id": "gTASncbJk2NM",
        "colab": {
          "base_uri": "https://localhost:8080/",
          "height": 285
        },
        "outputId": "f2c6101f-c458-4542-f2e2-a46ff2c9c466"
      },
      "outputs": [
        {
          "output_type": "display_data",
          "data": {
            "text/plain": [
              "<Figure size 432x288 with 1 Axes>"
            ],
            "image/png": "[encoded data removed]"
          },
          "metadata": {}
        }
      ],
      "source": [
        "grid = np.unique(np.percentile(X.iloc[:, top_feat], np.arange(0, 105, 5)))\n",
        "Zpd = pd.DataFrame(np.tile(np.median(X, axis=0, keepdims=True), (len(grid), 1)),\n",
        "                    columns=X.columns)\n",
        "Zpd.iloc[:, top_feat] = grid\n",
        "\n",
        "preds, lb, ub = cf.predict(Zpd, interval=True, alpha=.1)\n",
        "preds = preds.flatten()\n",
        "lb = lb.flatten()\n",
        "ub = ub.flatten()\n",
        "plt.errorbar(Zpd.iloc[:, top_feat], preds, yerr=(preds-lb, ub-preds))\n",
        "plt.xlabel(Zpd.columns[top_feat])\n",
        "plt.ylabel('Predicted CATE (at median value of other features)')\n",
        "plt.show()"
      ]
    },
    {
      "cell_type": "code",
      "execution_count": null,
      "metadata": {
        "id": "yquN925ElYNk",
        "colab": {
          "base_uri": "https://localhost:8080/"
        },
        "outputId": "3bf1c8d6-d50c-44a6-d39f-fa9b76406f4a"
      },
      "outputs": [
        {
          "output_type": "stream",
          "name": "stdout",
          "text": [
            "school\n"
          ]
        }
      ],
      "source": [
        "## Confidence Intervals with Double Forests\n",
        "from econml.grf import RegressionForest\n",
        "\n",
        "drrf = RegressionForest(4000, max_depth=5, max_samples=.4, min_samples_leaf=50,\n",
        "                       min_weight_fraction_leaf=.0)\n",
        "drrf.fit(X, dr_preds)\n",
        "top_feat = np.argsort(drrf.feature_importances_)[-1]\n",
        "print(X.columns[top_feat])"
      ]
    },
    {
      "cell_type": "code",
      "execution_count": null,
      "metadata": {
        "id": "jSFoVmtWlg4V",
        "colab": {
          "base_uri": "https://localhost:8080/",
          "height": 285
        },
        "outputId": "dc18c934-22e8-4b37-fcd2-e2adeffbc320"
      },
      "outputs": [
        {
          "output_type": "display_data",
          "data": {
            "text/plain": [
              "<Figure size 432x288 with 1 Axes>"
            ],
            "image/png": "[encoded data removed]"
          },
          "metadata": {}
        }
      ],
      "source": [
        "grid = np.unique(np.percentile(X.iloc[:, top_feat], np.arange(0, 105, 5)))\n",
        "Zpd = pd.DataFrame(np.tile(np.median(X, axis=0, keepdims=True), (len(grid), 1)),\n",
        "                    columns=X.columns)\n",
        "Zpd.iloc[:, top_feat] = grid\n",
        "\n",
        "preds, lb, ub = drrf.predict(Zpd, interval=True, alpha=.1)\n",
        "preds = preds.flatten()\n",
        "lb = lb.flatten()\n",
        "ub = ub.flatten()\n",
        "plt.errorbar(Zpd.iloc[:, top_feat], preds, yerr=(preds-lb, ub-preds))\n",
        "plt.xlabel(Zpd.columns[top_feat])\n",
        "plt.ylabel('Predicted CATE (at median value of other features)')\n",
        "plt.show()"
      ]
    },
    {
      "cell_type": "markdown",
      "metadata": {
        "id": "_0V-E7c7kb13"
      },
      "source": [
        "CATE for different groups (female vs male students) to see if there are heterogeneous treatment effects here"
      ]
    },
    {
      "cell_type": "code",
      "execution_count": null,
      "metadata": {
        "id": "up4Sd_sTkZWa",
        "colab": {
          "base_uri": "https://localhost:8080/"
        },
        "outputId": "bccc2061-aa78-4d10-ccdb-0d60096acb56"
      },
      "outputs": [
        {
          "output_type": "execute_result",
          "data": {
            "text/plain": [
              "4.350783915361541"
            ]
          },
          "metadata": {},
          "execution_count": 167
        }
      ],
      "source": [
        "np.mean(drlearner.predict(X[X.is_female == 1]))"
      ]
    },
    {
      "cell_type": "code",
      "execution_count": null,
      "metadata": {
        "id": "BLHoi02Ukj74",
        "colab": {
          "base_uri": "https://localhost:8080/"
        },
        "outputId": "d42f32b9-b022-4d9e-ec89-7552c5e747fc"
      },
      "outputs": [
        {
          "output_type": "execute_result",
          "data": {
            "text/plain": [
              "4.645900396790542"
            ]
          },
          "metadata": {},
          "execution_count": 166
        }
      ],
      "source": [
        "np.mean(drlearner.predict(X[X.is_female == 0]))"
      ]
    },
    {
      "cell_type": "markdown",
      "metadata": {
        "id": "P6eQWUFwkmev"
      },
      "source": [
        "**There does not appear to be a significant difference in ATE for these groups, although slightly higher for males at 4.65 instead of 4.35 for females.**"
      ]
    },
    {
      "cell_type": "markdown",
      "metadata": {
        "id": "IYRZlAC8IEKc"
      },
      "source": [
        "### *d. Compare the results of the three methods and what do the corresponding treatment effects imply about the real world. Are the results consistent with each other and if not what could be causing the difference? Are any findings statistically significant? Are the numbers returned by the methods reasonable? If they are not what violation of the assumptions of each of the methods could have caused this. Are there any of the assumptions of the methods potentially being violated in the way the dataset was collected.*"
      ]
    },
    {
      "cell_type": "markdown",
      "metadata": {
        "id": "xozxutIjQB39"
      },
      "source": [
        "**All three methods show a positive average treatment effect, indicating that participation in the school financial education program did improve students' performance on the financial proficiency test at a statistically significant level.**\n",
        "\n",
        "**Across all three methods, and including among the different meta-learners, we see an ATE consistently ranging from around 4.2-4.8, except for the R-learner which shows an ATE of 2 or 8 depending on the propensity score. The emsemble places the least (or zero) weight on the s-learner and the r-learner. The ATE returned by most methods suggests that participating in the study increased average test score by around 4.5 points (out of 100), which seems reasonable. The causal effect of the treatment on financial proficiency does not appear to differ between female and male students.**"
      ]
    }
  ],
  "metadata": {
    "colab": {
      "provenance": [],
      "include_colab_link": true
    },
    "kernelspec": {
      "display_name": "Python 3",
      "name": "python3"
    },
    "language_info": {
      "name": "python"
    }
  },
  "nbformat": 4,
  "nbformat_minor": 0
}